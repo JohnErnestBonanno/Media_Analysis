{
 "cells": [
  {
   "cell_type": "code",
   "execution_count": 1,
   "metadata": {
    "collapsed": true
   },
   "outputs": [],
   "source": [
    "import pandas as pd\n",
    "import seaborn as sns\n",
    "import matplotlib.pyplot as plt # to change styles\n",
    "import matplotlib.style as style\n",
    "\n",
    "#import magic line to show graphs in jupyter notebook\n",
    "%matplotlib inline\n",
    "\n",
    "#need to clean episode 0 that is showing up... "
   ]
  },
  {
   "cell_type": "code",
   "execution_count": 2,
   "metadata": {},
   "outputs": [],
   "source": [
    "#formating for seaborn\n",
    "#style.available"
   ]
  },
  {
   "cell_type": "code",
   "execution_count": 3,
   "metadata": {
    "collapsed": true
   },
   "outputs": [],
   "source": [
    "style.use('seaborn')"
   ]
  },
  {
   "cell_type": "code",
   "execution_count": 4,
   "metadata": {
    "collapsed": true
   },
   "outputs": [],
   "source": [
    "df = pd.read_csv('atla+lok+tdp.csv',index_col = 0)"
   ]
  },
  {
   "cell_type": "code",
   "execution_count": 5,
   "metadata": {},
   "outputs": [
    {
     "data": {
      "text/html": [
       "<div>\n",
       "<style scoped>\n",
       "    .dataframe tbody tr th:only-of-type {\n",
       "        vertical-align: middle;\n",
       "    }\n",
       "\n",
       "    .dataframe tbody tr th {\n",
       "        vertical-align: top;\n",
       "    }\n",
       "\n",
       "    .dataframe thead th {\n",
       "        text-align: right;\n",
       "    }\n",
       "</style>\n",
       "<table border=\"1\" class=\"dataframe\">\n",
       "  <thead>\n",
       "    <tr style=\"text-align: right;\">\n",
       "      <th></th>\n",
       "      <th>title</th>\n",
       "      <th>episode of</th>\n",
       "      <th>season</th>\n",
       "      <th>episode</th>\n",
       "      <th>rating</th>\n",
       "      <th>votes</th>\n",
       "      <th>original air date</th>\n",
       "      <th>year</th>\n",
       "      <th>plot</th>\n",
       "      <th>show_code</th>\n",
       "    </tr>\n",
       "  </thead>\n",
       "  <tbody>\n",
       "    <tr>\n",
       "      <th>0</th>\n",
       "      <td>The Boy in the Iceberg</td>\n",
       "      <td>Avatar: The Last Airbender</td>\n",
       "      <td>1</td>\n",
       "      <td>1</td>\n",
       "      <td>8.101235</td>\n",
       "      <td>2024</td>\n",
       "      <td>2005-02-21</td>\n",
       "      <td>2005</td>\n",
       "      <td>\\n    The legend of the Avatar is told. Katara...</td>\n",
       "      <td>atla</td>\n",
       "    </tr>\n",
       "    <tr>\n",
       "      <th>1</th>\n",
       "      <td>The Avatar Returns</td>\n",
       "      <td>Avatar: The Last Airbender</td>\n",
       "      <td>1</td>\n",
       "      <td>2</td>\n",
       "      <td>8.301235</td>\n",
       "      <td>1773</td>\n",
       "      <td>2005-02-21</td>\n",
       "      <td>2005</td>\n",
       "      <td>\\n    Aang and Katara inadvertently set off a ...</td>\n",
       "      <td>atla</td>\n",
       "    </tr>\n",
       "    <tr>\n",
       "      <th>2</th>\n",
       "      <td>The Southern Air Temple</td>\n",
       "      <td>Avatar: The Last Airbender</td>\n",
       "      <td>1</td>\n",
       "      <td>3</td>\n",
       "      <td>8.501235</td>\n",
       "      <td>1691</td>\n",
       "      <td>2005-02-25</td>\n",
       "      <td>2005</td>\n",
       "      <td>\\n    After his departure from the Southern Ai...</td>\n",
       "      <td>atla</td>\n",
       "    </tr>\n",
       "    <tr>\n",
       "      <th>3</th>\n",
       "      <td>The Warriors of Kyoshi</td>\n",
       "      <td>Avatar: The Last Airbender</td>\n",
       "      <td>1</td>\n",
       "      <td>4</td>\n",
       "      <td>8.201235</td>\n",
       "      <td>1634</td>\n",
       "      <td>2005-03-04</td>\n",
       "      <td>2005</td>\n",
       "      <td>\\n    The gang arrives at Kyoshi Island and ar...</td>\n",
       "      <td>atla</td>\n",
       "    </tr>\n",
       "    <tr>\n",
       "      <th>4</th>\n",
       "      <td>The King of Omashu</td>\n",
       "      <td>Avatar: The Last Airbender</td>\n",
       "      <td>1</td>\n",
       "      <td>5</td>\n",
       "      <td>8.201235</td>\n",
       "      <td>1649</td>\n",
       "      <td>2005-03-18</td>\n",
       "      <td>2005</td>\n",
       "      <td>\\n    Aang's abilities as an airbender are cha...</td>\n",
       "      <td>atla</td>\n",
       "    </tr>\n",
       "  </tbody>\n",
       "</table>\n",
       "</div>"
      ],
      "text/plain": [
       "                     title                  episode of  season  episode  \\\n",
       "0   The Boy in the Iceberg  Avatar: The Last Airbender       1        1   \n",
       "1       The Avatar Returns  Avatar: The Last Airbender       1        2   \n",
       "2  The Southern Air Temple  Avatar: The Last Airbender       1        3   \n",
       "3   The Warriors of Kyoshi  Avatar: The Last Airbender       1        4   \n",
       "4       The King of Omashu  Avatar: The Last Airbender       1        5   \n",
       "\n",
       "     rating  votes original air date  year  \\\n",
       "0  8.101235   2024        2005-02-21  2005   \n",
       "1  8.301235   1773        2005-02-21  2005   \n",
       "2  8.501235   1691        2005-02-25  2005   \n",
       "3  8.201235   1634        2005-03-04  2005   \n",
       "4  8.201235   1649        2005-03-18  2005   \n",
       "\n",
       "                                                plot show_code  \n",
       "0  \\n    The legend of the Avatar is told. Katara...      atla  \n",
       "1  \\n    Aang and Katara inadvertently set off a ...      atla  \n",
       "2  \\n    After his departure from the Southern Ai...      atla  \n",
       "3  \\n    The gang arrives at Kyoshi Island and ar...      atla  \n",
       "4  \\n    Aang's abilities as an airbender are cha...      atla  "
      ]
     },
     "execution_count": 5,
     "metadata": {},
     "output_type": "execute_result"
    }
   ],
   "source": [
    "df.head()"
   ]
  },
  {
   "cell_type": "code",
   "execution_count": 8,
   "metadata": {},
   "outputs": [
    {
     "name": "stdout",
     "output_type": "stream",
     "text": [
      "<class 'pandas.core.frame.DataFrame'>\n",
      "Int64Index: 131 entries, 0 to 130\n",
      "Data columns (total 10 columns):\n",
      "title                131 non-null object\n",
      "episode of           131 non-null object\n",
      "season               131 non-null int64\n",
      "episode              131 non-null int64\n",
      "rating               131 non-null float64\n",
      "votes                131 non-null int64\n",
      "original air date    131 non-null object\n",
      "year                 131 non-null int64\n",
      "plot                 131 non-null object\n",
      "show_code            131 non-null object\n",
      "dtypes: float64(1), int64(4), object(5)\n",
      "memory usage: 11.3+ KB\n"
     ]
    }
   ],
   "source": [
    "df.info()"
   ]
  },
  {
   "cell_type": "code",
   "execution_count": 14,
   "metadata": {},
   "outputs": [
    {
     "data": {
      "text/plain": [
       "episode of\n",
       "Avatar: The Last Airbender    8.665169\n",
       "The Legend of Korra           8.641619\n",
       "The Dragon Prince             8.317901\n",
       "Name: rating, dtype: float64"
      ]
     },
     "execution_count": 14,
     "metadata": {},
     "output_type": "execute_result"
    }
   ],
   "source": [
    "# Average Rating by TV Show\n",
    "df.groupby('episode of')['rating'].mean().sort_values(ascending = False)"
   ]
  },
  {
   "cell_type": "code",
   "execution_count": 24,
   "metadata": {},
   "outputs": [
    {
     "data": {
      "text/html": [
       "<div>\n",
       "<style scoped>\n",
       "    .dataframe tbody tr th:only-of-type {\n",
       "        vertical-align: middle;\n",
       "    }\n",
       "\n",
       "    .dataframe tbody tr th {\n",
       "        vertical-align: top;\n",
       "    }\n",
       "\n",
       "    .dataframe thead th {\n",
       "        text-align: right;\n",
       "    }\n",
       "</style>\n",
       "<table border=\"1\" class=\"dataframe\">\n",
       "  <thead>\n",
       "    <tr style=\"text-align: right;\">\n",
       "      <th></th>\n",
       "      <th>count</th>\n",
       "      <th>mean</th>\n",
       "      <th>std</th>\n",
       "      <th>min</th>\n",
       "      <th>max</th>\n",
       "    </tr>\n",
       "    <tr>\n",
       "      <th>episode of</th>\n",
       "      <th></th>\n",
       "      <th></th>\n",
       "      <th></th>\n",
       "      <th></th>\n",
       "      <th></th>\n",
       "    </tr>\n",
       "  </thead>\n",
       "  <tbody>\n",
       "    <tr>\n",
       "      <th>Avatar: The Last Airbender</th>\n",
       "      <td>61.0</td>\n",
       "      <td>8.665169</td>\n",
       "      <td>0.568927</td>\n",
       "      <td>7.101235</td>\n",
       "      <td>9.801235</td>\n",
       "    </tr>\n",
       "    <tr>\n",
       "      <th>The Legend of Korra</th>\n",
       "      <td>52.0</td>\n",
       "      <td>8.641619</td>\n",
       "      <td>0.535874</td>\n",
       "      <td>6.301235</td>\n",
       "      <td>9.601235</td>\n",
       "    </tr>\n",
       "    <tr>\n",
       "      <th>The Dragon Prince</th>\n",
       "      <td>18.0</td>\n",
       "      <td>8.317901</td>\n",
       "      <td>0.339983</td>\n",
       "      <td>7.801235</td>\n",
       "      <td>9.101235</td>\n",
       "    </tr>\n",
       "  </tbody>\n",
       "</table>\n",
       "</div>"
      ],
      "text/plain": [
       "                            count      mean       std       min       max\n",
       "episode of                                                               \n",
       "Avatar: The Last Airbender   61.0  8.665169  0.568927  7.101235  9.801235\n",
       "The Legend of Korra          52.0  8.641619  0.535874  6.301235  9.601235\n",
       "The Dragon Prince            18.0  8.317901  0.339983  7.801235  9.101235"
      ]
     },
     "execution_count": 24,
     "metadata": {},
     "output_type": "execute_result"
    }
   ],
   "source": [
    "#describe returns a df so can index only the columns desired\n",
    "df.groupby('episode of')['rating'].describe()[['count','mean','std','min','max']].sort_values(by = 'mean',ascending = False)"
   ]
  },
  {
   "cell_type": "code",
   "execution_count": 26,
   "metadata": {},
   "outputs": [
    {
     "data": {
      "text/plain": [
       "<matplotlib.axes._subplots.AxesSubplot at 0x1df7a6c33c8>"
      ]
     },
     "execution_count": 26,
     "metadata": {},
     "output_type": "execute_result"
    },
    {
     "data": {
      "image/png": "[encoded data removed]",
      "text/plain": [
       "<Figure size 576x396 with 1 Axes>"
      ]
     },
     "metadata": {},
     "output_type": "display_data"
    }
   ],
   "source": [
    "# Average Rating by TV Show\n",
    "df.groupby('show_code')['rating'].mean().sort_values(ascending = False).plot(kind = 'bar')"
   ]
  },
  {
   "cell_type": "code",
   "execution_count": null,
   "metadata": {
    "collapsed": true
   },
   "outputs": [],
   "source": [
    "#simple stats tutorial \n",
    "#https://machinelearningmastery.com/parametric-statistical-significance-tests-in-python/"
   ]
  },
  {
   "cell_type": "code",
   "execution_count": 27,
   "metadata": {
    "collapsed": true
   },
   "outputs": [],
   "source": [
    "#is atla significantly better than lok?\n",
    "#what about tdp?\n",
    "\n",
    "#Null: Ratings betwween atla & lok is the same\n",
    "#Alternative: Ratings betwween atla & lok are different\n",
    "#alpha = .05\n",
    "from scipy.stats import ttest_ind"
   ]
  },
  {
   "cell_type": "code",
   "execution_count": 40,
   "metadata": {},
   "outputs": [],
   "source": [
    "# returns 2 values, the calculated t-stat and the two wailed p-value\n",
    "stat, p = ttest_ind(df['rating'][df['show_code']=='atla'], #data 1\n",
    "                    df['rating'][df['show_code']=='lok']) #data 2\n",
    "\n",
    "stat2, p2 = ttest_ind(df['rating'][df['show_code']=='atla'],\n",
    "                    df['rating'][df['show_code']=='tdp']) #data 2"
   ]
  },
  {
   "cell_type": "code",
   "execution_count": 44,
   "metadata": {},
   "outputs": [
    {
     "name": "stdout",
     "output_type": "stream",
     "text": [
      "The T value was:0.22522504258758916. The P value was:0.8222183372655271 Fail to reject null\n"
     ]
    }
   ],
   "source": [
    "#atla vs lok\n",
    "alpha = .05\n",
    "if p>alpha:\n",
    "    print(f'The T value was:{stat}. The P value was:{p} Fail to reject null')\n",
    "else:\n",
    "    print(f'The T value was:{stat}. P value was:{p} Reject null hypothesis')"
   ]
  },
  {
   "cell_type": "code",
   "execution_count": 41,
   "metadata": {},
   "outputs": [
    {
     "name": "stdout",
     "output_type": "stream",
     "text": [
      "P value was:0.0162766265735053 Fail to reject null\n"
     ]
    }
   ],
   "source": [
    "#atla vs tdp\n",
    "alpha = .05\n",
    "if p>alpha:\n",
    "    print(f'The T value was:{stat2}. The P value was:{p2} Fail to reject null')\n",
    "else:\n",
    "    print(f'The T value was:{stat2}. P value was:{p2} Reject null hypothesis')"
   ]
  },
  {
   "cell_type": "code",
   "execution_count": 45,
   "metadata": {},
   "outputs": [
    {
     "data": {
      "text/plain": [
       "<matplotlib.axes._subplots.AxesSubplot at 0x1df7a741208>"
      ]
     },
     "execution_count": 45,
     "metadata": {},
     "output_type": "execute_result"
    },
    {
     "data": {
      "image/png": "[encoded data removed]",
      "text/plain": [
       "<Figure size 576x396 with 1 Axes>"
      ]
     },
     "metadata": {},
     "output_type": "display_data"
    }
   ],
   "source": [
    "#histogram by overall data\n",
    "sns.distplot(df['rating'],kde = False)"
   ]
  },
  {
   "cell_type": "code",
   "execution_count": 46,
   "metadata": {},
   "outputs": [
    {
     "data": {
      "text/html": [
       "<div>\n",
       "<style scoped>\n",
       "    .dataframe tbody tr th:only-of-type {\n",
       "        vertical-align: middle;\n",
       "    }\n",
       "\n",
       "    .dataframe tbody tr th {\n",
       "        vertical-align: top;\n",
       "    }\n",
       "\n",
       "    .dataframe thead th {\n",
       "        text-align: right;\n",
       "    }\n",
       "</style>\n",
       "<table border=\"1\" class=\"dataframe\">\n",
       "  <thead>\n",
       "    <tr style=\"text-align: right;\">\n",
       "      <th></th>\n",
       "      <th>title</th>\n",
       "      <th>episode of</th>\n",
       "      <th>season</th>\n",
       "      <th>episode</th>\n",
       "      <th>rating</th>\n",
       "      <th>votes</th>\n",
       "      <th>original air date</th>\n",
       "      <th>year</th>\n",
       "      <th>plot</th>\n",
       "      <th>show_code</th>\n",
       "    </tr>\n",
       "  </thead>\n",
       "  <tbody>\n",
       "    <tr>\n",
       "      <th>10</th>\n",
       "      <td>The Great Divide</td>\n",
       "      <td>Avatar: The Last Airbender</td>\n",
       "      <td>1</td>\n",
       "      <td>11</td>\n",
       "      <td>7.101235</td>\n",
       "      <td>1593</td>\n",
       "      <td>2005-05-20</td>\n",
       "      <td>2005</td>\n",
       "      <td>\\n    Aang is tested as the Avatar when he mus...</td>\n",
       "      <td>atla</td>\n",
       "    </tr>\n",
       "    <tr>\n",
       "      <th>107</th>\n",
       "      <td>Remembrances</td>\n",
       "      <td>The Legend of Korra</td>\n",
       "      <td>4</td>\n",
       "      <td>8</td>\n",
       "      <td>6.301235</td>\n",
       "      <td>857</td>\n",
       "      <td>2014-11-21</td>\n",
       "      <td>2014</td>\n",
       "      <td>\\n    Wu begins his exile with Mako's family, ...</td>\n",
       "      <td>lok</td>\n",
       "    </tr>\n",
       "  </tbody>\n",
       "</table>\n",
       "</div>"
      ],
      "text/plain": [
       "                title                  episode of  season  episode    rating  \\\n",
       "10   The Great Divide  Avatar: The Last Airbender       1       11  7.101235   \n",
       "107      Remembrances         The Legend of Korra       4        8  6.301235   \n",
       "\n",
       "     votes original air date  year  \\\n",
       "10    1593        2005-05-20  2005   \n",
       "107    857        2014-11-21  2014   \n",
       "\n",
       "                                                  plot show_code  \n",
       "10   \\n    Aang is tested as the Avatar when he mus...      atla  \n",
       "107  \\n    Wu begins his exile with Mako's family, ...       lok  "
      ]
     },
     "execution_count": 46,
     "metadata": {},
     "output_type": "execute_result"
    }
   ],
   "source": [
    "#what are those two poorly performing episodes?\n",
    "df[df['rating']<7.5]\n",
    "\n",
    "#comes from ATLA and LOK, not TDP"
   ]
  },
  {
   "cell_type": "code",
   "execution_count": 47,
   "metadata": {},
   "outputs": [
    {
     "data": {
      "text/plain": [
       "episode of\n",
       "Avatar: The Last Airbender    AxesSubplot(0.125,0.125;0.775x0.755)\n",
       "The Dragon Prince             AxesSubplot(0.125,0.125;0.775x0.755)\n",
       "The Legend of Korra           AxesSubplot(0.125,0.125;0.775x0.755)\n",
       "Name: rating, dtype: object"
      ]
     },
     "execution_count": 47,
     "metadata": {},
     "output_type": "execute_result"
    },
    {
     "data": {
      "image/png": "[encoded data removed]",
      "text/plain": [
       "<Figure size 1152x432 with 1 Axes>"
      ]
     },
     "metadata": {},
     "output_type": "display_data"
    }
   ],
   "source": [
    "#how does histogram look by show?\n",
    "plt.figure(figsize = (16,6))\n",
    "df.groupby('episode of')['rating'].plot(kind = 'hist', alpha = .4, legend = True)"
   ]
  },
  {
   "cell_type": "code",
   "execution_count": 48,
   "metadata": {},
   "outputs": [
    {
     "data": {
      "text/plain": [
       "<matplotlib.axes._subplots.AxesSubplot at 0x1df7a82b898>"
      ]
     },
     "execution_count": 48,
     "metadata": {},
     "output_type": "execute_result"
    },
    {
     "data": {
      "image/png": "[encoded data removed]",
      "text/plain": [
       "<Figure size 576x396 with 1 Axes>"
      ]
     },
     "metadata": {},
     "output_type": "display_data"
    }
   ],
   "source": [
    "#explore how this looks as a box & whisker\n",
    "sns.boxplot(x ='episode of',y='rating',data = df)\n",
    "#Avatar with the most seasons has the widest episode deviation\n",
    "#Lok has 2 outliers, both from a good and bad perspective\n",
    "#TDP stays relatively within 8 and 8.5"
   ]
  },
  {
   "cell_type": "code",
   "execution_count": 49,
   "metadata": {},
   "outputs": [],
   "source": [
    "#could use violin, but actually like the box & whisker better as they deal with outliers better \n",
    "#sns.violinplot(x = 'episode of', y = 'rating', data = df)"
   ]
  },
  {
   "cell_type": "code",
   "execution_count": 52,
   "metadata": {},
   "outputs": [
    {
     "data": {
      "text/html": [
       "<div>\n",
       "<style scoped>\n",
       "    .dataframe tbody tr th:only-of-type {\n",
       "        vertical-align: middle;\n",
       "    }\n",
       "\n",
       "    .dataframe tbody tr th {\n",
       "        vertical-align: top;\n",
       "    }\n",
       "\n",
       "    .dataframe thead th {\n",
       "        text-align: right;\n",
       "    }\n",
       "</style>\n",
       "<table border=\"1\" class=\"dataframe\">\n",
       "  <thead>\n",
       "    <tr style=\"text-align: right;\">\n",
       "      <th></th>\n",
       "      <th></th>\n",
       "      <th>count</th>\n",
       "      <th>mean</th>\n",
       "      <th>std</th>\n",
       "      <th>min</th>\n",
       "      <th>25%</th>\n",
       "      <th>50%</th>\n",
       "      <th>75%</th>\n",
       "      <th>max</th>\n",
       "    </tr>\n",
       "    <tr>\n",
       "      <th>episode of</th>\n",
       "      <th>season</th>\n",
       "      <th></th>\n",
       "      <th></th>\n",
       "      <th></th>\n",
       "      <th></th>\n",
       "      <th></th>\n",
       "      <th></th>\n",
       "      <th></th>\n",
       "      <th></th>\n",
       "    </tr>\n",
       "  </thead>\n",
       "  <tbody>\n",
       "    <tr>\n",
       "      <th>The Legend of Korra</th>\n",
       "      <th>1</th>\n",
       "      <td>12.0</td>\n",
       "      <td>8.667901</td>\n",
       "      <td>0.293361</td>\n",
       "      <td>8.101235</td>\n",
       "      <td>8.501235</td>\n",
       "      <td>8.651235</td>\n",
       "      <td>8.901235</td>\n",
       "      <td>9.201235</td>\n",
       "    </tr>\n",
       "    <tr>\n",
       "      <th rowspan=\"2\" valign=\"top\">The Dragon Prince</th>\n",
       "      <th>1</th>\n",
       "      <td>9.0</td>\n",
       "      <td>8.234568</td>\n",
       "      <td>0.300000</td>\n",
       "      <td>7.801235</td>\n",
       "      <td>8.101235</td>\n",
       "      <td>8.101235</td>\n",
       "      <td>8.401235</td>\n",
       "      <td>8.801235</td>\n",
       "    </tr>\n",
       "    <tr>\n",
       "      <th>2</th>\n",
       "      <td>9.0</td>\n",
       "      <td>8.401235</td>\n",
       "      <td>0.374166</td>\n",
       "      <td>7.801235</td>\n",
       "      <td>8.201235</td>\n",
       "      <td>8.301235</td>\n",
       "      <td>8.601235</td>\n",
       "      <td>9.101235</td>\n",
       "    </tr>\n",
       "    <tr>\n",
       "      <th>The Legend of Korra</th>\n",
       "      <th>3</th>\n",
       "      <td>13.0</td>\n",
       "      <td>8.824311</td>\n",
       "      <td>0.394026</td>\n",
       "      <td>8.301235</td>\n",
       "      <td>8.601235</td>\n",
       "      <td>8.701235</td>\n",
       "      <td>9.001235</td>\n",
       "      <td>9.601235</td>\n",
       "    </tr>\n",
       "    <tr>\n",
       "      <th>Avatar: The Last Airbender</th>\n",
       "      <th>2</th>\n",
       "      <td>20.0</td>\n",
       "      <td>8.711235</td>\n",
       "      <td>0.481117</td>\n",
       "      <td>7.601235</td>\n",
       "      <td>8.501235</td>\n",
       "      <td>8.701235</td>\n",
       "      <td>9.001235</td>\n",
       "      <td>9.601235</td>\n",
       "    </tr>\n",
       "    <tr>\n",
       "      <th>The Legend of Korra</th>\n",
       "      <th>2</th>\n",
       "      <td>14.0</td>\n",
       "      <td>8.401235</td>\n",
       "      <td>0.520355</td>\n",
       "      <td>7.901235</td>\n",
       "      <td>8.026235</td>\n",
       "      <td>8.301235</td>\n",
       "      <td>8.576235</td>\n",
       "      <td>9.601235</td>\n",
       "    </tr>\n",
       "    <tr>\n",
       "      <th rowspan=\"2\" valign=\"top\">Avatar: The Last Airbender</th>\n",
       "      <th>3</th>\n",
       "      <td>21.0</td>\n",
       "      <td>8.886949</td>\n",
       "      <td>0.520851</td>\n",
       "      <td>7.801235</td>\n",
       "      <td>8.601235</td>\n",
       "      <td>8.901235</td>\n",
       "      <td>9.201235</td>\n",
       "      <td>9.801235</td>\n",
       "    </tr>\n",
       "    <tr>\n",
       "      <th>1</th>\n",
       "      <td>20.0</td>\n",
       "      <td>8.386235</td>\n",
       "      <td>0.605479</td>\n",
       "      <td>7.101235</td>\n",
       "      <td>8.001235</td>\n",
       "      <td>8.201235</td>\n",
       "      <td>8.676235</td>\n",
       "      <td>9.801235</td>\n",
       "    </tr>\n",
       "    <tr>\n",
       "      <th>The Legend of Korra</th>\n",
       "      <th>4</th>\n",
       "      <td>13.0</td>\n",
       "      <td>8.693542</td>\n",
       "      <td>0.765356</td>\n",
       "      <td>6.301235</td>\n",
       "      <td>8.701235</td>\n",
       "      <td>8.801235</td>\n",
       "      <td>9.101235</td>\n",
       "      <td>9.301235</td>\n",
       "    </tr>\n",
       "  </tbody>\n",
       "</table>\n",
       "</div>"
      ],
      "text/plain": [
       "                                   count      mean       std       min  \\\n",
       "episode of                 season                                        \n",
       "The Legend of Korra        1        12.0  8.667901  0.293361  8.101235   \n",
       "The Dragon Prince          1         9.0  8.234568  0.300000  7.801235   \n",
       "                           2         9.0  8.401235  0.374166  7.801235   \n",
       "The Legend of Korra        3        13.0  8.824311  0.394026  8.301235   \n",
       "Avatar: The Last Airbender 2        20.0  8.711235  0.481117  7.601235   \n",
       "The Legend of Korra        2        14.0  8.401235  0.520355  7.901235   \n",
       "Avatar: The Last Airbender 3        21.0  8.886949  0.520851  7.801235   \n",
       "                           1        20.0  8.386235  0.605479  7.101235   \n",
       "The Legend of Korra        4        13.0  8.693542  0.765356  6.301235   \n",
       "\n",
       "                                        25%       50%       75%       max  \n",
       "episode of                 season                                          \n",
       "The Legend of Korra        1       8.501235  8.651235  8.901235  9.201235  \n",
       "The Dragon Prince          1       8.101235  8.101235  8.401235  8.801235  \n",
       "                           2       8.201235  8.301235  8.601235  9.101235  \n",
       "The Legend of Korra        3       8.601235  8.701235  9.001235  9.601235  \n",
       "Avatar: The Last Airbender 2       8.501235  8.701235  9.001235  9.601235  \n",
       "The Legend of Korra        2       8.026235  8.301235  8.576235  9.601235  \n",
       "Avatar: The Last Airbender 3       8.601235  8.901235  9.201235  9.801235  \n",
       "                           1       8.001235  8.201235  8.676235  9.801235  \n",
       "The Legend of Korra        4       8.701235  8.801235  9.101235  9.301235  "
      ]
     },
     "execution_count": 52,
     "metadata": {},
     "output_type": "execute_result"
    }
   ],
   "source": [
    "df.groupby(['episode of','season'])['rating'].describe().sort_values(by = 'std', ascending = True)\n",
    "#confirmed observations\n",
    "#TDP has one of the lowest standard deviations after the first season of lok"
   ]
  },
  {
   "cell_type": "code",
   "execution_count": 53,
   "metadata": {
    "collapsed": true
   },
   "outputs": [],
   "source": [
    "df2 = df[['show_code','season','episode','rating']].pivot_table(index = ['show_code','season','episode']).copy()"
   ]
  },
  {
   "cell_type": "code",
   "execution_count": 55,
   "metadata": {},
   "outputs": [
    {
     "data": {
      "text/plain": [
       "<matplotlib.axes._subplots.AxesSubplot at 0x1df7a96c940>"
      ]
     },
     "execution_count": 55,
     "metadata": {},
     "output_type": "execute_result"
    },
    {
     "data": {
      "image/png": "[encoded data removed]",
      "text/plain": [
       "<Figure size 1152x432 with 1 Axes>"
      ]
     },
     "metadata": {},
     "output_type": "display_data"
    },
    {
     "data": {
      "image/png": "[encoded data removed]",
      "text/plain": [
       "<Figure size 1152x432 with 1 Axes>"
      ]
     },
     "metadata": {},
     "output_type": "display_data"
    },
    {
     "data": {
      "image/png": "[encoded data removed]",
      "text/plain": [
       "<Figure size 1152x432 with 1 Axes>"
      ]
     },
     "metadata": {},
     "output_type": "display_data"
    }
   ],
   "source": [
    "# I did it! Wonder how it woudl look relative to creating a new column with s1-ep1 \n",
    "# need to make this a bigger and wider... \n",
    "#plt.figure(figsize = (16,6))\n",
    "df2.loc['atla'].plot(figsize = (16,6), title = 'atla')\n",
    "df2.loc['lok'].plot(figsize = (16,6), title = 'lok')\n",
    "df2.loc['tdp'].plot(figsize = (16,6), title = 'tdp')\n",
    "\n",
    "#Show observations \n",
    "\n",
    "#atla: tends to hit a relative low point once each season and peaks towards the end of the season\n",
    "#lok: single episode they really like in season 4\n",
    "#tdp: tended to get better over time"
   ]
  },
  {
   "cell_type": "code",
   "execution_count": 78,
   "metadata": {},
   "outputs": [
    {
     "data": {
      "text/html": [
       "<div>\n",
       "<style scoped>\n",
       "    .dataframe tbody tr th:only-of-type {\n",
       "        vertical-align: middle;\n",
       "    }\n",
       "\n",
       "    .dataframe tbody tr th {\n",
       "        vertical-align: top;\n",
       "    }\n",
       "\n",
       "    .dataframe thead th {\n",
       "        text-align: right;\n",
       "    }\n",
       "</style>\n",
       "<table border=\"1\" class=\"dataframe\">\n",
       "  <thead>\n",
       "    <tr style=\"text-align: right;\">\n",
       "      <th></th>\n",
       "      <th>title</th>\n",
       "      <th>episode of</th>\n",
       "      <th>season</th>\n",
       "      <th>episode</th>\n",
       "      <th>rating</th>\n",
       "      <th>votes</th>\n",
       "      <th>original air date</th>\n",
       "      <th>year</th>\n",
       "      <th>plot</th>\n",
       "      <th>show_code</th>\n",
       "    </tr>\n",
       "  </thead>\n",
       "  <tbody>\n",
       "    <tr>\n",
       "      <th>9</th>\n",
       "      <td>Jet</td>\n",
       "      <td>Avatar: The Last Airbender</td>\n",
       "      <td>1</td>\n",
       "      <td>10</td>\n",
       "      <td>7.901235</td>\n",
       "      <td>1548</td>\n",
       "      <td>2005-05-06</td>\n",
       "      <td>2005</td>\n",
       "      <td>\\n    Aang, Katara, and Sokka have their frien...</td>\n",
       "      <td>atla</td>\n",
       "    </tr>\n",
       "    <tr>\n",
       "      <th>10</th>\n",
       "      <td>The Great Divide</td>\n",
       "      <td>Avatar: The Last Airbender</td>\n",
       "      <td>1</td>\n",
       "      <td>11</td>\n",
       "      <td>7.101235</td>\n",
       "      <td>1593</td>\n",
       "      <td>2005-05-20</td>\n",
       "      <td>2005</td>\n",
       "      <td>\\n    Aang is tested as the Avatar when he mus...</td>\n",
       "      <td>atla</td>\n",
       "    </tr>\n",
       "    <tr>\n",
       "      <th>14</th>\n",
       "      <td>Bato of the Water Tribe</td>\n",
       "      <td>Avatar: The Last Airbender</td>\n",
       "      <td>1</td>\n",
       "      <td>15</td>\n",
       "      <td>7.901235</td>\n",
       "      <td>1447</td>\n",
       "      <td>2005-10-07</td>\n",
       "      <td>2005</td>\n",
       "      <td>\\n    Sokka and Katara meet a friend of their ...</td>\n",
       "      <td>atla</td>\n",
       "    </tr>\n",
       "    <tr>\n",
       "      <th>23</th>\n",
       "      <td>The Swamp</td>\n",
       "      <td>Avatar: The Last Airbender</td>\n",
       "      <td>2</td>\n",
       "      <td>4</td>\n",
       "      <td>7.801235</td>\n",
       "      <td>1427</td>\n",
       "      <td>2006-04-14</td>\n",
       "      <td>2006</td>\n",
       "      <td>\\n    Aang hears a swamp calling to him. In th...</td>\n",
       "      <td>atla</td>\n",
       "    </tr>\n",
       "    <tr>\n",
       "      <th>24</th>\n",
       "      <td>Avatar Day</td>\n",
       "      <td>Avatar: The Last Airbender</td>\n",
       "      <td>2</td>\n",
       "      <td>5</td>\n",
       "      <td>7.601235</td>\n",
       "      <td>1428</td>\n",
       "      <td>2006-04-28</td>\n",
       "      <td>2006</td>\n",
       "      <td>\\n    Sokka and Katara have to solve a centuri...</td>\n",
       "      <td>atla</td>\n",
       "    </tr>\n",
       "    <tr>\n",
       "      <th>48</th>\n",
       "      <td>Nightmares and Daydreams</td>\n",
       "      <td>Avatar: The Last Airbender</td>\n",
       "      <td>3</td>\n",
       "      <td>9</td>\n",
       "      <td>7.801235</td>\n",
       "      <td>1458</td>\n",
       "      <td>2007-11-16</td>\n",
       "      <td>2007</td>\n",
       "      <td>\\n    As the invasion approaches, Aang has rec...</td>\n",
       "      <td>atla</td>\n",
       "    </tr>\n",
       "  </tbody>\n",
       "</table>\n",
       "</div>"
      ],
      "text/plain": [
       "                       title                  episode of  season  episode  \\\n",
       "9                        Jet  Avatar: The Last Airbender       1       10   \n",
       "10          The Great Divide  Avatar: The Last Airbender       1       11   \n",
       "14   Bato of the Water Tribe  Avatar: The Last Airbender       1       15   \n",
       "23                 The Swamp  Avatar: The Last Airbender       2        4   \n",
       "24                Avatar Day  Avatar: The Last Airbender       2        5   \n",
       "48  Nightmares and Daydreams  Avatar: The Last Airbender       3        9   \n",
       "\n",
       "      rating  votes original air date  year  \\\n",
       "9   7.901235   1548        2005-05-06  2005   \n",
       "10  7.101235   1593        2005-05-20  2005   \n",
       "14  7.901235   1447        2005-10-07  2005   \n",
       "23  7.801235   1427        2006-04-14  2006   \n",
       "24  7.601235   1428        2006-04-28  2006   \n",
       "48  7.801235   1458        2007-11-16  2007   \n",
       "\n",
       "                                                 plot show_code  \n",
       "9   \\n    Aang, Katara, and Sokka have their frien...      atla  \n",
       "10  \\n    Aang is tested as the Avatar when he mus...      atla  \n",
       "14  \\n    Sokka and Katara meet a friend of their ...      atla  \n",
       "23  \\n    Aang hears a swamp calling to him. In th...      atla  \n",
       "24  \\n    Sokka and Katara have to solve a centuri...      atla  \n",
       "48  \\n    As the invasion approaches, Aang has rec...      atla  "
      ]
     },
     "execution_count": 78,
     "metadata": {},
     "output_type": "execute_result"
    }
   ],
   "source": [
    "#atla episodes with a rating of 8 or lower\n",
    "df[(df['show_code']=='atla') & (df['rating']<=8.0)]"
   ]
  },
  {
   "cell_type": "code",
   "execution_count": 71,
   "metadata": {},
   "outputs": [
    {
     "data": {
      "text/html": [
       "<div>\n",
       "<style scoped>\n",
       "    .dataframe tbody tr th:only-of-type {\n",
       "        vertical-align: middle;\n",
       "    }\n",
       "\n",
       "    .dataframe tbody tr th {\n",
       "        vertical-align: top;\n",
       "    }\n",
       "\n",
       "    .dataframe thead th {\n",
       "        text-align: right;\n",
       "    }\n",
       "</style>\n",
       "<table border=\"1\" class=\"dataframe\">\n",
       "  <thead>\n",
       "    <tr style=\"text-align: right;\">\n",
       "      <th></th>\n",
       "      <th>title</th>\n",
       "      <th>episode of</th>\n",
       "      <th>season</th>\n",
       "      <th>episode</th>\n",
       "      <th>rating</th>\n",
       "      <th>votes</th>\n",
       "      <th>original air date</th>\n",
       "      <th>year</th>\n",
       "      <th>plot</th>\n",
       "      <th>show_code</th>\n",
       "    </tr>\n",
       "  </thead>\n",
       "  <tbody>\n",
       "    <tr>\n",
       "      <th>75</th>\n",
       "      <td>Civil Wars: Part 1</td>\n",
       "      <td>The Legend of Korra</td>\n",
       "      <td>2</td>\n",
       "      <td>3</td>\n",
       "      <td>7.901235</td>\n",
       "      <td>1170</td>\n",
       "      <td>2013-09-20</td>\n",
       "      <td>2013</td>\n",
       "      <td>\\n    While tensions flare between the Norther...</td>\n",
       "      <td>lok</td>\n",
       "    </tr>\n",
       "    <tr>\n",
       "      <th>77</th>\n",
       "      <td>Peacekeepers</td>\n",
       "      <td>The Legend of Korra</td>\n",
       "      <td>2</td>\n",
       "      <td>5</td>\n",
       "      <td>7.901235</td>\n",
       "      <td>1125</td>\n",
       "      <td>2013-10-04</td>\n",
       "      <td>2013</td>\n",
       "      <td>\\n    When the President of the United Republi...</td>\n",
       "      <td>lok</td>\n",
       "    </tr>\n",
       "    <tr>\n",
       "      <th>78</th>\n",
       "      <td>The Sting</td>\n",
       "      <td>The Legend of Korra</td>\n",
       "      <td>2</td>\n",
       "      <td>6</td>\n",
       "      <td>7.901235</td>\n",
       "      <td>1124</td>\n",
       "      <td>2013-10-11</td>\n",
       "      <td>2013</td>\n",
       "      <td>\\n    When Triad activity threatens to put Fut...</td>\n",
       "      <td>lok</td>\n",
       "    </tr>\n",
       "    <tr>\n",
       "      <th>107</th>\n",
       "      <td>Remembrances</td>\n",
       "      <td>The Legend of Korra</td>\n",
       "      <td>4</td>\n",
       "      <td>8</td>\n",
       "      <td>6.301235</td>\n",
       "      <td>857</td>\n",
       "      <td>2014-11-21</td>\n",
       "      <td>2014</td>\n",
       "      <td>\\n    Wu begins his exile with Mako's family, ...</td>\n",
       "      <td>lok</td>\n",
       "    </tr>\n",
       "  </tbody>\n",
       "</table>\n",
       "</div>"
      ],
      "text/plain": [
       "                  title           episode of  season  episode    rating  \\\n",
       "75   Civil Wars: Part 1  The Legend of Korra       2        3  7.901235   \n",
       "77         Peacekeepers  The Legend of Korra       2        5  7.901235   \n",
       "78            The Sting  The Legend of Korra       2        6  7.901235   \n",
       "107        Remembrances  The Legend of Korra       4        8  6.301235   \n",
       "\n",
       "     votes original air date  year  \\\n",
       "75    1170        2013-09-20  2013   \n",
       "77    1125        2013-10-04  2013   \n",
       "78    1124        2013-10-11  2013   \n",
       "107    857        2014-11-21  2014   \n",
       "\n",
       "                                                  plot show_code  \n",
       "75   \\n    While tensions flare between the Norther...       lok  \n",
       "77   \\n    When the President of the United Republi...       lok  \n",
       "78   \\n    When Triad activity threatens to put Fut...       lok  \n",
       "107  \\n    Wu begins his exile with Mako's family, ...       lok  "
      ]
     },
     "execution_count": 71,
     "metadata": {},
     "output_type": "execute_result"
    }
   ],
   "source": [
    "#lok episodes with a rating of 8 or lower\n",
    "df[(df['show_code']=='lok') & (df['rating']<=8.0)]\n",
    "\n",
    "#ouch, people really don't like that episode of lok"
   ]
  },
  {
   "cell_type": "code",
   "execution_count": 74,
   "metadata": {},
   "outputs": [
    {
     "data": {
      "text/html": [
       "<div>\n",
       "<style scoped>\n",
       "    .dataframe tbody tr th:only-of-type {\n",
       "        vertical-align: middle;\n",
       "    }\n",
       "\n",
       "    .dataframe tbody tr th {\n",
       "        vertical-align: top;\n",
       "    }\n",
       "\n",
       "    .dataframe thead th {\n",
       "        text-align: right;\n",
       "    }\n",
       "</style>\n",
       "<table border=\"1\" class=\"dataframe\">\n",
       "  <thead>\n",
       "    <tr style=\"text-align: right;\">\n",
       "      <th></th>\n",
       "      <th>title</th>\n",
       "      <th>episode of</th>\n",
       "      <th>season</th>\n",
       "      <th>episode</th>\n",
       "      <th>rating</th>\n",
       "      <th>votes</th>\n",
       "      <th>original air date</th>\n",
       "      <th>year</th>\n",
       "      <th>plot</th>\n",
       "      <th>show_code</th>\n",
       "    </tr>\n",
       "  </thead>\n",
       "  <tbody>\n",
       "    <tr>\n",
       "      <th>113</th>\n",
       "      <td>Echoes of Thunder</td>\n",
       "      <td>The Dragon Prince</td>\n",
       "      <td>1</td>\n",
       "      <td>1</td>\n",
       "      <td>7.801235</td>\n",
       "      <td>352</td>\n",
       "      <td>2018-09-14</td>\n",
       "      <td>2018</td>\n",
       "      <td>\\n    As the human kingdom of Katolis braces f...</td>\n",
       "      <td>tdp</td>\n",
       "    </tr>\n",
       "    <tr>\n",
       "      <th>122</th>\n",
       "      <td>A Secret and a Spark</td>\n",
       "      <td>The Dragon Prince</td>\n",
       "      <td>2</td>\n",
       "      <td>1</td>\n",
       "      <td>7.801235</td>\n",
       "      <td>208</td>\n",
       "      <td>2019-02-15</td>\n",
       "      <td>2019</td>\n",
       "      <td>\\n    Callum, Ezran and Rayla go with Lujanne....</td>\n",
       "      <td>tdp</td>\n",
       "    </tr>\n",
       "  </tbody>\n",
       "</table>\n",
       "</div>"
      ],
      "text/plain": [
       "                    title         episode of  season  episode    rating  \\\n",
       "113     Echoes of Thunder  The Dragon Prince       1        1  7.801235   \n",
       "122  A Secret and a Spark  The Dragon Prince       2        1  7.801235   \n",
       "\n",
       "     votes original air date  year  \\\n",
       "113    352        2018-09-14  2018   \n",
       "122    208        2019-02-15  2019   \n",
       "\n",
       "                                                  plot show_code  \n",
       "113  \\n    As the human kingdom of Katolis braces f...       tdp  \n",
       "122  \\n    Callum, Ezran and Rayla go with Lujanne....       tdp  "
      ]
     },
     "execution_count": 74,
     "metadata": {},
     "output_type": "execute_result"
    }
   ],
   "source": [
    "#for tdp, both episodes are the weakest\n",
    "#means it getts better (but also may not have drawn you in)\n",
    "df[(df['show_code']=='tdp') & (df['rating']<=8.0)]"
   ]
  },
  {
   "cell_type": "code",
   "execution_count": 77,
   "metadata": {},
   "outputs": [
    {
     "data": {
      "text/plain": [
       "<matplotlib.axes._subplots.AxesSubplot at 0x1df7ad7ab70>"
      ]
     },
     "execution_count": 77,
     "metadata": {},
     "output_type": "execute_result"
    },
    {
     "data": {
      "image/png": "[encoded data removed]",
      "text/plain": [
       "<Figure size 1152x576 with 3 Axes>"
      ]
     },
     "metadata": {},
     "output_type": "display_data"
    }
   ],
   "source": [
    "fig, (ax1, ax2, ax3) = plt.subplots(1,3,figsize=(16,8), sharey = True)\n",
    "\n",
    "sns.boxplot(x ='season',y='rating',data = df[df['show_code']== 'atla'],ax=ax1)\n",
    "sns.boxplot(x ='season',y='rating',data = df[df['show_code']== 'lok'],ax=ax2)\n",
    "sns.boxplot(x ='season',y='rating',data = df[df['show_code']== 'tdp'],ax=ax3)\n",
    "\n",
    "#atla got progressivly better with time across seasons\n",
    "#people did not like the 2nd season of lok\n",
    "#tdp season 2 has an edge ovver season 1"
   ]
  },
  {
   "cell_type": "code",
   "execution_count": 96,
   "metadata": {
    "collapsed": true
   },
   "outputs": [],
   "source": [
    "show_titles = list(df['episode of'].unique())"
   ]
  },
  {
   "cell_type": "code",
   "execution_count": 97,
   "metadata": {},
   "outputs": [
    {
     "name": "stdout",
     "output_type": "stream",
     "text": [
      "['Avatar: The Last Airbender', 'The Legend of Korra', 'The Dragon Prince']\n"
     ]
    }
   ],
   "source": [
    "print(show_titles)"
   ]
  },
  {
   "cell_type": "code",
   "execution_count": 98,
   "metadata": {},
   "outputs": [
    {
     "data": {
      "text/plain": [
       "Text(0.5, 1.0, 'The Dragon Prince')"
      ]
     },
     "execution_count": 98,
     "metadata": {},
     "output_type": "execute_result"
    },
    {
     "data": {
      "image/png": "[encoded data removed]",
      "text/plain": [
       "<Figure size 720x576 with 3 Axes>"
      ]
     },
     "metadata": {},
     "output_type": "display_data"
    }
   ],
   "source": [
    "fig, (ax1, ax2, ax3) = plt.subplots(1,3,figsize=(10,8), sharey = True)\n",
    "\n",
    "\n",
    "sns.boxplot(x ='season',y='rating',data = df[df['episode of']== 'Avatar: The Last Airbender'],ax=ax1)\n",
    "ax1.set_title(show_titles[0])\n",
    "\n",
    "sns.boxplot(x ='season',y='rating',data = df[df['episode of']== 'The Legend of Korra'],ax=ax2)\n",
    "ax2.set_title(show_titles[1])\n",
    "\n",
    "sns.boxplot(x ='season',y='rating',data = df[df['episode of']== 'The Dragon Prince'],ax=ax3)\n",
    "ax3.set_title(show_titles[2])\n",
    "\n",
    "#need to learn a bit more about subplots & honestly - matplot lib.  Seems like seaborn does things quick. \n",
    "#but still need matplot lib to quickly add things like titles, hashmarks, etc. \n",
    "\n",
    "#quick tutorial to look at what I need"
   ]
  }
 ],
 "metadata": {
  "kernelspec": {
   "display_name": "Python 3",
   "language": "python",
   "name": "python3"
  },
  "language_info": {
   "codemirror_mode": {
    "name": "ipython",
    "version": 3
   },
   "file_extension": ".py",
   "mimetype": "text/x-python",
   "name": "python",
   "nbconvert_exporter": "python",
   "pygments_lexer": "ipython3",
   "version": "3.6.3"
  }
 },
 "nbformat": 4,
 "nbformat_minor": 2
}
