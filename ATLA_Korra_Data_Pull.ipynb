{
 "cells": [
  {
   "cell_type": "code",
   "execution_count": 1,
   "metadata": {
    "collapsed": true
   },
   "outputs": [],
   "source": [
    "import imdb\n",
    "import pandas as pd\n",
    "import seaborn as sns"
   ]
  },
  {
   "cell_type": "code",
   "execution_count": 2,
   "metadata": {
    "collapsed": true
   },
   "outputs": [],
   "source": [
    "ia = imdb.IMDb()"
   ]
  },
  {
   "cell_type": "code",
   "execution_count": 3,
   "metadata": {
    "collapsed": true
   },
   "outputs": [],
   "source": [
    "tv_show = ia.search_movie('avatar')"
   ]
  },
  {
   "cell_type": "code",
   "execution_count": 54,
   "metadata": {
    "collapsed": true
   },
   "outputs": [],
   "source": [
    "tdp = ia.search_movie('the dragon prince')"
   ]
  },
  {
   "cell_type": "code",
   "execution_count": 55,
   "metadata": {},
   "outputs": [
    {
     "data": {
      "text/plain": [
       "[<Movie id:8688814[http] title:_\"The Dragon Prince\" (2018)_>,\n",
       " <Movie id:3478466[http] title:_The Dragon Prince (in development) (None)_>,\n",
       " <Movie id:8688810[http] title:_The Dragon Prince (2018) (TV)_>,\n",
       " <Movie id:1399204[http] title:_The Dragon Prince (1969)_>,\n",
       " <Movie id:0164546[http] title:_The Dragon Prince (1999)_>,\n",
       " <Movie id:9681004[http] title:_\"The Dragon Prince\" Breathe (2019)_>,\n",
       " <Movie id:9680920[http] title:_\"The Dragon Prince\" Half Moon Lies (2019)_>,\n",
       " <Movie id:9680954[http] title:_\"The Dragon Prince\" Voyage of the Ruthless (2019)_>,\n",
       " <Movie id:2156743[http] title:_Dragon & Prince (1982) (VG)_>,\n",
       " <Movie id:4367102[http] title:_\"Ghost Sweeper Mikami\" The Dragon Prince!! (1993)_>,\n",
       " <Movie id:9070962[http] title:_\"Animation Junkie\" The Dragon Prince (2018)_>,\n",
       " <Movie id:8355534[http] title:_Dragon Princess (2018)_>,\n",
       " <Movie id:7240202[http] title:_#dragonprincess (2017)_>,\n",
       " <Movie id:6486402[http] title:_\"Horror Kung-Fu Theatre\" Dragon Princess KHIZ (2006)_>,\n",
       " <Movie id:6187414[http] title:_\"Horror Kung-Fu Theatre\" Dragon Princess (1993)_>,\n",
       " <Movie id:7805344[http] title:_Princesse Dragon (None)_>,\n",
       " <Movie id:2375661[http] title:_The Princess and the Dragon (2012)_>,\n",
       " <Movie id:0165256[http] title:_Sonny Chiba's Dragon Princess (1976)_>,\n",
       " <Movie id:9889534[http] title:_\"The Frigeek Show\" The Dragon Prince Seasons 1-2 (2019)_>,\n",
       " <Movie id:6918434[http] title:_\"Horror Kung-Fu Theatre\" Dragon Princess Monrovia (2016)_>]"
      ]
     },
     "execution_count": 55,
     "metadata": {},
     "output_type": "execute_result"
    }
   ],
   "source": [
    "tdp"
   ]
  },
  {
   "cell_type": "code",
   "execution_count": 4,
   "metadata": {},
   "outputs": [
    {
     "name": "stdout",
     "output_type": "stream",
     "text": [
      "Avatar\n",
      "Avatar: The Last Airbender\n",
      "Tomorrow Never Dies\n",
      "Avatar 2\n",
      "The Legend of Korra\n",
      "The Last Airbender\n",
      "Green Lantern\n",
      "Avatar: The Last Airbender\n",
      "Avatar 3\n",
      "Avatar 5\n",
      "Avatar 4\n",
      "The Avatars\n",
      "The King's Avatar\n",
      "The Last Avatar\n",
      "Avatar\n",
      "Avatar Spirits\n",
      "Avatar: The Game\n",
      "The King's Avatar\n",
      "Avatar\n",
      "Avatar\n"
     ]
    }
   ],
   "source": [
    "# if just take the value as is, you will get an IMDB movie object. \n",
    "# instead, need to convert it to a list before pulling this in\n",
    "for i in range(len(tv_show)):\n",
    "    print(tv_show[i])"
   ]
  },
  {
   "cell_type": "code",
   "execution_count": 6,
   "metadata": {
    "collapsed": true
   },
   "outputs": [],
   "source": [
    "#pull title list and movie_id list to create pandas df\n",
    "\n",
    "id_list = []\n",
    "\n",
    "for i in range(len(tv_show)):\n",
    "    temp_list = tv_show[i].getID()\n",
    "    id_list.append(temp_list)\n",
    "\n",
    "title_list = []\n",
    "\n",
    "for i in range(len(tv_show)):\n",
    "    temp_list = str(tv_show[i]) #needs to be a str otherwise pull it in as a IMDB.movie.movie object...\n",
    "    title_list.append(temp_list)"
   ]
  },
  {
   "cell_type": "code",
   "execution_count": 7,
   "metadata": {
    "collapsed": true
   },
   "outputs": [],
   "source": [
    "#allows me to get movies and their ids into a pandas df for easier searching and manipulation in the future\n",
    "new_df = pd.DataFrame()\n",
    "\n",
    "new_df['id'] = id_list\n",
    "new_df['title'] = title_list"
   ]
  },
  {
   "cell_type": "code",
   "execution_count": 8,
   "metadata": {},
   "outputs": [
    {
     "data": {
      "text/html": [
       "<div>\n",
       "<style scoped>\n",
       "    .dataframe tbody tr th:only-of-type {\n",
       "        vertical-align: middle;\n",
       "    }\n",
       "\n",
       "    .dataframe tbody tr th {\n",
       "        vertical-align: top;\n",
       "    }\n",
       "\n",
       "    .dataframe thead th {\n",
       "        text-align: right;\n",
       "    }\n",
       "</style>\n",
       "<table border=\"1\" class=\"dataframe\">\n",
       "  <thead>\n",
       "    <tr style=\"text-align: right;\">\n",
       "      <th></th>\n",
       "      <th>id</th>\n",
       "      <th>title</th>\n",
       "    </tr>\n",
       "  </thead>\n",
       "  <tbody>\n",
       "    <tr>\n",
       "      <th>0</th>\n",
       "      <td>0499549</td>\n",
       "      <td>Avatar</td>\n",
       "    </tr>\n",
       "    <tr>\n",
       "      <th>1</th>\n",
       "      <td>0417299</td>\n",
       "      <td>Avatar: The Last Airbender</td>\n",
       "    </tr>\n",
       "    <tr>\n",
       "      <th>2</th>\n",
       "      <td>0120347</td>\n",
       "      <td>Tomorrow Never Dies</td>\n",
       "    </tr>\n",
       "    <tr>\n",
       "      <th>3</th>\n",
       "      <td>1630029</td>\n",
       "      <td>Avatar 2</td>\n",
       "    </tr>\n",
       "    <tr>\n",
       "      <th>4</th>\n",
       "      <td>1695360</td>\n",
       "      <td>The Legend of Korra</td>\n",
       "    </tr>\n",
       "  </tbody>\n",
       "</table>\n",
       "</div>"
      ],
      "text/plain": [
       "        id                       title\n",
       "0  0499549                      Avatar\n",
       "1  0417299  Avatar: The Last Airbender\n",
       "2  0120347         Tomorrow Never Dies\n",
       "3  1630029                    Avatar 2\n",
       "4  1695360         The Legend of Korra"
      ]
     },
     "execution_count": 8,
     "metadata": {},
     "output_type": "execute_result"
    }
   ],
   "source": [
    "new_df.head()"
   ]
  },
  {
   "cell_type": "code",
   "execution_count": 70,
   "metadata": {
    "scrolled": true
   },
   "outputs": [],
   "source": [
    "lok_ep = ia.get_movie_episodes('1695360')\n",
    "atla_ep = ia.get_movie_episodes('0417299')\n",
    "tdf_ep = ia.get_movie_episodes('8688814') # confirmed this is the correct series"
   ]
  },
  {
   "cell_type": "code",
   "execution_count": 71,
   "metadata": {
    "collapsed": true
   },
   "outputs": [],
   "source": [
    "#can I create a list of these items? \n",
    "avatar_list = [lok_ep,atla_ep,tdf_ep] # yes you can "
   ]
  },
  {
   "cell_type": "code",
   "execution_count": 74,
   "metadata": {
    "collapsed": true
   },
   "outputs": [],
   "source": [
    "avatar_ep_list = []\n",
    "\n",
    "for x in range(len(avatar_list)):\n",
    "    temp_list = avatar_list[x]['data'].get('episodes')\n",
    "    avatar_ep_list.append(temp_list)"
   ]
  },
  {
   "cell_type": "code",
   "execution_count": 77,
   "metadata": {},
   "outputs": [
    {
     "data": {
      "text/plain": [
       "list"
      ]
     },
     "execution_count": 77,
     "metadata": {},
     "output_type": "execute_result"
    }
   ],
   "source": [
    "type(avatar_ep_list)"
   ]
  },
  {
   "cell_type": "code",
   "execution_count": 114,
   "metadata": {
    "collapsed": true
   },
   "outputs": [],
   "source": [
    "#created lots of loops to scale the process\n",
    "master_df = pd.DataFrame()\n",
    "\n",
    "for x in range(len(avatar_list)):\n",
    "    for y in avatar_list[x]['data']['episodes'].keys():\n",
    "        for z in avatar_list[x]['data']['episodes'][y].keys():\n",
    "            temp_dict = avatar_list[x]['data']['episodes'][y][z].data\n",
    "            temp_df = pd.DataFrame(temp_dict, index = [0])\n",
    "            temp_df['episode of'] = temp_df['episode of'].astype(str)\n",
    "            master_df = master_df.append(temp_df)\n",
    "            #print(f\"Order {x} Season{y} episode{z}\")"
   ]
  },
  {
   "cell_type": "code",
   "execution_count": 115,
   "metadata": {},
   "outputs": [
    {
     "data": {
      "text/html": [
       "<div>\n",
       "<style scoped>\n",
       "    .dataframe tbody tr th:only-of-type {\n",
       "        vertical-align: middle;\n",
       "    }\n",
       "\n",
       "    .dataframe tbody tr th {\n",
       "        vertical-align: top;\n",
       "    }\n",
       "\n",
       "    .dataframe thead th {\n",
       "        text-align: right;\n",
       "    }\n",
       "</style>\n",
       "<table border=\"1\" class=\"dataframe\">\n",
       "  <thead>\n",
       "    <tr style=\"text-align: right;\">\n",
       "      <th></th>\n",
       "      <th>title</th>\n",
       "      <th>kind</th>\n",
       "      <th>episode of</th>\n",
       "      <th>season</th>\n",
       "      <th>episode</th>\n",
       "      <th>rating</th>\n",
       "      <th>votes</th>\n",
       "      <th>original air date</th>\n",
       "      <th>year</th>\n",
       "      <th>plot</th>\n",
       "    </tr>\n",
       "  </thead>\n",
       "  <tbody>\n",
       "    <tr>\n",
       "      <th>0</th>\n",
       "      <td>After All These Years</td>\n",
       "      <td>episode</td>\n",
       "      <td>The Legend of Korra (TV Series 2012–2014) - IMDb</td>\n",
       "      <td>4</td>\n",
       "      <td>1</td>\n",
       "      <td>8.901235</td>\n",
       "      <td>1310</td>\n",
       "      <td>3 Oct. 2014</td>\n",
       "      <td>2014</td>\n",
       "      <td>\\n    The Metal Clan's new leader Kuvira is ma...</td>\n",
       "    </tr>\n",
       "    <tr>\n",
       "      <th>0</th>\n",
       "      <td>Korra Alone</td>\n",
       "      <td>episode</td>\n",
       "      <td>The Legend of Korra (TV Series 2012–2014) - IMDb</td>\n",
       "      <td>4</td>\n",
       "      <td>2</td>\n",
       "      <td>9.301235</td>\n",
       "      <td>1511</td>\n",
       "      <td>10 Oct. 2014</td>\n",
       "      <td>2014</td>\n",
       "      <td>\\n    While Korra is struggling with PTSD by t...</td>\n",
       "    </tr>\n",
       "    <tr>\n",
       "      <th>0</th>\n",
       "      <td>The Coronation</td>\n",
       "      <td>episode</td>\n",
       "      <td>The Legend of Korra (TV Series 2012–2014) - IMDb</td>\n",
       "      <td>4</td>\n",
       "      <td>3</td>\n",
       "      <td>8.701235</td>\n",
       "      <td>1078</td>\n",
       "      <td>17 Oct. 2014</td>\n",
       "      <td>2014</td>\n",
       "      <td>\\n    The Coronation of the new King of Earth ...</td>\n",
       "    </tr>\n",
       "    <tr>\n",
       "      <th>0</th>\n",
       "      <td>The Calling</td>\n",
       "      <td>episode</td>\n",
       "      <td>The Legend of Korra (TV Series 2012–2014) - IMDb</td>\n",
       "      <td>4</td>\n",
       "      <td>4</td>\n",
       "      <td>8.801235</td>\n",
       "      <td>1079</td>\n",
       "      <td>24 Oct. 2014</td>\n",
       "      <td>2014</td>\n",
       "      <td>\\n    The airbender children, Jinora, Ikki and...</td>\n",
       "    </tr>\n",
       "    <tr>\n",
       "      <th>0</th>\n",
       "      <td>Enemy at the Gates</td>\n",
       "      <td>episode</td>\n",
       "      <td>The Legend of Korra (TV Series 2012–2014) - IMDb</td>\n",
       "      <td>4</td>\n",
       "      <td>5</td>\n",
       "      <td>8.801235</td>\n",
       "      <td>1041</td>\n",
       "      <td>31 Oct. 2014</td>\n",
       "      <td>2014</td>\n",
       "      <td>\\n    Kuvira threatens Zaofu; Bolin is caught ...</td>\n",
       "    </tr>\n",
       "    <tr>\n",
       "      <th>0</th>\n",
       "      <td>The Battle of Zaofu</td>\n",
       "      <td>episode</td>\n",
       "      <td>The Legend of Korra (TV Series 2012–2014) - IMDb</td>\n",
       "      <td>4</td>\n",
       "      <td>6</td>\n",
       "      <td>8.701235</td>\n",
       "      <td>718</td>\n",
       "      <td>7 Nov. 2014</td>\n",
       "      <td>2014</td>\n",
       "      <td>\\n    Korra returns to her role as the avatar,...</td>\n",
       "    </tr>\n",
       "    <tr>\n",
       "      <th>0</th>\n",
       "      <td>Reunion</td>\n",
       "      <td>episode</td>\n",
       "      <td>The Legend of Korra (TV Series 2012–2014) - IMDb</td>\n",
       "      <td>4</td>\n",
       "      <td>7</td>\n",
       "      <td>8.501235</td>\n",
       "      <td>720</td>\n",
       "      <td>14 Nov. 2014</td>\n",
       "      <td>2014</td>\n",
       "      <td>\\n    Korra returns to Republic city and team ...</td>\n",
       "    </tr>\n",
       "    <tr>\n",
       "      <th>0</th>\n",
       "      <td>Remembrances</td>\n",
       "      <td>episode</td>\n",
       "      <td>The Legend of Korra (TV Series 2012–2014) - IMDb</td>\n",
       "      <td>4</td>\n",
       "      <td>8</td>\n",
       "      <td>6.301235</td>\n",
       "      <td>853</td>\n",
       "      <td>21 Nov. 2014</td>\n",
       "      <td>2014</td>\n",
       "      <td>\\n    Wu begins his exile with Mako's family, ...</td>\n",
       "    </tr>\n",
       "    <tr>\n",
       "      <th>0</th>\n",
       "      <td>Beyond the Wilds</td>\n",
       "      <td>episode</td>\n",
       "      <td>The Legend of Korra (TV Series 2012–2014) - IMDb</td>\n",
       "      <td>4</td>\n",
       "      <td>9</td>\n",
       "      <td>8.701235</td>\n",
       "      <td>774</td>\n",
       "      <td>28 Nov. 2014</td>\n",
       "      <td>2014</td>\n",
       "      <td>\\n    The spirit vines in Republic City start ...</td>\n",
       "    </tr>\n",
       "    <tr>\n",
       "      <th>0</th>\n",
       "      <td>Operation Beifong</td>\n",
       "      <td>episode</td>\n",
       "      <td>The Legend of Korra (TV Series 2012–2014) - IMDb</td>\n",
       "      <td>4</td>\n",
       "      <td>10</td>\n",
       "      <td>9.101235</td>\n",
       "      <td>832</td>\n",
       "      <td>5 Dec. 2014</td>\n",
       "      <td>2014</td>\n",
       "      <td>\\n    Bolin helps Opal and Lin save the Beifon...</td>\n",
       "    </tr>\n",
       "    <tr>\n",
       "      <th>0</th>\n",
       "      <td>Kuvira's Gambit</td>\n",
       "      <td>episode</td>\n",
       "      <td>The Legend of Korra (TV Series 2012–2014) - IMDb</td>\n",
       "      <td>4</td>\n",
       "      <td>11</td>\n",
       "      <td>8.901235</td>\n",
       "      <td>760</td>\n",
       "      <td>12 Dec. 2014</td>\n",
       "      <td>2014</td>\n",
       "      <td>\\n    Korra and Team Avatar try to stop Kuvira...</td>\n",
       "    </tr>\n",
       "    <tr>\n",
       "      <th>0</th>\n",
       "      <td>Day of the Colossus</td>\n",
       "      <td>episode</td>\n",
       "      <td>The Legend of Korra (TV Series 2012–2014) - IMDb</td>\n",
       "      <td>4</td>\n",
       "      <td>12</td>\n",
       "      <td>9.301235</td>\n",
       "      <td>1065</td>\n",
       "      <td>19 Dec. 2014</td>\n",
       "      <td>2014</td>\n",
       "      <td>\\n    Team Avatar clashes with Kuvira on the s...</td>\n",
       "    </tr>\n",
       "    <tr>\n",
       "      <th>0</th>\n",
       "      <td>The Last Stand</td>\n",
       "      <td>episode</td>\n",
       "      <td>The Legend of Korra (TV Series 2012–2014) - IMDb</td>\n",
       "      <td>4</td>\n",
       "      <td>13</td>\n",
       "      <td>9.201235</td>\n",
       "      <td>1441</td>\n",
       "      <td>19 Dec. 2014</td>\n",
       "      <td>2014</td>\n",
       "      <td>\\n    When Korra comes face to face with Kuvir...</td>\n",
       "    </tr>\n",
       "    <tr>\n",
       "      <th>0</th>\n",
       "      <td>Welcome to Republic City</td>\n",
       "      <td>episode</td>\n",
       "      <td>The Legend of Korra (TV Series 2012–2014) - IMDb</td>\n",
       "      <td>1</td>\n",
       "      <td>1</td>\n",
       "      <td>8.501235</td>\n",
       "      <td>1744</td>\n",
       "      <td>14 Apr. 2012</td>\n",
       "      <td>2012</td>\n",
       "      <td>\\n    Korra, the new Avatar, travels to Republ...</td>\n",
       "    </tr>\n",
       "    <tr>\n",
       "      <th>0</th>\n",
       "      <td>A Leaf in the Wind</td>\n",
       "      <td>episode</td>\n",
       "      <td>The Legend of Korra (TV Series 2012–2014) - IMDb</td>\n",
       "      <td>1</td>\n",
       "      <td>2</td>\n",
       "      <td>8.501235</td>\n",
       "      <td>1533</td>\n",
       "      <td>14 Apr. 2012</td>\n",
       "      <td>2012</td>\n",
       "      <td>\\n    Against Tenzin's prohibition, a frustrat...</td>\n",
       "    </tr>\n",
       "    <tr>\n",
       "      <th>0</th>\n",
       "      <td>The Revelation</td>\n",
       "      <td>episode</td>\n",
       "      <td>The Legend of Korra (TV Series 2012–2014) - IMDb</td>\n",
       "      <td>1</td>\n",
       "      <td>3</td>\n",
       "      <td>8.501235</td>\n",
       "      <td>1375</td>\n",
       "      <td>21 Apr. 2012</td>\n",
       "      <td>2012</td>\n",
       "      <td>\\n    Korra attempts to infiltrate the Equalis...</td>\n",
       "    </tr>\n",
       "    <tr>\n",
       "      <th>0</th>\n",
       "      <td>The Voice in the Night</td>\n",
       "      <td>episode</td>\n",
       "      <td>The Legend of Korra (TV Series 2012–2014) - IMDb</td>\n",
       "      <td>1</td>\n",
       "      <td>4</td>\n",
       "      <td>8.401235</td>\n",
       "      <td>1381</td>\n",
       "      <td>28 Apr. 2012</td>\n",
       "      <td>2012</td>\n",
       "      <td>\\n    Korra becomes part of Councilman Tarrlok...</td>\n",
       "    </tr>\n",
       "    <tr>\n",
       "      <th>0</th>\n",
       "      <td>The Spirit of Competition</td>\n",
       "      <td>episode</td>\n",
       "      <td>The Legend of Korra (TV Series 2012–2014) - IMDb</td>\n",
       "      <td>1</td>\n",
       "      <td>5</td>\n",
       "      <td>8.101235</td>\n",
       "      <td>1382</td>\n",
       "      <td>5 May 2012</td>\n",
       "      <td>2012</td>\n",
       "      <td>\\n    As Asami steals Mako's heart, Korra stru...</td>\n",
       "    </tr>\n",
       "    <tr>\n",
       "      <th>0</th>\n",
       "      <td>And the Winner Is...</td>\n",
       "      <td>episode</td>\n",
       "      <td>The Legend of Korra (TV Series 2012–2014) - IMDb</td>\n",
       "      <td>1</td>\n",
       "      <td>6</td>\n",
       "      <td>8.901235</td>\n",
       "      <td>1425</td>\n",
       "      <td>12 May 2012</td>\n",
       "      <td>2012</td>\n",
       "      <td>\\n    Korra and the Fire Ferrets are in the pr...</td>\n",
       "    </tr>\n",
       "    <tr>\n",
       "      <th>0</th>\n",
       "      <td>The Aftermath</td>\n",
       "      <td>episode</td>\n",
       "      <td>The Legend of Korra (TV Series 2012–2014) - IMDb</td>\n",
       "      <td>1</td>\n",
       "      <td>7</td>\n",
       "      <td>8.601235</td>\n",
       "      <td>1338</td>\n",
       "      <td>19 May 2012</td>\n",
       "      <td>2012</td>\n",
       "      <td>\\n    Korra suspects that an ally is working w...</td>\n",
       "    </tr>\n",
       "    <tr>\n",
       "      <th>0</th>\n",
       "      <td>When Extremes Meet</td>\n",
       "      <td>episode</td>\n",
       "      <td>The Legend of Korra (TV Series 2012–2014) - IMDb</td>\n",
       "      <td>1</td>\n",
       "      <td>8</td>\n",
       "      <td>8.801235</td>\n",
       "      <td>1358</td>\n",
       "      <td>2 Jun. 2012</td>\n",
       "      <td>2012</td>\n",
       "      <td>\\n    Korra faces off with Councilman Tarrlok ...</td>\n",
       "    </tr>\n",
       "    <tr>\n",
       "      <th>0</th>\n",
       "      <td>Out of the Past</td>\n",
       "      <td>episode</td>\n",
       "      <td>The Legend of Korra (TV Series 2012–2014) - IMDb</td>\n",
       "      <td>1</td>\n",
       "      <td>9</td>\n",
       "      <td>8.901235</td>\n",
       "      <td>1391</td>\n",
       "      <td>9 Jun. 2012</td>\n",
       "      <td>2012</td>\n",
       "      <td>\\n    After being imprisoned by Tarrlok, Korra...</td>\n",
       "    </tr>\n",
       "    <tr>\n",
       "      <th>0</th>\n",
       "      <td>Turning the Tides</td>\n",
       "      <td>episode</td>\n",
       "      <td>The Legend of Korra (TV Series 2012–2014) - IMDb</td>\n",
       "      <td>1</td>\n",
       "      <td>10</td>\n",
       "      <td>8.901235</td>\n",
       "      <td>1410</td>\n",
       "      <td>16 Jun. 2012</td>\n",
       "      <td>2012</td>\n",
       "      <td>\\n    The Equalists begin their attack on Repu...</td>\n",
       "    </tr>\n",
       "    <tr>\n",
       "      <th>0</th>\n",
       "      <td>Skeletons in the Closet</td>\n",
       "      <td>episode</td>\n",
       "      <td>The Legend of Korra (TV Series 2012–2014) - IMDb</td>\n",
       "      <td>1</td>\n",
       "      <td>11</td>\n",
       "      <td>8.901235</td>\n",
       "      <td>1412</td>\n",
       "      <td>23 Jun. 2012</td>\n",
       "      <td>2012</td>\n",
       "      <td>\\n    Korra and the rest of Team Avatar go int...</td>\n",
       "    </tr>\n",
       "    <tr>\n",
       "      <th>0</th>\n",
       "      <td>Endgame</td>\n",
       "      <td>episode</td>\n",
       "      <td>The Legend of Korra (TV Series 2012–2014) - IMDb</td>\n",
       "      <td>1</td>\n",
       "      <td>12</td>\n",
       "      <td>9.201235</td>\n",
       "      <td>1732</td>\n",
       "      <td>23 Jun. 2012</td>\n",
       "      <td>2012</td>\n",
       "      <td>\\n    The duel between Amon and Korra - will K...</td>\n",
       "    </tr>\n",
       "    <tr>\n",
       "      <th>0</th>\n",
       "      <td>Rebel Spirit</td>\n",
       "      <td>episode</td>\n",
       "      <td>The Legend of Korra (TV Series 2012–2014) - IMDb</td>\n",
       "      <td>2</td>\n",
       "      <td>1</td>\n",
       "      <td>8.101235</td>\n",
       "      <td>1321</td>\n",
       "      <td>13 Sep. 2013</td>\n",
       "      <td>2013</td>\n",
       "      <td>\\n    Korra struggles to find a deeper connect...</td>\n",
       "    </tr>\n",
       "    <tr>\n",
       "      <th>0</th>\n",
       "      <td>The Southern Lights</td>\n",
       "      <td>episode</td>\n",
       "      <td>The Legend of Korra (TV Series 2012–2014) - IMDb</td>\n",
       "      <td>2</td>\n",
       "      <td>2</td>\n",
       "      <td>8.001235</td>\n",
       "      <td>1214</td>\n",
       "      <td>13 Sep. 2013</td>\n",
       "      <td>2013</td>\n",
       "      <td>\\n    Korra and Chief Unalaq journey into a da...</td>\n",
       "    </tr>\n",
       "    <tr>\n",
       "      <th>0</th>\n",
       "      <td>Civil Wars: Part 1</td>\n",
       "      <td>episode</td>\n",
       "      <td>The Legend of Korra (TV Series 2012–2014) - IMDb</td>\n",
       "      <td>2</td>\n",
       "      <td>3</td>\n",
       "      <td>7.901235</td>\n",
       "      <td>1168</td>\n",
       "      <td>20 Sep. 2013</td>\n",
       "      <td>2013</td>\n",
       "      <td>\\n    While tensions flare between the Norther...</td>\n",
       "    </tr>\n",
       "    <tr>\n",
       "      <th>0</th>\n",
       "      <td>Civil Wars: Part 2</td>\n",
       "      <td>episode</td>\n",
       "      <td>The Legend of Korra (TV Series 2012–2014) - IMDb</td>\n",
       "      <td>2</td>\n",
       "      <td>4</td>\n",
       "      <td>8.201235</td>\n",
       "      <td>1151</td>\n",
       "      <td>27 Sep. 2013</td>\n",
       "      <td>2013</td>\n",
       "      <td>\\n    When Korra's parents are wrongfully arre...</td>\n",
       "    </tr>\n",
       "    <tr>\n",
       "      <th>0</th>\n",
       "      <td>Peacekeepers</td>\n",
       "      <td>episode</td>\n",
       "      <td>The Legend of Korra (TV Series 2012–2014) - IMDb</td>\n",
       "      <td>2</td>\n",
       "      <td>5</td>\n",
       "      <td>8.001235</td>\n",
       "      <td>1123</td>\n",
       "      <td>4 Oct. 2013</td>\n",
       "      <td>2013</td>\n",
       "      <td>\\n    When the President of the United Republi...</td>\n",
       "    </tr>\n",
       "    <tr>\n",
       "      <th>...</th>\n",
       "      <td>...</td>\n",
       "      <td>...</td>\n",
       "      <td>...</td>\n",
       "      <td>...</td>\n",
       "      <td>...</td>\n",
       "      <td>...</td>\n",
       "      <td>...</td>\n",
       "      <td>...</td>\n",
       "      <td>...</td>\n",
       "      <td>...</td>\n",
       "    </tr>\n",
       "    <tr>\n",
       "      <th>0</th>\n",
       "      <td>The Library</td>\n",
       "      <td>episode</td>\n",
       "      <td>Avatar: The Last Airbender (TV Series 2005–200...</td>\n",
       "      <td>2</td>\n",
       "      <td>10</td>\n",
       "      <td>8.801235</td>\n",
       "      <td>1437</td>\n",
       "      <td>14 Jul. 2006</td>\n",
       "      <td>2006</td>\n",
       "      <td>\\n    When he learns that there is a lost Libr...</td>\n",
       "    </tr>\n",
       "    <tr>\n",
       "      <th>0</th>\n",
       "      <td>The Desert</td>\n",
       "      <td>episode</td>\n",
       "      <td>Avatar: The Last Airbender (TV Series 2005–200...</td>\n",
       "      <td>2</td>\n",
       "      <td>11</td>\n",
       "      <td>8.801235</td>\n",
       "      <td>1422</td>\n",
       "      <td>14 Jul. 2006</td>\n",
       "      <td>2006</td>\n",
       "      <td>\\n    Lost in the desert without Appa, Team Av...</td>\n",
       "    </tr>\n",
       "    <tr>\n",
       "      <th>0</th>\n",
       "      <td>The Serpent's Pass</td>\n",
       "      <td>episode</td>\n",
       "      <td>Avatar: The Last Airbender (TV Series 2005–200...</td>\n",
       "      <td>2</td>\n",
       "      <td>12</td>\n",
       "      <td>8.401235</td>\n",
       "      <td>1345</td>\n",
       "      <td>15 Sep. 2006</td>\n",
       "      <td>2006</td>\n",
       "      <td>\\n    After getting tickets for the ferry head...</td>\n",
       "    </tr>\n",
       "    <tr>\n",
       "      <th>0</th>\n",
       "      <td>The Drill</td>\n",
       "      <td>episode</td>\n",
       "      <td>Avatar: The Last Airbender (TV Series 2005–200...</td>\n",
       "      <td>2</td>\n",
       "      <td>13</td>\n",
       "      <td>9.001235</td>\n",
       "      <td>1466</td>\n",
       "      <td>15 Sep. 2006</td>\n",
       "      <td>2006</td>\n",
       "      <td>\\n    After arriving at the great wall of Ba S...</td>\n",
       "    </tr>\n",
       "    <tr>\n",
       "      <th>0</th>\n",
       "      <td>City of Walls and Secrets</td>\n",
       "      <td>episode</td>\n",
       "      <td>Avatar: The Last Airbender (TV Series 2005–200...</td>\n",
       "      <td>2</td>\n",
       "      <td>14</td>\n",
       "      <td>8.701235</td>\n",
       "      <td>1389</td>\n",
       "      <td>22 Sep. 2006</td>\n",
       "      <td>2006</td>\n",
       "      <td>\\n    After getting a house to stay in, Aang a...</td>\n",
       "    </tr>\n",
       "    <tr>\n",
       "      <th>0</th>\n",
       "      <td>The Tales of Ba Sing Se</td>\n",
       "      <td>episode</td>\n",
       "      <td>Avatar: The Last Airbender (TV Series 2005–200...</td>\n",
       "      <td>2</td>\n",
       "      <td>15</td>\n",
       "      <td>9.101235</td>\n",
       "      <td>1988</td>\n",
       "      <td>29 Sep. 2006</td>\n",
       "      <td>2006</td>\n",
       "      <td>\\n    A series of short stories covering some ...</td>\n",
       "    </tr>\n",
       "    <tr>\n",
       "      <th>0</th>\n",
       "      <td>Appa's Lost Days</td>\n",
       "      <td>episode</td>\n",
       "      <td>Avatar: The Last Airbender (TV Series 2005–200...</td>\n",
       "      <td>2</td>\n",
       "      <td>16</td>\n",
       "      <td>8.801235</td>\n",
       "      <td>1476</td>\n",
       "      <td>13 Oct. 2006</td>\n",
       "      <td>2006</td>\n",
       "      <td>\\n    In this special episode, we go back in t...</td>\n",
       "    </tr>\n",
       "    <tr>\n",
       "      <th>0</th>\n",
       "      <td>Lake Laogai</td>\n",
       "      <td>episode</td>\n",
       "      <td>Avatar: The Last Airbender (TV Series 2005–200...</td>\n",
       "      <td>2</td>\n",
       "      <td>17</td>\n",
       "      <td>9.001235</td>\n",
       "      <td>1457</td>\n",
       "      <td>3 Nov. 2006</td>\n",
       "      <td>2006</td>\n",
       "      <td>\\n    The Avatar gang encounters Jet in Ba Sin...</td>\n",
       "    </tr>\n",
       "    <tr>\n",
       "      <th>0</th>\n",
       "      <td>The Earth King</td>\n",
       "      <td>episode</td>\n",
       "      <td>Avatar: The Last Airbender (TV Series 2005–200...</td>\n",
       "      <td>2</td>\n",
       "      <td>18</td>\n",
       "      <td>8.601235</td>\n",
       "      <td>1348</td>\n",
       "      <td>17 Nov. 2006</td>\n",
       "      <td>2006</td>\n",
       "      <td>\\n    The kids battle Long Feng and the Dai Li...</td>\n",
       "    </tr>\n",
       "    <tr>\n",
       "      <th>0</th>\n",
       "      <td>The Guru</td>\n",
       "      <td>episode</td>\n",
       "      <td>Avatar: The Last Airbender (TV Series 2005–200...</td>\n",
       "      <td>2</td>\n",
       "      <td>19</td>\n",
       "      <td>9.001235</td>\n",
       "      <td>1474</td>\n",
       "      <td>1 Dec. 2006</td>\n",
       "      <td>2006</td>\n",
       "      <td>\\n    Aang receives guidance from Guru Pathik ...</td>\n",
       "    </tr>\n",
       "    <tr>\n",
       "      <th>0</th>\n",
       "      <td>The Crossroads of Destiny</td>\n",
       "      <td>episode</td>\n",
       "      <td>Avatar: The Last Airbender (TV Series 2005–200...</td>\n",
       "      <td>2</td>\n",
       "      <td>20</td>\n",
       "      <td>9.501235</td>\n",
       "      <td>2162</td>\n",
       "      <td>1 Dec. 2006</td>\n",
       "      <td>2006</td>\n",
       "      <td>\\n    The heroes work together to stop Azula's...</td>\n",
       "    </tr>\n",
       "    <tr>\n",
       "      <th>0</th>\n",
       "      <td>Super Deformed Shorts: Swamp Skiin' Throwdown</td>\n",
       "      <td>episode</td>\n",
       "      <td>Avatar: The Last Airbender (TV Series 2005–200...</td>\n",
       "      <td>-1</td>\n",
       "      <td>-1</td>\n",
       "      <td>7.901235</td>\n",
       "      <td>140</td>\n",
       "      <td>11 Sep. 2007</td>\n",
       "      <td>2007</td>\n",
       "      <td>\\n  Know what this is about?\\n Be the first on...</td>\n",
       "    </tr>\n",
       "    <tr>\n",
       "      <th>0</th>\n",
       "      <td>A Secret and a Spark</td>\n",
       "      <td>episode</td>\n",
       "      <td>The Dragon Prince (TV Series 2018– ) - IMDb</td>\n",
       "      <td>2</td>\n",
       "      <td>1</td>\n",
       "      <td>7.801235</td>\n",
       "      <td>200</td>\n",
       "      <td>15 Feb. 2019</td>\n",
       "      <td>2019</td>\n",
       "      <td>\\n    Callum, Ezran and Rayla go with Lujanne....</td>\n",
       "    </tr>\n",
       "    <tr>\n",
       "      <th>0</th>\n",
       "      <td>Half Moon Lies</td>\n",
       "      <td>episode</td>\n",
       "      <td>The Dragon Prince (TV Series 2018– ) - IMDb</td>\n",
       "      <td>2</td>\n",
       "      <td>2</td>\n",
       "      <td>8.201235</td>\n",
       "      <td>189</td>\n",
       "      <td>15 Feb. 2019</td>\n",
       "      <td>2019</td>\n",
       "      <td>\\n    After a fierce showdown with Rayla, Sore...</td>\n",
       "    </tr>\n",
       "    <tr>\n",
       "      <th>0</th>\n",
       "      <td>Smoke and Mirrors</td>\n",
       "      <td>episode</td>\n",
       "      <td>The Dragon Prince (TV Series 2018– ) - IMDb</td>\n",
       "      <td>2</td>\n",
       "      <td>3</td>\n",
       "      <td>8.301235</td>\n",
       "      <td>182</td>\n",
       "      <td>15 Feb. 2019</td>\n",
       "      <td>2019</td>\n",
       "      <td>\\n    Callum searches for a way to tell Ezran ...</td>\n",
       "    </tr>\n",
       "    <tr>\n",
       "      <th>0</th>\n",
       "      <td>Voyage of the Ruthless</td>\n",
       "      <td>episode</td>\n",
       "      <td>The Dragon Prince (TV Series 2018– ) - IMDb</td>\n",
       "      <td>2</td>\n",
       "      <td>4</td>\n",
       "      <td>8.301235</td>\n",
       "      <td>169</td>\n",
       "      <td>15 Feb. 2019</td>\n",
       "      <td>2019</td>\n",
       "      <td>\\n    After saying goodbye to Phoe-Phoe, the g...</td>\n",
       "    </tr>\n",
       "    <tr>\n",
       "      <th>0</th>\n",
       "      <td>Breaking the Seal</td>\n",
       "      <td>episode</td>\n",
       "      <td>The Dragon Prince (TV Series 2018– ) - IMDb</td>\n",
       "      <td>2</td>\n",
       "      <td>5</td>\n",
       "      <td>8.301235</td>\n",
       "      <td>179</td>\n",
       "      <td>15 Feb. 2019</td>\n",
       "      <td>2019</td>\n",
       "      <td>\\n    At the summit of the five kingdoms, Vire...</td>\n",
       "    </tr>\n",
       "    <tr>\n",
       "      <th>0</th>\n",
       "      <td>Heart of a Titan</td>\n",
       "      <td>episode</td>\n",
       "      <td>The Dragon Prince (TV Series 2018– ) - IMDb</td>\n",
       "      <td>2</td>\n",
       "      <td>6</td>\n",
       "      <td>8.701235</td>\n",
       "      <td>187</td>\n",
       "      <td>15 Feb. 2019</td>\n",
       "      <td>2019</td>\n",
       "      <td>\\n    The attack on the Magma Titan has devast...</td>\n",
       "    </tr>\n",
       "    <tr>\n",
       "      <th>0</th>\n",
       "      <td>Fire and Fury</td>\n",
       "      <td>episode</td>\n",
       "      <td>The Dragon Prince (TV Series 2018– ) - IMDb</td>\n",
       "      <td>2</td>\n",
       "      <td>7</td>\n",
       "      <td>8.501235</td>\n",
       "      <td>168</td>\n",
       "      <td>15 Feb. 2019</td>\n",
       "      <td>2019</td>\n",
       "      <td>\\n    When Soren picks a fight with a dragon, ...</td>\n",
       "    </tr>\n",
       "    <tr>\n",
       "      <th>0</th>\n",
       "      <td>The Book of Destiny</td>\n",
       "      <td>episode</td>\n",
       "      <td>The Dragon Prince (TV Series 2018– ) - IMDb</td>\n",
       "      <td>2</td>\n",
       "      <td>8</td>\n",
       "      <td>8.601235</td>\n",
       "      <td>169</td>\n",
       "      <td>15 Feb. 2019</td>\n",
       "      <td>2019</td>\n",
       "      <td>\\n    Callum pays a price for dabbling in dark...</td>\n",
       "    </tr>\n",
       "    <tr>\n",
       "      <th>0</th>\n",
       "      <td>Breathe</td>\n",
       "      <td>episode</td>\n",
       "      <td>The Dragon Prince (TV Series 2018– ) - IMDb</td>\n",
       "      <td>2</td>\n",
       "      <td>9</td>\n",
       "      <td>9.101235</td>\n",
       "      <td>196</td>\n",
       "      <td>15 Feb. 2019</td>\n",
       "      <td>2019</td>\n",
       "      <td>\\n    After using his gift to help Claudia, Ez...</td>\n",
       "    </tr>\n",
       "    <tr>\n",
       "      <th>0</th>\n",
       "      <td>Echoes of Thunder</td>\n",
       "      <td>episode</td>\n",
       "      <td>The Dragon Prince (TV Series 2018– ) - IMDb</td>\n",
       "      <td>1</td>\n",
       "      <td>1</td>\n",
       "      <td>7.801235</td>\n",
       "      <td>347</td>\n",
       "      <td>14 Sep. 2018</td>\n",
       "      <td>2018</td>\n",
       "      <td>\\n    As the human kingdom of Katolis braces f...</td>\n",
       "    </tr>\n",
       "    <tr>\n",
       "      <th>0</th>\n",
       "      <td>What is Done</td>\n",
       "      <td>episode</td>\n",
       "      <td>The Dragon Prince (TV Series 2018– ) - IMDb</td>\n",
       "      <td>1</td>\n",
       "      <td>2</td>\n",
       "      <td>8.101235</td>\n",
       "      <td>308</td>\n",
       "      <td>14 Sep. 2018</td>\n",
       "      <td>2018</td>\n",
       "      <td>\\n    Determined to make up for her mistake, R...</td>\n",
       "    </tr>\n",
       "    <tr>\n",
       "      <th>0</th>\n",
       "      <td>Moonrise</td>\n",
       "      <td>episode</td>\n",
       "      <td>The Dragon Prince (TV Series 2018– ) - IMDb</td>\n",
       "      <td>1</td>\n",
       "      <td>3</td>\n",
       "      <td>8.501235</td>\n",
       "      <td>302</td>\n",
       "      <td>14 Sep. 2018</td>\n",
       "      <td>2018</td>\n",
       "      <td>\\n    With night falling, Rayla and the prince...</td>\n",
       "    </tr>\n",
       "    <tr>\n",
       "      <th>0</th>\n",
       "      <td>Bloodthirsty</td>\n",
       "      <td>episode</td>\n",
       "      <td>The Dragon Prince (TV Series 2018– ) - IMDb</td>\n",
       "      <td>1</td>\n",
       "      <td>4</td>\n",
       "      <td>8.101235</td>\n",
       "      <td>277</td>\n",
       "      <td>14 Sep. 2018</td>\n",
       "      <td>2018</td>\n",
       "      <td>\\n    Excited about his newfound powers, Callu...</td>\n",
       "    </tr>\n",
       "    <tr>\n",
       "      <th>0</th>\n",
       "      <td>An Empty Throne</td>\n",
       "      <td>episode</td>\n",
       "      <td>The Dragon Prince (TV Series 2018– ) - IMDb</td>\n",
       "      <td>1</td>\n",
       "      <td>5</td>\n",
       "      <td>8.101235</td>\n",
       "      <td>272</td>\n",
       "      <td>14 Sep. 2018</td>\n",
       "      <td>2018</td>\n",
       "      <td>\\n    Callum struggles to control his magic, G...</td>\n",
       "    </tr>\n",
       "    <tr>\n",
       "      <th>0</th>\n",
       "      <td>Through the ice</td>\n",
       "      <td>episode</td>\n",
       "      <td>The Dragon Prince (TV Series 2018– ) - IMDb</td>\n",
       "      <td>1</td>\n",
       "      <td>6</td>\n",
       "      <td>8.101235</td>\n",
       "      <td>267</td>\n",
       "      <td>14 Sep. 2018</td>\n",
       "      <td>2018</td>\n",
       "      <td>\\n    After a run-in with a soldier, Rayla lea...</td>\n",
       "    </tr>\n",
       "    <tr>\n",
       "      <th>0</th>\n",
       "      <td>The Dagger and The Wolf</td>\n",
       "      <td>episode</td>\n",
       "      <td>The Dragon Prince (TV Series 2018– ) - IMDb</td>\n",
       "      <td>1</td>\n",
       "      <td>7</td>\n",
       "      <td>8.301235</td>\n",
       "      <td>272</td>\n",
       "      <td>14 Sep. 2018</td>\n",
       "      <td>2018</td>\n",
       "      <td>\\n    In a nearby village, Callum and Ezran se...</td>\n",
       "    </tr>\n",
       "    <tr>\n",
       "      <th>0</th>\n",
       "      <td>Cursed Caldera</td>\n",
       "      <td>episode</td>\n",
       "      <td>The Dragon Prince (TV Series 2018– ) - IMDb</td>\n",
       "      <td>1</td>\n",
       "      <td>8</td>\n",
       "      <td>8.401235</td>\n",
       "      <td>273</td>\n",
       "      <td>14 Sep. 2018</td>\n",
       "      <td>2018</td>\n",
       "      <td>\\n    Ellis leads the friends to the Cursed Ca...</td>\n",
       "    </tr>\n",
       "    <tr>\n",
       "      <th>0</th>\n",
       "      <td>Wonderstorm</td>\n",
       "      <td>episode</td>\n",
       "      <td>The Dragon Prince (TV Series 2018– ) - IMDb</td>\n",
       "      <td>1</td>\n",
       "      <td>9</td>\n",
       "      <td>8.801235</td>\n",
       "      <td>314</td>\n",
       "      <td>14 Sep. 2018</td>\n",
       "      <td>2018</td>\n",
       "      <td>\\n    Ezran, Callum and Rayla each put their s...</td>\n",
       "    </tr>\n",
       "  </tbody>\n",
       "</table>\n",
       "<p>133 rows × 10 columns</p>\n",
       "</div>"
      ],
      "text/plain": [
       "                      title     kind  \\\n",
       "0     After All These Years  episode   \n",
       "0               Korra Alone  episode   \n",
       "0            The Coronation  episode   \n",
       "0               The Calling  episode   \n",
       "0        Enemy at the Gates  episode   \n",
       "..                      ...      ...   \n",
       "0           An Empty Throne  episode   \n",
       "0           Through the ice  episode   \n",
       "0   The Dagger and The Wolf  episode   \n",
       "0            Cursed Caldera  episode   \n",
       "0               Wonderstorm  episode   \n",
       "\n",
       "                                          episode of  season  episode  \\\n",
       "0   The Legend of Korra (TV Series 2012–2014) - IMDb       4        1   \n",
       "0   The Legend of Korra (TV Series 2012–2014) - IMDb       4        2   \n",
       "0   The Legend of Korra (TV Series 2012–2014) - IMDb       4        3   \n",
       "0   The Legend of Korra (TV Series 2012–2014) - IMDb       4        4   \n",
       "0   The Legend of Korra (TV Series 2012–2014) - IMDb       4        5   \n",
       "..                                               ...     ...      ...   \n",
       "0        The Dragon Prince (TV Series 2018– ) - IMDb       1        5   \n",
       "0        The Dragon Prince (TV Series 2018– ) - IMDb       1        6   \n",
       "0        The Dragon Prince (TV Series 2018– ) - IMDb       1        7   \n",
       "0        The Dragon Prince (TV Series 2018– ) - IMDb       1        8   \n",
       "0        The Dragon Prince (TV Series 2018– ) - IMDb       1        9   \n",
       "\n",
       "      rating  votes original air date  year  \\\n",
       "0   8.901235   1310       3 Oct. 2014  2014   \n",
       "0   9.301235   1511      10 Oct. 2014  2014   \n",
       "0   8.701235   1078      17 Oct. 2014  2014   \n",
       "0   8.801235   1079      24 Oct. 2014  2014   \n",
       "0   8.801235   1041      31 Oct. 2014  2014   \n",
       "..       ...    ...               ...   ...   \n",
       "0   8.101235    272      14 Sep. 2018  2018   \n",
       "0   8.101235    267      14 Sep. 2018  2018   \n",
       "0   8.301235    272      14 Sep. 2018  2018   \n",
       "0   8.401235    273      14 Sep. 2018  2018   \n",
       "0   8.801235    314      14 Sep. 2018  2018   \n",
       "\n",
       "                                                 plot  \n",
       "0   \\n    The Metal Clan's new leader Kuvira is ma...  \n",
       "0   \\n    While Korra is struggling with PTSD by t...  \n",
       "0   \\n    The Coronation of the new King of Earth ...  \n",
       "0   \\n    The airbender children, Jinora, Ikki and...  \n",
       "0   \\n    Kuvira threatens Zaofu; Bolin is caught ...  \n",
       "..                                                ...  \n",
       "0   \\n    Callum struggles to control his magic, G...  \n",
       "0   \\n    After a run-in with a soldier, Rayla lea...  \n",
       "0   \\n    In a nearby village, Callum and Ezran se...  \n",
       "0   \\n    Ellis leads the friends to the Cursed Ca...  \n",
       "0   \\n    Ezran, Callum and Rayla each put their s...  \n",
       "\n",
       "[133 rows x 10 columns]"
      ]
     },
     "execution_count": 115,
     "metadata": {},
     "output_type": "execute_result"
    }
   ],
   "source": [
    "master_df"
   ]
  },
  {
   "cell_type": "code",
   "execution_count": 99,
   "metadata": {},
   "outputs": [
    {
     "data": {
      "text/plain": [
       "dict_keys(['episodes', 'number of episodes'])"
      ]
     },
     "execution_count": 99,
     "metadata": {},
     "output_type": "execute_result"
    }
   ],
   "source": [
    "avatar_list[1]['data'].k"
   ]
  },
  {
   "cell_type": "code",
   "execution_count": 105,
   "metadata": {},
   "outputs": [
    {
     "data": {
      "text/plain": [
       "dict_keys([2, 1])"
      ]
     },
     "execution_count": 105,
     "metadata": {},
     "output_type": "execute_result"
    }
   ],
   "source": [
    "avatar_list[2]['data']['episodes'].keys()"
   ]
  },
  {
   "cell_type": "code",
   "execution_count": 106,
   "metadata": {},
   "outputs": [
    {
     "data": {
      "text/plain": [
       "dict_keys([1, 2, 3, 4, 5, 6, 7, 8, 9])"
      ]
     },
     "execution_count": 106,
     "metadata": {},
     "output_type": "execute_result"
    }
   ],
   "source": [
    "avatar_list[2]['data']['episodes'][1].keys()"
   ]
  },
  {
   "cell_type": "code",
   "execution_count": null,
   "metadata": {
    "collapsed": true
   },
   "outputs": [],
   "source": [
    "lok_df = pd.DataFrame()\n",
    "\n",
    "for x in lok_ep_data.keys():\n",
    "    for y in lok_ep_data[x].keys():\n",
    "        temp_dict = lok_ep_data[x][y].data\n",
    "        temp_df = pd.DataFrame(temp_dict, index = [0])\n",
    "        temp_df['episode of'] = temp_df['episode of'].astype(str)\n",
    "        lok_df = lok_df.append(temp_df)\n",
    "        #print(f\"Season{x} episode{y}\")"
   ]
  },
  {
   "cell_type": "code",
   "execution_count": null,
   "metadata": {
    "collapsed": true
   },
   "outputs": [],
   "source": [
    "#resources to explore in more detail\n",
    "\n",
    "#read more about iterating through dictionaries\n",
    "#https://realpython.com/iterate-through-dictionary-python/\n",
    "\n",
    "#an open API for movie titles\n",
    "#https://www.omdbapi.com/"
   ]
  },
  {
   "cell_type": "code",
   "execution_count": 13,
   "metadata": {},
   "outputs": [],
   "source": [
    "#can get movie empisodes take multiple items?\n",
    "#my_list = ['1695360','0417299']\n",
    "\n",
    "#avatar_episodes = ia.get_movie_episodes(my_list)\n",
    "\n",
    "#above code throws an error\n",
    "#literally goes to the url and giving it more than one ID creates a 404 error\n",
    "# instead could create a list of desired Movie_IDs and then figure out how to loop through them"
   ]
  },
  {
   "cell_type": "code",
   "execution_count": 38,
   "metadata": {},
   "outputs": [],
   "source": [
    "lok_ep_data = lok_ep['data'].get('episodes')\n",
    "atla_ep_data = atla_ep['data'].get('episodes')"
   ]
  },
  {
   "cell_type": "code",
   "execution_count": 39,
   "metadata": {},
   "outputs": [
    {
     "data": {
      "text/plain": [
       "dict_keys([4, 1, 2, 3])"
      ]
     },
     "execution_count": 39,
     "metadata": {},
     "output_type": "execute_result"
    }
   ],
   "source": [
    "lok_ep_data.keys()"
   ]
  },
  {
   "cell_type": "code",
   "execution_count": 43,
   "metadata": {},
   "outputs": [],
   "source": [
    "lok_df = pd.DataFrame()\n",
    "\n",
    "for x in lok_ep_data.keys():\n",
    "    for y in lok_ep_data[x].keys():\n",
    "        temp_dict = lok_ep_data[x][y].data\n",
    "        temp_df = pd.DataFrame(temp_dict, index = [0])\n",
    "        temp_df['episode of'] = temp_df['episode of'].astype(str)\n",
    "        lok_df = lok_df.append(temp_df)\n",
    "        #print(f\"Season{x} episode{y}\")"
   ]
  },
  {
   "cell_type": "code",
   "execution_count": 45,
   "metadata": {
    "collapsed": true
   },
   "outputs": [],
   "source": [
    "atla_df = pd.DataFrame()\n",
    "\n",
    "for x in atla_ep_data.keys():\n",
    "    for y in atla_ep_data[x].keys():\n",
    "        temp_dict = atla_ep_data[x][y].data\n",
    "        temp_df = pd.DataFrame(temp_dict, index = [0])\n",
    "        temp_df['episode of'] = temp_df['episode of'].astype(str)\n",
    "        atla_df = atla_df.append(temp_df)"
   ]
  },
  {
   "cell_type": "code",
   "execution_count": 46,
   "metadata": {
    "collapsed": true
   },
   "outputs": [
    {
     "data": {
      "text/html": [
       "<div>\n",
       "<style scoped>\n",
       "    .dataframe tbody tr th:only-of-type {\n",
       "        vertical-align: middle;\n",
       "    }\n",
       "\n",
       "    .dataframe tbody tr th {\n",
       "        vertical-align: top;\n",
       "    }\n",
       "\n",
       "    .dataframe thead th {\n",
       "        text-align: right;\n",
       "    }\n",
       "</style>\n",
       "<table border=\"1\" class=\"dataframe\">\n",
       "  <thead>\n",
       "    <tr style=\"text-align: right;\">\n",
       "      <th></th>\n",
       "      <th>title</th>\n",
       "      <th>kind</th>\n",
       "      <th>episode of</th>\n",
       "      <th>season</th>\n",
       "      <th>episode</th>\n",
       "      <th>rating</th>\n",
       "      <th>votes</th>\n",
       "      <th>original air date</th>\n",
       "      <th>year</th>\n",
       "      <th>plot</th>\n",
       "    </tr>\n",
       "  </thead>\n",
       "  <tbody>\n",
       "    <tr>\n",
       "      <th>0</th>\n",
       "      <td>The Awakening</td>\n",
       "      <td>episode</td>\n",
       "      <td>Avatar: The Last Airbender (TV Series 2005–200...</td>\n",
       "      <td>3</td>\n",
       "      <td>1</td>\n",
       "      <td>8.701235</td>\n",
       "      <td>1509</td>\n",
       "      <td>21 Sep. 2007</td>\n",
       "      <td>2007</td>\n",
       "      <td>\\n    Weeks after the fall of the Earth Kingdo...</td>\n",
       "    </tr>\n",
       "    <tr>\n",
       "      <th>0</th>\n",
       "      <td>The Headband</td>\n",
       "      <td>episode</td>\n",
       "      <td>Avatar: The Last Airbender (TV Series 2005–200...</td>\n",
       "      <td>3</td>\n",
       "      <td>2</td>\n",
       "      <td>8.501235</td>\n",
       "      <td>1448</td>\n",
       "      <td>28 Sep. 2007</td>\n",
       "      <td>2007</td>\n",
       "      <td>\\n    Posing as a regular kid, Aang goes to a ...</td>\n",
       "    </tr>\n",
       "    <tr>\n",
       "      <th>0</th>\n",
       "      <td>The Painted Lady</td>\n",
       "      <td>episode</td>\n",
       "      <td>Avatar: The Last Airbender (TV Series 2005–200...</td>\n",
       "      <td>3</td>\n",
       "      <td>3</td>\n",
       "      <td>8.001235</td>\n",
       "      <td>1413</td>\n",
       "      <td>5 Oct. 2007</td>\n",
       "      <td>2007</td>\n",
       "      <td>\\n    When Aang and his friends come across a ...</td>\n",
       "    </tr>\n",
       "    <tr>\n",
       "      <th>0</th>\n",
       "      <td>Sokka's Master</td>\n",
       "      <td>episode</td>\n",
       "      <td>Avatar: The Last Airbender (TV Series 2005–200...</td>\n",
       "      <td>3</td>\n",
       "      <td>4</td>\n",
       "      <td>8.801235</td>\n",
       "      <td>1493</td>\n",
       "      <td>12 Oct. 2007</td>\n",
       "      <td>2007</td>\n",
       "      <td>\\n    After deciding he's the least valuable m...</td>\n",
       "    </tr>\n",
       "    <tr>\n",
       "      <th>0</th>\n",
       "      <td>The Beach</td>\n",
       "      <td>episode</td>\n",
       "      <td>Avatar: The Last Airbender (TV Series 2005–200...</td>\n",
       "      <td>3</td>\n",
       "      <td>5</td>\n",
       "      <td>8.501235</td>\n",
       "      <td>1514</td>\n",
       "      <td>19 Oct. 2007</td>\n",
       "      <td>2007</td>\n",
       "      <td>\\n    On a forced vacation, Zuko, Azula, Ty Le...</td>\n",
       "    </tr>\n",
       "    <tr>\n",
       "      <th>0</th>\n",
       "      <td>The Avatar and the Fire Lord</td>\n",
       "      <td>episode</td>\n",
       "      <td>Avatar: The Last Airbender (TV Series 2005–200...</td>\n",
       "      <td>3</td>\n",
       "      <td>6</td>\n",
       "      <td>9.401235</td>\n",
       "      <td>1782</td>\n",
       "      <td>26 Oct. 2007</td>\n",
       "      <td>2007</td>\n",
       "      <td>\\n    Both Aang and Zuko must learn the histor...</td>\n",
       "    </tr>\n",
       "    <tr>\n",
       "      <th>0</th>\n",
       "      <td>The Runaway</td>\n",
       "      <td>episode</td>\n",
       "      <td>Avatar: The Last Airbender (TV Series 2005–200...</td>\n",
       "      <td>3</td>\n",
       "      <td>7</td>\n",
       "      <td>8.301235</td>\n",
       "      <td>1340</td>\n",
       "      <td>2 Nov. 2007</td>\n",
       "      <td>2007</td>\n",
       "      <td>\\n    When Toph discovers a quick way to make ...</td>\n",
       "    </tr>\n",
       "    <tr>\n",
       "      <th>0</th>\n",
       "      <td>The Puppetmaster</td>\n",
       "      <td>episode</td>\n",
       "      <td>Avatar: The Last Airbender (TV Series 2005–200...</td>\n",
       "      <td>3</td>\n",
       "      <td>8</td>\n",
       "      <td>9.101235</td>\n",
       "      <td>1648</td>\n",
       "      <td>9 Nov. 2007</td>\n",
       "      <td>2007</td>\n",
       "      <td>\\n    Creepy things are afoot when the gang me...</td>\n",
       "    </tr>\n",
       "    <tr>\n",
       "      <th>0</th>\n",
       "      <td>Nightmares and Daydreams</td>\n",
       "      <td>episode</td>\n",
       "      <td>Avatar: The Last Airbender (TV Series 2005–200...</td>\n",
       "      <td>3</td>\n",
       "      <td>9</td>\n",
       "      <td>7.801235</td>\n",
       "      <td>1439</td>\n",
       "      <td>16 Nov. 2007</td>\n",
       "      <td>2007</td>\n",
       "      <td>\\n    As the invasion approaches, Aang has rec...</td>\n",
       "    </tr>\n",
       "    <tr>\n",
       "      <th>0</th>\n",
       "      <td>The Day of Black Sun</td>\n",
       "      <td>episode</td>\n",
       "      <td>Avatar: The Last Airbender (TV Series 2005–200...</td>\n",
       "      <td>3</td>\n",
       "      <td>10</td>\n",
       "      <td>9.101235</td>\n",
       "      <td>1490</td>\n",
       "      <td>30 Nov. 2007</td>\n",
       "      <td>2007</td>\n",
       "      <td>\\n    Zuko makes a decision about his future. ...</td>\n",
       "    </tr>\n",
       "    <tr>\n",
       "      <th>0</th>\n",
       "      <td>The Day of Black Sun</td>\n",
       "      <td>episode</td>\n",
       "      <td>Avatar: The Last Airbender (TV Series 2005–200...</td>\n",
       "      <td>3</td>\n",
       "      <td>11</td>\n",
       "      <td>9.301235</td>\n",
       "      <td>1557</td>\n",
       "      <td>30 Nov. 2007</td>\n",
       "      <td>2007</td>\n",
       "      <td>\\n    The invasion seems to be succeeding unti...</td>\n",
       "    </tr>\n",
       "    <tr>\n",
       "      <th>0</th>\n",
       "      <td>The Western Air Temple</td>\n",
       "      <td>episode</td>\n",
       "      <td>Avatar: The Last Airbender (TV Series 2005–200...</td>\n",
       "      <td>3</td>\n",
       "      <td>12</td>\n",
       "      <td>8.901235</td>\n",
       "      <td>1445</td>\n",
       "      <td>14 Jul. 2008</td>\n",
       "      <td>2008</td>\n",
       "      <td>\\n    The gang hides out in the Western Air Te...</td>\n",
       "    </tr>\n",
       "    <tr>\n",
       "      <th>0</th>\n",
       "      <td>The Firebending Masters</td>\n",
       "      <td>episode</td>\n",
       "      <td>Avatar: The Last Airbender (TV Series 2005–200...</td>\n",
       "      <td>3</td>\n",
       "      <td>13</td>\n",
       "      <td>9.101235</td>\n",
       "      <td>1572</td>\n",
       "      <td>15 Jul. 2008</td>\n",
       "      <td>2008</td>\n",
       "      <td>\\n    Zuko has joined up with Aang's group and...</td>\n",
       "    </tr>\n",
       "    <tr>\n",
       "      <th>0</th>\n",
       "      <td>The Boiling Rock: Part 1</td>\n",
       "      <td>episode</td>\n",
       "      <td>Avatar: The Last Airbender (TV Series 2005–200...</td>\n",
       "      <td>3</td>\n",
       "      <td>14</td>\n",
       "      <td>8.701235</td>\n",
       "      <td>1413</td>\n",
       "      <td>16 Jul. 2008</td>\n",
       "      <td>2008</td>\n",
       "      <td>\\n    Sokka and Zuko head to the Fire Nation's...</td>\n",
       "    </tr>\n",
       "    <tr>\n",
       "      <th>0</th>\n",
       "      <td>The Boiling Rock</td>\n",
       "      <td>episode</td>\n",
       "      <td>Avatar: The Last Airbender (TV Series 2005–200...</td>\n",
       "      <td>3</td>\n",
       "      <td>15</td>\n",
       "      <td>9.201235</td>\n",
       "      <td>1515</td>\n",
       "      <td>16 Jul. 2008</td>\n",
       "      <td>2008</td>\n",
       "      <td>\\n    The escape is planned and the heroes att...</td>\n",
       "    </tr>\n",
       "    <tr>\n",
       "      <th>0</th>\n",
       "      <td>The Southern Raiders</td>\n",
       "      <td>episode</td>\n",
       "      <td>Avatar: The Last Airbender (TV Series 2005–200...</td>\n",
       "      <td>3</td>\n",
       "      <td>16</td>\n",
       "      <td>8.901235</td>\n",
       "      <td>1458</td>\n",
       "      <td>17 Jul. 2008</td>\n",
       "      <td>2008</td>\n",
       "      <td>\\n    Trying to prove that she can trust him, ...</td>\n",
       "    </tr>\n",
       "    <tr>\n",
       "      <th>0</th>\n",
       "      <td>The Ember Island Players</td>\n",
       "      <td>episode</td>\n",
       "      <td>Avatar: The Last Airbender (TV Series 2005–200...</td>\n",
       "      <td>3</td>\n",
       "      <td>17</td>\n",
       "      <td>8.701235</td>\n",
       "      <td>1576</td>\n",
       "      <td>18 Jul. 2008</td>\n",
       "      <td>2008</td>\n",
       "      <td>\\n    The gang, now hiding at Ember Island, wa...</td>\n",
       "    </tr>\n",
       "    <tr>\n",
       "      <th>0</th>\n",
       "      <td>Sozin's Comet</td>\n",
       "      <td>episode</td>\n",
       "      <td>Avatar: The Last Airbender (TV Series 2005–200...</td>\n",
       "      <td>3</td>\n",
       "      <td>18</td>\n",
       "      <td>9.101235</td>\n",
       "      <td>1704</td>\n",
       "      <td>19 Jul. 2008</td>\n",
       "      <td>2008</td>\n",
       "      <td>\\n    Sozin's Comet is only three days away. Z...</td>\n",
       "    </tr>\n",
       "    <tr>\n",
       "      <th>0</th>\n",
       "      <td>Sozin's Comet</td>\n",
       "      <td>episode</td>\n",
       "      <td>Avatar: The Last Airbender (TV Series 2005–200...</td>\n",
       "      <td>3</td>\n",
       "      <td>19</td>\n",
       "      <td>9.501235</td>\n",
       "      <td>1872</td>\n",
       "      <td>19 Jul. 2008</td>\n",
       "      <td>2008</td>\n",
       "      <td>\\n    Aang awakes on a mysterious island and c...</td>\n",
       "    </tr>\n",
       "    <tr>\n",
       "      <th>0</th>\n",
       "      <td>Sozin's Comet</td>\n",
       "      <td>episode</td>\n",
       "      <td>Avatar: The Last Airbender (TV Series 2005–200...</td>\n",
       "      <td>3</td>\n",
       "      <td>20</td>\n",
       "      <td>9.701235</td>\n",
       "      <td>2409</td>\n",
       "      <td>19 Jul. 2008</td>\n",
       "      <td>2008</td>\n",
       "      <td>\\n    Zuko battles his sister with Katara's he...</td>\n",
       "    </tr>\n",
       "    <tr>\n",
       "      <th>0</th>\n",
       "      <td>Sozin's Comet</td>\n",
       "      <td>episode</td>\n",
       "      <td>Avatar: The Last Airbender (TV Series 2005–200...</td>\n",
       "      <td>3</td>\n",
       "      <td>21</td>\n",
       "      <td>9.801235</td>\n",
       "      <td>4133</td>\n",
       "      <td>19 Jul. 2008</td>\n",
       "      <td>2008</td>\n",
       "      <td>\\n    Aang's moment of truth arrives. Can he d...</td>\n",
       "    </tr>\n",
       "    <tr>\n",
       "      <th>0</th>\n",
       "      <td>Avatar: The Last Airbender</td>\n",
       "      <td>episode</td>\n",
       "      <td>Avatar: The Last Airbender (TV Series 2005–200...</td>\n",
       "      <td>1</td>\n",
       "      <td>0</td>\n",
       "      <td>8.601235</td>\n",
       "      <td>579</td>\n",
       "      <td>19 Sep. 2006</td>\n",
       "      <td>2006</td>\n",
       "      <td>\\n    Sokka and his sister Kya - later renamed...</td>\n",
       "    </tr>\n",
       "    <tr>\n",
       "      <th>0</th>\n",
       "      <td>The Boy in the Iceberg</td>\n",
       "      <td>episode</td>\n",
       "      <td>Avatar: The Last Airbender (TV Series 2005–200...</td>\n",
       "      <td>1</td>\n",
       "      <td>1</td>\n",
       "      <td>8.201235</td>\n",
       "      <td>2003</td>\n",
       "      <td>21 Feb. 2005</td>\n",
       "      <td>2005</td>\n",
       "      <td>\\n    The legend of the Avatar is told. Katara...</td>\n",
       "    </tr>\n",
       "    <tr>\n",
       "      <th>0</th>\n",
       "      <td>The Avatar Returns</td>\n",
       "      <td>episode</td>\n",
       "      <td>Avatar: The Last Airbender (TV Series 2005–200...</td>\n",
       "      <td>1</td>\n",
       "      <td>2</td>\n",
       "      <td>8.401235</td>\n",
       "      <td>1752</td>\n",
       "      <td>21 Feb. 2005</td>\n",
       "      <td>2005</td>\n",
       "      <td>\\n    Aang and Katara inadvertently set off a ...</td>\n",
       "    </tr>\n",
       "    <tr>\n",
       "      <th>0</th>\n",
       "      <td>The Southern Air Temple</td>\n",
       "      <td>episode</td>\n",
       "      <td>Avatar: The Last Airbender (TV Series 2005–200...</td>\n",
       "      <td>1</td>\n",
       "      <td>3</td>\n",
       "      <td>8.501235</td>\n",
       "      <td>1673</td>\n",
       "      <td>25 Feb. 2005</td>\n",
       "      <td>2005</td>\n",
       "      <td>\\n    After his departure from the Southern Ai...</td>\n",
       "    </tr>\n",
       "    <tr>\n",
       "      <th>0</th>\n",
       "      <td>The Warriors of Kyoshi</td>\n",
       "      <td>episode</td>\n",
       "      <td>Avatar: The Last Airbender (TV Series 2005–200...</td>\n",
       "      <td>1</td>\n",
       "      <td>4</td>\n",
       "      <td>8.201235</td>\n",
       "      <td>1617</td>\n",
       "      <td>4 Mar. 2005</td>\n",
       "      <td>2005</td>\n",
       "      <td>\\n    The gang arrives at Kyoshi Island and ar...</td>\n",
       "    </tr>\n",
       "    <tr>\n",
       "      <th>0</th>\n",
       "      <td>The King of Omashu</td>\n",
       "      <td>episode</td>\n",
       "      <td>Avatar: The Last Airbender (TV Series 2005–200...</td>\n",
       "      <td>1</td>\n",
       "      <td>5</td>\n",
       "      <td>8.201235</td>\n",
       "      <td>1629</td>\n",
       "      <td>18 Mar. 2005</td>\n",
       "      <td>2005</td>\n",
       "      <td>\\n    Aang's abilities as an airbender are cha...</td>\n",
       "    </tr>\n",
       "    <tr>\n",
       "      <th>0</th>\n",
       "      <td>Imprisoned</td>\n",
       "      <td>episode</td>\n",
       "      <td>Avatar: The Last Airbender (TV Series 2005–200...</td>\n",
       "      <td>1</td>\n",
       "      <td>6</td>\n",
       "      <td>8.001235</td>\n",
       "      <td>1578</td>\n",
       "      <td>25 Mar. 2005</td>\n",
       "      <td>2005</td>\n",
       "      <td>\\n    In a nearby Earth Village, the gang meet...</td>\n",
       "    </tr>\n",
       "    <tr>\n",
       "      <th>0</th>\n",
       "      <td>The Spirit World: Winter Solstice, Part 1</td>\n",
       "      <td>episode</td>\n",
       "      <td>Avatar: The Last Airbender (TV Series 2005–200...</td>\n",
       "      <td>1</td>\n",
       "      <td>7</td>\n",
       "      <td>8.201235</td>\n",
       "      <td>1547</td>\n",
       "      <td>8 Apr. 2005</td>\n",
       "      <td>2005</td>\n",
       "      <td>\\n    Aang and friends visit a village being t...</td>\n",
       "    </tr>\n",
       "    <tr>\n",
       "      <th>0</th>\n",
       "      <td>Avatar Roku: Winter Solstice, Part 2</td>\n",
       "      <td>episode</td>\n",
       "      <td>Avatar: The Last Airbender (TV Series 2005–200...</td>\n",
       "      <td>1</td>\n",
       "      <td>8</td>\n",
       "      <td>8.901235</td>\n",
       "      <td>1618</td>\n",
       "      <td>15 Apr. 2005</td>\n",
       "      <td>2005</td>\n",
       "      <td>\\n    To contact the spirit of the previous Av...</td>\n",
       "    </tr>\n",
       "    <tr>\n",
       "      <th>...</th>\n",
       "      <td>...</td>\n",
       "      <td>...</td>\n",
       "      <td>...</td>\n",
       "      <td>...</td>\n",
       "      <td>...</td>\n",
       "      <td>...</td>\n",
       "      <td>...</td>\n",
       "      <td>...</td>\n",
       "      <td>...</td>\n",
       "      <td>...</td>\n",
       "    </tr>\n",
       "    <tr>\n",
       "      <th>0</th>\n",
       "      <td>The Storm</td>\n",
       "      <td>episode</td>\n",
       "      <td>Avatar: The Last Airbender (TV Series 2005–200...</td>\n",
       "      <td>1</td>\n",
       "      <td>12</td>\n",
       "      <td>9.001235</td>\n",
       "      <td>1685</td>\n",
       "      <td>3 Jun. 2005</td>\n",
       "      <td>2005</td>\n",
       "      <td>\\n    Aang relives the events after finding ou...</td>\n",
       "    </tr>\n",
       "    <tr>\n",
       "      <th>0</th>\n",
       "      <td>The Blue Spirit</td>\n",
       "      <td>episode</td>\n",
       "      <td>Avatar: The Last Airbender (TV Series 2005–200...</td>\n",
       "      <td>1</td>\n",
       "      <td>13</td>\n",
       "      <td>9.101235</td>\n",
       "      <td>1699</td>\n",
       "      <td>17 Jun. 2005</td>\n",
       "      <td>2005</td>\n",
       "      <td>\\n    When Aang is captured by the Fire Nation...</td>\n",
       "    </tr>\n",
       "    <tr>\n",
       "      <th>0</th>\n",
       "      <td>The Fortuneteller</td>\n",
       "      <td>episode</td>\n",
       "      <td>Avatar: The Last Airbender (TV Series 2005–200...</td>\n",
       "      <td>1</td>\n",
       "      <td>14</td>\n",
       "      <td>8.001235</td>\n",
       "      <td>1469</td>\n",
       "      <td>23 Sep. 2005</td>\n",
       "      <td>2005</td>\n",
       "      <td>\\n    The gang visits a village where a fortun...</td>\n",
       "    </tr>\n",
       "    <tr>\n",
       "      <th>0</th>\n",
       "      <td>Bato of the Water Tribe</td>\n",
       "      <td>episode</td>\n",
       "      <td>Avatar: The Last Airbender (TV Series 2005–200...</td>\n",
       "      <td>1</td>\n",
       "      <td>15</td>\n",
       "      <td>7.901235</td>\n",
       "      <td>1435</td>\n",
       "      <td>7 Oct. 2005</td>\n",
       "      <td>2005</td>\n",
       "      <td>\\n    Sokka and Katara meet a friend of their ...</td>\n",
       "    </tr>\n",
       "    <tr>\n",
       "      <th>0</th>\n",
       "      <td>The Deserter</td>\n",
       "      <td>episode</td>\n",
       "      <td>Avatar: The Last Airbender (TV Series 2005–200...</td>\n",
       "      <td>1</td>\n",
       "      <td>16</td>\n",
       "      <td>8.501235</td>\n",
       "      <td>1445</td>\n",
       "      <td>21 Oct. 2005</td>\n",
       "      <td>2005</td>\n",
       "      <td>\\n    When he meets an outcast from the Fire N...</td>\n",
       "    </tr>\n",
       "    <tr>\n",
       "      <th>0</th>\n",
       "      <td>The Northern Air Temple</td>\n",
       "      <td>episode</td>\n",
       "      <td>Avatar: The Last Airbender (TV Series 2005–200...</td>\n",
       "      <td>1</td>\n",
       "      <td>17</td>\n",
       "      <td>8.101235</td>\n",
       "      <td>1411</td>\n",
       "      <td>4 Nov. 2005</td>\n",
       "      <td>2005</td>\n",
       "      <td>\\n    Aang is upset when he finds an old Air T...</td>\n",
       "    </tr>\n",
       "    <tr>\n",
       "      <th>0</th>\n",
       "      <td>The Waterbending Master</td>\n",
       "      <td>episode</td>\n",
       "      <td>Avatar: The Last Airbender (TV Series 2005–200...</td>\n",
       "      <td>1</td>\n",
       "      <td>18</td>\n",
       "      <td>8.601235</td>\n",
       "      <td>1462</td>\n",
       "      <td>18 Nov. 2005</td>\n",
       "      <td>2005</td>\n",
       "      <td>\\n    The heroes finally arrive at the North P...</td>\n",
       "    </tr>\n",
       "    <tr>\n",
       "      <th>0</th>\n",
       "      <td>The Siege of the North</td>\n",
       "      <td>episode</td>\n",
       "      <td>Avatar: The Last Airbender (TV Series 2005–200...</td>\n",
       "      <td>1</td>\n",
       "      <td>19</td>\n",
       "      <td>9.401235</td>\n",
       "      <td>1912</td>\n",
       "      <td>2 Dec. 2005</td>\n",
       "      <td>2005</td>\n",
       "      <td>\\n    While Katara herself becomes a great wat...</td>\n",
       "    </tr>\n",
       "    <tr>\n",
       "      <th>0</th>\n",
       "      <td>The Siege of the North Part 2</td>\n",
       "      <td>episode</td>\n",
       "      <td>Avatar: The Last Airbender (TV Series 2005–200...</td>\n",
       "      <td>1</td>\n",
       "      <td>20</td>\n",
       "      <td>9.801235</td>\n",
       "      <td>143</td>\n",
       "      <td>2 Dec. 2005</td>\n",
       "      <td>2005</td>\n",
       "      <td>\\n    As the Fire Nation continues its assault...</td>\n",
       "    </tr>\n",
       "    <tr>\n",
       "      <th>0</th>\n",
       "      <td>The Avatar State</td>\n",
       "      <td>episode</td>\n",
       "      <td>Avatar: The Last Airbender (TV Series 2005–200...</td>\n",
       "      <td>2</td>\n",
       "      <td>1</td>\n",
       "      <td>8.701235</td>\n",
       "      <td>1463</td>\n",
       "      <td>17 Mar. 2006</td>\n",
       "      <td>2006</td>\n",
       "      <td>\\n    Aang and friends arrive in the Earth Kin...</td>\n",
       "    </tr>\n",
       "    <tr>\n",
       "      <th>0</th>\n",
       "      <td>The Cave of Two Lovers</td>\n",
       "      <td>episode</td>\n",
       "      <td>Avatar: The Last Airbender (TV Series 2005–200...</td>\n",
       "      <td>2</td>\n",
       "      <td>2</td>\n",
       "      <td>8.301235</td>\n",
       "      <td>1456</td>\n",
       "      <td>24 Mar. 2006</td>\n",
       "      <td>2006</td>\n",
       "      <td>\\n    On their way to Omashu, Team Avatar is f...</td>\n",
       "    </tr>\n",
       "    <tr>\n",
       "      <th>0</th>\n",
       "      <td>Return to Omashu</td>\n",
       "      <td>episode</td>\n",
       "      <td>Avatar: The Last Airbender (TV Series 2005–200...</td>\n",
       "      <td>2</td>\n",
       "      <td>3</td>\n",
       "      <td>8.501235</td>\n",
       "      <td>1378</td>\n",
       "      <td>7 Apr. 2006</td>\n",
       "      <td>2006</td>\n",
       "      <td>\\n    Finding the city of Aang's old friend, K...</td>\n",
       "    </tr>\n",
       "    <tr>\n",
       "      <th>0</th>\n",
       "      <td>The Swamp</td>\n",
       "      <td>episode</td>\n",
       "      <td>Avatar: The Last Airbender (TV Series 2005–200...</td>\n",
       "      <td>2</td>\n",
       "      <td>4</td>\n",
       "      <td>7.801235</td>\n",
       "      <td>1415</td>\n",
       "      <td>14 Apr. 2006</td>\n",
       "      <td>2006</td>\n",
       "      <td>\\n    Aang hears a swamp calling to him. In th...</td>\n",
       "    </tr>\n",
       "    <tr>\n",
       "      <th>0</th>\n",
       "      <td>Avatar Day</td>\n",
       "      <td>episode</td>\n",
       "      <td>Avatar: The Last Airbender (TV Series 2005–200...</td>\n",
       "      <td>2</td>\n",
       "      <td>5</td>\n",
       "      <td>7.601235</td>\n",
       "      <td>1416</td>\n",
       "      <td>28 Apr. 2006</td>\n",
       "      <td>2006</td>\n",
       "      <td>\\n    Sokka and Katara have to solve a centuri...</td>\n",
       "    </tr>\n",
       "    <tr>\n",
       "      <th>0</th>\n",
       "      <td>The Blind Bandit</td>\n",
       "      <td>episode</td>\n",
       "      <td>Avatar: The Last Airbender (TV Series 2005–200...</td>\n",
       "      <td>2</td>\n",
       "      <td>6</td>\n",
       "      <td>9.101235</td>\n",
       "      <td>1647</td>\n",
       "      <td>5 May 2006</td>\n",
       "      <td>2006</td>\n",
       "      <td>\\n    Still searching for an earthbending teac...</td>\n",
       "    </tr>\n",
       "    <tr>\n",
       "      <th>0</th>\n",
       "      <td>Zuko Alone</td>\n",
       "      <td>episode</td>\n",
       "      <td>Avatar: The Last Airbender (TV Series 2005–200...</td>\n",
       "      <td>2</td>\n",
       "      <td>7</td>\n",
       "      <td>9.401235</td>\n",
       "      <td>1971</td>\n",
       "      <td>12 May 2006</td>\n",
       "      <td>2006</td>\n",
       "      <td>\\n    As Zuko tries to make it by in exile wit...</td>\n",
       "    </tr>\n",
       "    <tr>\n",
       "      <th>0</th>\n",
       "      <td>The Chase</td>\n",
       "      <td>episode</td>\n",
       "      <td>Avatar: The Last Airbender (TV Series 2005–200...</td>\n",
       "      <td>2</td>\n",
       "      <td>8</td>\n",
       "      <td>8.901235</td>\n",
       "      <td>1467</td>\n",
       "      <td>26 May 2006</td>\n",
       "      <td>2006</td>\n",
       "      <td>\\n    Every time they land, Azula and her warr...</td>\n",
       "    </tr>\n",
       "    <tr>\n",
       "      <th>0</th>\n",
       "      <td>Bitter Work</td>\n",
       "      <td>episode</td>\n",
       "      <td>Avatar: The Last Airbender (TV Series 2005–200...</td>\n",
       "      <td>2</td>\n",
       "      <td>9</td>\n",
       "      <td>8.601235</td>\n",
       "      <td>1373</td>\n",
       "      <td>2 Jun. 2006</td>\n",
       "      <td>2006</td>\n",
       "      <td>\\n    Aang begins to learn earthbending from T...</td>\n",
       "    </tr>\n",
       "    <tr>\n",
       "      <th>0</th>\n",
       "      <td>The Library</td>\n",
       "      <td>episode</td>\n",
       "      <td>Avatar: The Last Airbender (TV Series 2005–200...</td>\n",
       "      <td>2</td>\n",
       "      <td>10</td>\n",
       "      <td>8.801235</td>\n",
       "      <td>1437</td>\n",
       "      <td>14 Jul. 2006</td>\n",
       "      <td>2006</td>\n",
       "      <td>\\n    When he learns that there is a lost Libr...</td>\n",
       "    </tr>\n",
       "    <tr>\n",
       "      <th>0</th>\n",
       "      <td>The Desert</td>\n",
       "      <td>episode</td>\n",
       "      <td>Avatar: The Last Airbender (TV Series 2005–200...</td>\n",
       "      <td>2</td>\n",
       "      <td>11</td>\n",
       "      <td>8.801235</td>\n",
       "      <td>1422</td>\n",
       "      <td>14 Jul. 2006</td>\n",
       "      <td>2006</td>\n",
       "      <td>\\n    Lost in the desert without Appa, Team Av...</td>\n",
       "    </tr>\n",
       "    <tr>\n",
       "      <th>0</th>\n",
       "      <td>The Serpent's Pass</td>\n",
       "      <td>episode</td>\n",
       "      <td>Avatar: The Last Airbender (TV Series 2005–200...</td>\n",
       "      <td>2</td>\n",
       "      <td>12</td>\n",
       "      <td>8.401235</td>\n",
       "      <td>1345</td>\n",
       "      <td>15 Sep. 2006</td>\n",
       "      <td>2006</td>\n",
       "      <td>\\n    After getting tickets for the ferry head...</td>\n",
       "    </tr>\n",
       "    <tr>\n",
       "      <th>0</th>\n",
       "      <td>The Drill</td>\n",
       "      <td>episode</td>\n",
       "      <td>Avatar: The Last Airbender (TV Series 2005–200...</td>\n",
       "      <td>2</td>\n",
       "      <td>13</td>\n",
       "      <td>9.001235</td>\n",
       "      <td>1466</td>\n",
       "      <td>15 Sep. 2006</td>\n",
       "      <td>2006</td>\n",
       "      <td>\\n    After arriving at the great wall of Ba S...</td>\n",
       "    </tr>\n",
       "    <tr>\n",
       "      <th>0</th>\n",
       "      <td>City of Walls and Secrets</td>\n",
       "      <td>episode</td>\n",
       "      <td>Avatar: The Last Airbender (TV Series 2005–200...</td>\n",
       "      <td>2</td>\n",
       "      <td>14</td>\n",
       "      <td>8.701235</td>\n",
       "      <td>1389</td>\n",
       "      <td>22 Sep. 2006</td>\n",
       "      <td>2006</td>\n",
       "      <td>\\n    After getting a house to stay in, Aang a...</td>\n",
       "    </tr>\n",
       "    <tr>\n",
       "      <th>0</th>\n",
       "      <td>The Tales of Ba Sing Se</td>\n",
       "      <td>episode</td>\n",
       "      <td>Avatar: The Last Airbender (TV Series 2005–200...</td>\n",
       "      <td>2</td>\n",
       "      <td>15</td>\n",
       "      <td>9.101235</td>\n",
       "      <td>1988</td>\n",
       "      <td>29 Sep. 2006</td>\n",
       "      <td>2006</td>\n",
       "      <td>\\n    A series of short stories covering some ...</td>\n",
       "    </tr>\n",
       "    <tr>\n",
       "      <th>0</th>\n",
       "      <td>Appa's Lost Days</td>\n",
       "      <td>episode</td>\n",
       "      <td>Avatar: The Last Airbender (TV Series 2005–200...</td>\n",
       "      <td>2</td>\n",
       "      <td>16</td>\n",
       "      <td>8.801235</td>\n",
       "      <td>1476</td>\n",
       "      <td>13 Oct. 2006</td>\n",
       "      <td>2006</td>\n",
       "      <td>\\n    In this special episode, we go back in t...</td>\n",
       "    </tr>\n",
       "    <tr>\n",
       "      <th>0</th>\n",
       "      <td>Lake Laogai</td>\n",
       "      <td>episode</td>\n",
       "      <td>Avatar: The Last Airbender (TV Series 2005–200...</td>\n",
       "      <td>2</td>\n",
       "      <td>17</td>\n",
       "      <td>9.001235</td>\n",
       "      <td>1457</td>\n",
       "      <td>3 Nov. 2006</td>\n",
       "      <td>2006</td>\n",
       "      <td>\\n    The Avatar gang encounters Jet in Ba Sin...</td>\n",
       "    </tr>\n",
       "    <tr>\n",
       "      <th>0</th>\n",
       "      <td>The Earth King</td>\n",
       "      <td>episode</td>\n",
       "      <td>Avatar: The Last Airbender (TV Series 2005–200...</td>\n",
       "      <td>2</td>\n",
       "      <td>18</td>\n",
       "      <td>8.601235</td>\n",
       "      <td>1348</td>\n",
       "      <td>17 Nov. 2006</td>\n",
       "      <td>2006</td>\n",
       "      <td>\\n    The kids battle Long Feng and the Dai Li...</td>\n",
       "    </tr>\n",
       "    <tr>\n",
       "      <th>0</th>\n",
       "      <td>The Guru</td>\n",
       "      <td>episode</td>\n",
       "      <td>Avatar: The Last Airbender (TV Series 2005–200...</td>\n",
       "      <td>2</td>\n",
       "      <td>19</td>\n",
       "      <td>9.001235</td>\n",
       "      <td>1474</td>\n",
       "      <td>1 Dec. 2006</td>\n",
       "      <td>2006</td>\n",
       "      <td>\\n    Aang receives guidance from Guru Pathik ...</td>\n",
       "    </tr>\n",
       "    <tr>\n",
       "      <th>0</th>\n",
       "      <td>The Crossroads of Destiny</td>\n",
       "      <td>episode</td>\n",
       "      <td>Avatar: The Last Airbender (TV Series 2005–200...</td>\n",
       "      <td>2</td>\n",
       "      <td>20</td>\n",
       "      <td>9.501235</td>\n",
       "      <td>2162</td>\n",
       "      <td>1 Dec. 2006</td>\n",
       "      <td>2006</td>\n",
       "      <td>\\n    The heroes work together to stop Azula's...</td>\n",
       "    </tr>\n",
       "    <tr>\n",
       "      <th>0</th>\n",
       "      <td>Super Deformed Shorts: Swamp Skiin' Throwdown</td>\n",
       "      <td>episode</td>\n",
       "      <td>Avatar: The Last Airbender (TV Series 2005–200...</td>\n",
       "      <td>-1</td>\n",
       "      <td>-1</td>\n",
       "      <td>7.901235</td>\n",
       "      <td>140</td>\n",
       "      <td>11 Sep. 2007</td>\n",
       "      <td>2007</td>\n",
       "      <td>\\n  Know what this is about?\\n Be the first on...</td>\n",
       "    </tr>\n",
       "  </tbody>\n",
       "</table>\n",
       "<p>63 rows × 10 columns</p>\n",
       "</div>"
      ],
      "text/plain": [
       "                                            title     kind  \\\n",
       "0                                   The Awakening  episode   \n",
       "0                                    The Headband  episode   \n",
       "0                                The Painted Lady  episode   \n",
       "0                                  Sokka's Master  episode   \n",
       "0                                       The Beach  episode   \n",
       "..                                            ...      ...   \n",
       "0                                     Lake Laogai  episode   \n",
       "0                                  The Earth King  episode   \n",
       "0                                        The Guru  episode   \n",
       "0                       The Crossroads of Destiny  episode   \n",
       "0   Super Deformed Shorts: Swamp Skiin' Throwdown  episode   \n",
       "\n",
       "                                           episode of  season  episode  \\\n",
       "0   Avatar: The Last Airbender (TV Series 2005–200...       3        1   \n",
       "0   Avatar: The Last Airbender (TV Series 2005–200...       3        2   \n",
       "0   Avatar: The Last Airbender (TV Series 2005–200...       3        3   \n",
       "0   Avatar: The Last Airbender (TV Series 2005–200...       3        4   \n",
       "0   Avatar: The Last Airbender (TV Series 2005–200...       3        5   \n",
       "..                                                ...     ...      ...   \n",
       "0   Avatar: The Last Airbender (TV Series 2005–200...       2       17   \n",
       "0   Avatar: The Last Airbender (TV Series 2005–200...       2       18   \n",
       "0   Avatar: The Last Airbender (TV Series 2005–200...       2       19   \n",
       "0   Avatar: The Last Airbender (TV Series 2005–200...       2       20   \n",
       "0   Avatar: The Last Airbender (TV Series 2005–200...      -1       -1   \n",
       "\n",
       "      rating  votes original air date  year  \\\n",
       "0   8.701235   1509      21 Sep. 2007  2007   \n",
       "0   8.501235   1448      28 Sep. 2007  2007   \n",
       "0   8.001235   1413       5 Oct. 2007  2007   \n",
       "0   8.801235   1493      12 Oct. 2007  2007   \n",
       "0   8.501235   1514      19 Oct. 2007  2007   \n",
       "..       ...    ...               ...   ...   \n",
       "0   9.001235   1457       3 Nov. 2006  2006   \n",
       "0   8.601235   1348      17 Nov. 2006  2006   \n",
       "0   9.001235   1474       1 Dec. 2006  2006   \n",
       "0   9.501235   2162       1 Dec. 2006  2006   \n",
       "0   7.901235    140      11 Sep. 2007  2007   \n",
       "\n",
       "                                                 plot  \n",
       "0   \\n    Weeks after the fall of the Earth Kingdo...  \n",
       "0   \\n    Posing as a regular kid, Aang goes to a ...  \n",
       "0   \\n    When Aang and his friends come across a ...  \n",
       "0   \\n    After deciding he's the least valuable m...  \n",
       "0   \\n    On a forced vacation, Zuko, Azula, Ty Le...  \n",
       "..                                                ...  \n",
       "0   \\n    The Avatar gang encounters Jet in Ba Sin...  \n",
       "0   \\n    The kids battle Long Feng and the Dai Li...  \n",
       "0   \\n    Aang receives guidance from Guru Pathik ...  \n",
       "0   \\n    The heroes work together to stop Azula's...  \n",
       "0   \\n  Know what this is about?\\n Be the first on...  \n",
       "\n",
       "[63 rows x 10 columns]"
      ]
     },
     "execution_count": 46,
     "metadata": {},
     "output_type": "execute_result"
    }
   ],
   "source": [
    "atla_df"
   ]
  },
  {
   "cell_type": "code",
   "execution_count": 41,
   "metadata": {},
   "outputs": [
    {
     "data": {
      "text/html": [
       "<div>\n",
       "<style scoped>\n",
       "    .dataframe tbody tr th:only-of-type {\n",
       "        vertical-align: middle;\n",
       "    }\n",
       "\n",
       "    .dataframe tbody tr th {\n",
       "        vertical-align: top;\n",
       "    }\n",
       "\n",
       "    .dataframe thead th {\n",
       "        text-align: right;\n",
       "    }\n",
       "</style>\n",
       "<table border=\"1\" class=\"dataframe\">\n",
       "  <thead>\n",
       "    <tr style=\"text-align: right;\">\n",
       "      <th></th>\n",
       "      <th>title</th>\n",
       "      <th>kind</th>\n",
       "      <th>episode of</th>\n",
       "      <th>season</th>\n",
       "      <th>episode</th>\n",
       "      <th>rating</th>\n",
       "      <th>votes</th>\n",
       "      <th>original air date</th>\n",
       "      <th>year</th>\n",
       "      <th>plot</th>\n",
       "    </tr>\n",
       "  </thead>\n",
       "  <tbody>\n",
       "    <tr>\n",
       "      <th>0</th>\n",
       "      <td>After All These Years</td>\n",
       "      <td>episode</td>\n",
       "      <td>The Legend of Korra (TV Series 2012–2014) - IMDb</td>\n",
       "      <td>4</td>\n",
       "      <td>1</td>\n",
       "      <td>8.901235</td>\n",
       "      <td>1310</td>\n",
       "      <td>3 Oct. 2014</td>\n",
       "      <td>2014</td>\n",
       "      <td>\\n    The Metal Clan's new leader Kuvira is ma...</td>\n",
       "    </tr>\n",
       "    <tr>\n",
       "      <th>0</th>\n",
       "      <td>Korra Alone</td>\n",
       "      <td>episode</td>\n",
       "      <td>The Legend of Korra (TV Series 2012–2014) - IMDb</td>\n",
       "      <td>4</td>\n",
       "      <td>2</td>\n",
       "      <td>9.301235</td>\n",
       "      <td>1511</td>\n",
       "      <td>10 Oct. 2014</td>\n",
       "      <td>2014</td>\n",
       "      <td>\\n    While Korra is struggling with PTSD by t...</td>\n",
       "    </tr>\n",
       "    <tr>\n",
       "      <th>0</th>\n",
       "      <td>The Coronation</td>\n",
       "      <td>episode</td>\n",
       "      <td>The Legend of Korra (TV Series 2012–2014) - IMDb</td>\n",
       "      <td>4</td>\n",
       "      <td>3</td>\n",
       "      <td>8.701235</td>\n",
       "      <td>1078</td>\n",
       "      <td>17 Oct. 2014</td>\n",
       "      <td>2014</td>\n",
       "      <td>\\n    The Coronation of the new King of Earth ...</td>\n",
       "    </tr>\n",
       "    <tr>\n",
       "      <th>0</th>\n",
       "      <td>The Calling</td>\n",
       "      <td>episode</td>\n",
       "      <td>The Legend of Korra (TV Series 2012–2014) - IMDb</td>\n",
       "      <td>4</td>\n",
       "      <td>4</td>\n",
       "      <td>8.801235</td>\n",
       "      <td>1079</td>\n",
       "      <td>24 Oct. 2014</td>\n",
       "      <td>2014</td>\n",
       "      <td>\\n    The airbender children, Jinora, Ikki and...</td>\n",
       "    </tr>\n",
       "    <tr>\n",
       "      <th>0</th>\n",
       "      <td>Enemy at the Gates</td>\n",
       "      <td>episode</td>\n",
       "      <td>The Legend of Korra (TV Series 2012–2014) - IMDb</td>\n",
       "      <td>4</td>\n",
       "      <td>5</td>\n",
       "      <td>8.801235</td>\n",
       "      <td>1041</td>\n",
       "      <td>31 Oct. 2014</td>\n",
       "      <td>2014</td>\n",
       "      <td>\\n    Kuvira threatens Zaofu; Bolin is caught ...</td>\n",
       "    </tr>\n",
       "  </tbody>\n",
       "</table>\n",
       "</div>"
      ],
      "text/plain": [
       "                   title     kind  \\\n",
       "0  After All These Years  episode   \n",
       "0            Korra Alone  episode   \n",
       "0         The Coronation  episode   \n",
       "0            The Calling  episode   \n",
       "0     Enemy at the Gates  episode   \n",
       "\n",
       "                                         episode of  season  episode  \\\n",
       "0  The Legend of Korra (TV Series 2012–2014) - IMDb       4        1   \n",
       "0  The Legend of Korra (TV Series 2012–2014) - IMDb       4        2   \n",
       "0  The Legend of Korra (TV Series 2012–2014) - IMDb       4        3   \n",
       "0  The Legend of Korra (TV Series 2012–2014) - IMDb       4        4   \n",
       "0  The Legend of Korra (TV Series 2012–2014) - IMDb       4        5   \n",
       "\n",
       "     rating  votes original air date  year  \\\n",
       "0  8.901235   1310       3 Oct. 2014  2014   \n",
       "0  9.301235   1511      10 Oct. 2014  2014   \n",
       "0  8.701235   1078      17 Oct. 2014  2014   \n",
       "0  8.801235   1079      24 Oct. 2014  2014   \n",
       "0  8.801235   1041      31 Oct. 2014  2014   \n",
       "\n",
       "                                                plot  \n",
       "0  \\n    The Metal Clan's new leader Kuvira is ma...  \n",
       "0  \\n    While Korra is struggling with PTSD by t...  \n",
       "0  \\n    The Coronation of the new King of Earth ...  \n",
       "0  \\n    The airbender children, Jinora, Ikki and...  \n",
       "0  \\n    Kuvira threatens Zaofu; Bolin is caught ...  "
      ]
     },
     "execution_count": 41,
     "metadata": {},
     "output_type": "execute_result"
    }
   ],
   "source": [
    "df_master.head()"
   ]
  },
  {
   "cell_type": "code",
   "execution_count": 78,
   "metadata": {},
   "outputs": [
    {
     "name": "stdout",
     "output_type": "stream",
     "text": [
      "(1, <Movie id:2150017[http] title:_\"The Legend of Korra (TV Series 2012–2014) - IMDb\" Welcome to Republic City (2012)_>)\n",
      "(2, <Movie id:2315621[http] title:_\"The Legend of Korra (TV Series 2012–2014) - IMDb\" A Leaf in the Wind (2012)_>)\n",
      "(3, <Movie id:2388409[http] title:_\"The Legend of Korra (TV Series 2012–2014) - IMDb\" The Revelation (2012)_>)\n",
      "(4, <Movie id:2353307[http] title:_\"The Legend of Korra (TV Series 2012–2014) - IMDb\" The Voice in the Night (2012)_>)\n",
      "(5, <Movie id:2353317[http] title:_\"The Legend of Korra (TV Series 2012–2014) - IMDb\" The Spirit of Competition (2012)_>)\n",
      "(6, <Movie id:2353315[http] title:_\"The Legend of Korra (TV Series 2012–2014) - IMDb\" And the Winner Is... (2012)_>)\n",
      "(7, <Movie id:2353309[http] title:_\"The Legend of Korra (TV Series 2012–2014) - IMDb\" The Aftermath (2012)_>)\n",
      "(8, <Movie id:2353311[http] title:_\"The Legend of Korra (TV Series 2012–2014) - IMDb\" When Extremes Meet (2012)_>)\n",
      "(9, <Movie id:2353313[http] title:_\"The Legend of Korra (TV Series 2012–2014) - IMDb\" Out of the Past (2012)_>)\n",
      "(10, <Movie id:2353305[http] title:_\"The Legend of Korra (TV Series 2012–2014) - IMDb\" Turning the Tides (2012)_>)\n",
      "(11, <Movie id:2198968[http] title:_\"The Legend of Korra (TV Series 2012–2014) - IMDb\" Skeletons in the Closet (2012)_>)\n",
      "(12, <Movie id:2198738[http] title:_\"The Legend of Korra (TV Series 2012–2014) - IMDb\" Endgame (2012)_>)\n"
     ]
    }
   ],
   "source": [
    "for item in korra_ep[1].items():\n",
    "    print(item)"
   ]
  },
  {
   "cell_type": "code",
   "execution_count": 79,
   "metadata": {},
   "outputs": [
    {
     "data": {
      "text/plain": [
       "dict"
      ]
     },
     "execution_count": 79,
     "metadata": {},
     "output_type": "execute_result"
    }
   ],
   "source": [
    "type(korra_ep[1][1].data)"
   ]
  },
  {
   "cell_type": "code",
   "execution_count": 49,
   "metadata": {
    "collapsed": true
   },
   "outputs": [],
   "source": [
    "my_dict = korra_ep[1][1].data"
   ]
  },
  {
   "cell_type": "code",
   "execution_count": 85,
   "metadata": {},
   "outputs": [
    {
     "name": "stdout",
     "output_type": "stream",
     "text": [
      "dict_keys([1, 2, 3, 4, 5, 6, 7, 8, 9, 10, 11, 12])\n",
      "<class 'dict_keys'>\n",
      "12\n"
     ]
    }
   ],
   "source": [
    "print(korra_ep[1].keys())\n",
    "print(type(korra_ep[1].keys()))\n",
    "print(len(korra_ep[1].keys()))"
   ]
  },
  {
   "cell_type": "code",
   "execution_count": 99,
   "metadata": {},
   "outputs": [
    {
     "name": "stdout",
     "output_type": "stream",
     "text": [
      "1\n",
      "2\n",
      "3\n",
      "4\n",
      "5\n",
      "6\n",
      "7\n",
      "8\n",
      "9\n",
      "10\n",
      "11\n",
      "12\n"
     ]
    }
   ],
   "source": [
    "# inital loop working for the season 1. Will eventually need to make a loop of a loop\n",
    "#working loop! figure out how to zoom out one. Then can clean data later.  \n",
    "\n",
    "df_master = pd.DataFrame()\n",
    "\n",
    "for x in korra_ep[1].keys():\n",
    "    temp_dict = korra_ep[1][x].data\n",
    "    temp_df = pd.DataFrame(temp_dict, index = [0])\n",
    "    temp_df['episode of'] = temp_df['episode of'].astype(str)\n",
    "    df_master = df_master.append(temp_df)\n",
    "    print(x)"
   ]
  },
  {
   "cell_type": "code",
   "execution_count": 100,
   "metadata": {},
   "outputs": [
    {
     "data": {
      "text/html": [
       "<div>\n",
       "<style scoped>\n",
       "    .dataframe tbody tr th:only-of-type {\n",
       "        vertical-align: middle;\n",
       "    }\n",
       "\n",
       "    .dataframe tbody tr th {\n",
       "        vertical-align: top;\n",
       "    }\n",
       "\n",
       "    .dataframe thead th {\n",
       "        text-align: right;\n",
       "    }\n",
       "</style>\n",
       "<table border=\"1\" class=\"dataframe\">\n",
       "  <thead>\n",
       "    <tr style=\"text-align: right;\">\n",
       "      <th></th>\n",
       "      <th>episode</th>\n",
       "      <th>episode of</th>\n",
       "      <th>kind</th>\n",
       "      <th>original air date</th>\n",
       "      <th>plot</th>\n",
       "      <th>rating</th>\n",
       "      <th>season</th>\n",
       "      <th>title</th>\n",
       "      <th>votes</th>\n",
       "      <th>year</th>\n",
       "    </tr>\n",
       "  </thead>\n",
       "  <tbody>\n",
       "    <tr>\n",
       "      <th>0</th>\n",
       "      <td>1</td>\n",
       "      <td>The Legend of Korra (TV Series 2012–2014) - IMDb</td>\n",
       "      <td>episode</td>\n",
       "      <td>14 Apr. 2012</td>\n",
       "      <td>\\n    Korra, the new Avatar, travels to Republ...</td>\n",
       "      <td>8.501235</td>\n",
       "      <td>1</td>\n",
       "      <td>Welcome to Republic City</td>\n",
       "      <td>1744</td>\n",
       "      <td>2012</td>\n",
       "    </tr>\n",
       "    <tr>\n",
       "      <th>0</th>\n",
       "      <td>2</td>\n",
       "      <td>The Legend of Korra (TV Series 2012–2014) - IMDb</td>\n",
       "      <td>episode</td>\n",
       "      <td>14 Apr. 2012</td>\n",
       "      <td>\\n    Against Tenzin's prohibition, a frustrat...</td>\n",
       "      <td>8.501235</td>\n",
       "      <td>1</td>\n",
       "      <td>A Leaf in the Wind</td>\n",
       "      <td>1533</td>\n",
       "      <td>2012</td>\n",
       "    </tr>\n",
       "    <tr>\n",
       "      <th>0</th>\n",
       "      <td>3</td>\n",
       "      <td>The Legend of Korra (TV Series 2012–2014) - IMDb</td>\n",
       "      <td>episode</td>\n",
       "      <td>21 Apr. 2012</td>\n",
       "      <td>\\n    Korra attempts to infiltrate the Equalis...</td>\n",
       "      <td>8.501235</td>\n",
       "      <td>1</td>\n",
       "      <td>The Revelation</td>\n",
       "      <td>1375</td>\n",
       "      <td>2012</td>\n",
       "    </tr>\n",
       "    <tr>\n",
       "      <th>0</th>\n",
       "      <td>4</td>\n",
       "      <td>The Legend of Korra (TV Series 2012–2014) - IMDb</td>\n",
       "      <td>episode</td>\n",
       "      <td>28 Apr. 2012</td>\n",
       "      <td>\\n    Korra becomes part of Councilman Tarrlok...</td>\n",
       "      <td>8.401235</td>\n",
       "      <td>1</td>\n",
       "      <td>The Voice in the Night</td>\n",
       "      <td>1381</td>\n",
       "      <td>2012</td>\n",
       "    </tr>\n",
       "    <tr>\n",
       "      <th>0</th>\n",
       "      <td>5</td>\n",
       "      <td>The Legend of Korra (TV Series 2012–2014) - IMDb</td>\n",
       "      <td>episode</td>\n",
       "      <td>5 May 2012</td>\n",
       "      <td>\\n    As Asami steals Mako's heart, Korra stru...</td>\n",
       "      <td>8.101235</td>\n",
       "      <td>1</td>\n",
       "      <td>The Spirit of Competition</td>\n",
       "      <td>1382</td>\n",
       "      <td>2012</td>\n",
       "    </tr>\n",
       "    <tr>\n",
       "      <th>0</th>\n",
       "      <td>6</td>\n",
       "      <td>The Legend of Korra (TV Series 2012–2014) - IMDb</td>\n",
       "      <td>episode</td>\n",
       "      <td>12 May 2012</td>\n",
       "      <td>\\n    Korra and the Fire Ferrets are in the pr...</td>\n",
       "      <td>8.901235</td>\n",
       "      <td>1</td>\n",
       "      <td>And the Winner Is...</td>\n",
       "      <td>1425</td>\n",
       "      <td>2012</td>\n",
       "    </tr>\n",
       "    <tr>\n",
       "      <th>0</th>\n",
       "      <td>7</td>\n",
       "      <td>The Legend of Korra (TV Series 2012–2014) - IMDb</td>\n",
       "      <td>episode</td>\n",
       "      <td>19 May 2012</td>\n",
       "      <td>\\n    Korra suspects that an ally is working w...</td>\n",
       "      <td>8.601235</td>\n",
       "      <td>1</td>\n",
       "      <td>The Aftermath</td>\n",
       "      <td>1337</td>\n",
       "      <td>2012</td>\n",
       "    </tr>\n",
       "    <tr>\n",
       "      <th>0</th>\n",
       "      <td>8</td>\n",
       "      <td>The Legend of Korra (TV Series 2012–2014) - IMDb</td>\n",
       "      <td>episode</td>\n",
       "      <td>2 Jun. 2012</td>\n",
       "      <td>\\n    Korra faces off with Councilman Tarrlok ...</td>\n",
       "      <td>8.801235</td>\n",
       "      <td>1</td>\n",
       "      <td>When Extremes Meet</td>\n",
       "      <td>1358</td>\n",
       "      <td>2012</td>\n",
       "    </tr>\n",
       "    <tr>\n",
       "      <th>0</th>\n",
       "      <td>9</td>\n",
       "      <td>The Legend of Korra (TV Series 2012–2014) - IMDb</td>\n",
       "      <td>episode</td>\n",
       "      <td>9 Jun. 2012</td>\n",
       "      <td>\\n    After being imprisoned by Tarrlok, Korra...</td>\n",
       "      <td>8.901235</td>\n",
       "      <td>1</td>\n",
       "      <td>Out of the Past</td>\n",
       "      <td>1391</td>\n",
       "      <td>2012</td>\n",
       "    </tr>\n",
       "    <tr>\n",
       "      <th>0</th>\n",
       "      <td>10</td>\n",
       "      <td>The Legend of Korra (TV Series 2012–2014) - IMDb</td>\n",
       "      <td>episode</td>\n",
       "      <td>16 Jun. 2012</td>\n",
       "      <td>\\n    The Equalists begin their attack on Repu...</td>\n",
       "      <td>8.901235</td>\n",
       "      <td>1</td>\n",
       "      <td>Turning the Tides</td>\n",
       "      <td>1410</td>\n",
       "      <td>2012</td>\n",
       "    </tr>\n",
       "    <tr>\n",
       "      <th>0</th>\n",
       "      <td>11</td>\n",
       "      <td>The Legend of Korra (TV Series 2012–2014) - IMDb</td>\n",
       "      <td>episode</td>\n",
       "      <td>23 Jun. 2012</td>\n",
       "      <td>\\n    Korra and the rest of Team Avatar go int...</td>\n",
       "      <td>8.901235</td>\n",
       "      <td>1</td>\n",
       "      <td>Skeletons in the Closet</td>\n",
       "      <td>1412</td>\n",
       "      <td>2012</td>\n",
       "    </tr>\n",
       "    <tr>\n",
       "      <th>0</th>\n",
       "      <td>12</td>\n",
       "      <td>The Legend of Korra (TV Series 2012–2014) - IMDb</td>\n",
       "      <td>episode</td>\n",
       "      <td>23 Jun. 2012</td>\n",
       "      <td>\\n    The duel between Amon and Korra - will K...</td>\n",
       "      <td>9.201235</td>\n",
       "      <td>1</td>\n",
       "      <td>Endgame</td>\n",
       "      <td>1731</td>\n",
       "      <td>2012</td>\n",
       "    </tr>\n",
       "  </tbody>\n",
       "</table>\n",
       "</div>"
      ],
      "text/plain": [
       "   episode                                        episode of     kind  \\\n",
       "0        1  The Legend of Korra (TV Series 2012–2014) - IMDb  episode   \n",
       "0        2  The Legend of Korra (TV Series 2012–2014) - IMDb  episode   \n",
       "0        3  The Legend of Korra (TV Series 2012–2014) - IMDb  episode   \n",
       "0        4  The Legend of Korra (TV Series 2012–2014) - IMDb  episode   \n",
       "0        5  The Legend of Korra (TV Series 2012–2014) - IMDb  episode   \n",
       "0        6  The Legend of Korra (TV Series 2012–2014) - IMDb  episode   \n",
       "0        7  The Legend of Korra (TV Series 2012–2014) - IMDb  episode   \n",
       "0        8  The Legend of Korra (TV Series 2012–2014) - IMDb  episode   \n",
       "0        9  The Legend of Korra (TV Series 2012–2014) - IMDb  episode   \n",
       "0       10  The Legend of Korra (TV Series 2012–2014) - IMDb  episode   \n",
       "0       11  The Legend of Korra (TV Series 2012–2014) - IMDb  episode   \n",
       "0       12  The Legend of Korra (TV Series 2012–2014) - IMDb  episode   \n",
       "\n",
       "  original air date                                               plot  \\\n",
       "0      14 Apr. 2012  \\n    Korra, the new Avatar, travels to Republ...   \n",
       "0      14 Apr. 2012  \\n    Against Tenzin's prohibition, a frustrat...   \n",
       "0      21 Apr. 2012  \\n    Korra attempts to infiltrate the Equalis...   \n",
       "0      28 Apr. 2012  \\n    Korra becomes part of Councilman Tarrlok...   \n",
       "0        5 May 2012  \\n    As Asami steals Mako's heart, Korra stru...   \n",
       "0       12 May 2012  \\n    Korra and the Fire Ferrets are in the pr...   \n",
       "0       19 May 2012  \\n    Korra suspects that an ally is working w...   \n",
       "0       2 Jun. 2012  \\n    Korra faces off with Councilman Tarrlok ...   \n",
       "0       9 Jun. 2012  \\n    After being imprisoned by Tarrlok, Korra...   \n",
       "0      16 Jun. 2012  \\n    The Equalists begin their attack on Repu...   \n",
       "0      23 Jun. 2012  \\n    Korra and the rest of Team Avatar go int...   \n",
       "0      23 Jun. 2012  \\n    The duel between Amon and Korra - will K...   \n",
       "\n",
       "     rating  season                      title  votes  year  \n",
       "0  8.501235       1   Welcome to Republic City   1744  2012  \n",
       "0  8.501235       1         A Leaf in the Wind   1533  2012  \n",
       "0  8.501235       1             The Revelation   1375  2012  \n",
       "0  8.401235       1     The Voice in the Night   1381  2012  \n",
       "0  8.101235       1  The Spirit of Competition   1382  2012  \n",
       "0  8.901235       1       And the Winner Is...   1425  2012  \n",
       "0  8.601235       1              The Aftermath   1337  2012  \n",
       "0  8.801235       1         When Extremes Meet   1358  2012  \n",
       "0  8.901235       1            Out of the Past   1391  2012  \n",
       "0  8.901235       1          Turning the Tides   1410  2012  \n",
       "0  8.901235       1    Skeletons in the Closet   1412  2012  \n",
       "0  9.201235       1                    Endgame   1731  2012  "
      ]
     },
     "execution_count": 100,
     "metadata": {},
     "output_type": "execute_result"
    }
   ],
   "source": [
    "df_master"
   ]
  },
  {
   "cell_type": "code",
   "execution_count": 89,
   "metadata": {},
   "outputs": [
    {
     "name": "stdout",
     "output_type": "stream",
     "text": [
      "{'plot': '\\n    The duel between Amon and Korra - will Korra be powerful enough to beat Amon?    ', 'votes': 1731, 'season': 1, 'year': '2012', 'title': 'Endgame', 'kind': 'episode', 'rating': 9.201234567891, 'episode': 12, 'episode of': <Movie id:1695360[http] title:_\"The Legend of Korra (TV Series 2012–2014) - IMDb\" (None)_>, 'original air date': '23 Jun. 2012'}\n"
     ]
    }
   ],
   "source": [
    "print(korra_ep[1][12].data)"
   ]
  },
  {
   "cell_type": "code",
   "execution_count": 80,
   "metadata": {},
   "outputs": [
    {
     "data": {
      "text/plain": [
       "{'episode': 1,\n",
       " 'episode of': <Movie id:1695360[http] title:_\"The Legend of Korra (TV Series 2012–2014) - IMDb\" (None)_>,\n",
       " 'kind': 'episode',\n",
       " 'original air date': '14 Apr. 2012',\n",
       " 'plot': '\\n    Korra, the new Avatar, travels to Republic city to start her Airbending training.    ',\n",
       " 'rating': 8.501234567891,\n",
       " 'season': 1,\n",
       " 'title': 'Welcome to Republic City',\n",
       " 'votes': 1744,\n",
       " 'year': '2012'}"
      ]
     },
     "execution_count": 80,
     "metadata": {},
     "output_type": "execute_result"
    }
   ],
   "source": [
    "my_dict"
   ]
  },
  {
   "cell_type": "code",
   "execution_count": 63,
   "metadata": {},
   "outputs": [],
   "source": [
    "df_se1_ep1 = pd.DataFrame(my_dict, index = [0])"
   ]
  },
  {
   "cell_type": "code",
   "execution_count": 59,
   "metadata": {},
   "outputs": [],
   "source": [
    "df_se1_ep1['episode of'] = df_se1_ep1['episode of'].astype(str)"
   ]
  },
  {
   "cell_type": "code",
   "execution_count": 62,
   "metadata": {},
   "outputs": [
    {
     "data": {
      "text/html": [
       "<div>\n",
       "<style scoped>\n",
       "    .dataframe tbody tr th:only-of-type {\n",
       "        vertical-align: middle;\n",
       "    }\n",
       "\n",
       "    .dataframe tbody tr th {\n",
       "        vertical-align: top;\n",
       "    }\n",
       "\n",
       "    .dataframe thead th {\n",
       "        text-align: right;\n",
       "    }\n",
       "</style>\n",
       "<table border=\"1\" class=\"dataframe\">\n",
       "  <thead>\n",
       "    <tr style=\"text-align: right;\">\n",
       "      <th></th>\n",
       "      <th>episode</th>\n",
       "      <th>episode of</th>\n",
       "      <th>kind</th>\n",
       "      <th>original air date</th>\n",
       "      <th>plot</th>\n",
       "      <th>rating</th>\n",
       "      <th>season</th>\n",
       "      <th>title</th>\n",
       "      <th>votes</th>\n",
       "      <th>year</th>\n",
       "    </tr>\n",
       "  </thead>\n",
       "  <tbody>\n",
       "    <tr>\n",
       "      <th>0</th>\n",
       "      <td>1</td>\n",
       "      <td>The Legend of Korra (TV Series 2012–2014) - IMDb</td>\n",
       "      <td>episode</td>\n",
       "      <td>14 Apr. 2012</td>\n",
       "      <td>\\n    Korra, the new Avatar, travels to Republ...</td>\n",
       "      <td>8.501235</td>\n",
       "      <td>1</td>\n",
       "      <td>Welcome to Republic City</td>\n",
       "      <td>1744</td>\n",
       "      <td>2012</td>\n",
       "    </tr>\n",
       "  </tbody>\n",
       "</table>\n",
       "</div>"
      ],
      "text/plain": [
       "   episode                                        episode of     kind  \\\n",
       "0        1  The Legend of Korra (TV Series 2012–2014) - IMDb  episode   \n",
       "\n",
       "  original air date                                               plot  \\\n",
       "0      14 Apr. 2012  \\n    Korra, the new Avatar, travels to Republ...   \n",
       "\n",
       "     rating  season                     title  votes  year  \n",
       "0  8.501235       1  Welcome to Republic City   1744  2012  "
      ]
     },
     "execution_count": 62,
     "metadata": {},
     "output_type": "execute_result"
    }
   ],
   "source": [
    "df_se1_ep1.head()"
   ]
  },
  {
   "cell_type": "code",
   "execution_count": 67,
   "metadata": {},
   "outputs": [
    {
     "data": {
      "text/plain": [
       "dict_keys(['plot', 'votes', 'season', 'year', 'title', 'kind', 'rating', 'episode', 'episode of', 'original air date'])"
      ]
     },
     "execution_count": 67,
     "metadata": {},
     "output_type": "execute_result"
    }
   ],
   "source": [
    "my_dict.keys()"
   ]
  },
  {
   "cell_type": "code",
   "execution_count": 69,
   "metadata": {},
   "outputs": [
    {
     "data": {
      "text/plain": [
       "['plot',\n",
       " 'votes',\n",
       " 'season',\n",
       " 'year',\n",
       " 'title',\n",
       " 'kind',\n",
       " 'rating',\n",
       " 'episode',\n",
       " 'episode of',\n",
       " 'original air date',\n",
       " 'canonical title',\n",
       " 'long imdb title',\n",
       " 'long imdb canonical title',\n",
       " 'smart canonical title',\n",
       " 'smart long imdb canonical title',\n",
       " 'long imdb episode title',\n",
       " 'series title',\n",
       " 'canonical series title',\n",
       " 'episode title',\n",
       " 'canonical episode title',\n",
       " 'smart canonical series title',\n",
       " 'smart canonical episode title']"
      ]
     },
     "execution_count": 69,
     "metadata": {},
     "output_type": "execute_result"
    }
   ],
   "source": [
    "#really don't need this too long\n",
    "#korra_ep[1][1].keys()"
   ]
  },
  {
   "cell_type": "code",
   "execution_count": 72,
   "metadata": {},
   "outputs": [
    {
     "ename": "KeyError",
     "evalue": "0",
     "output_type": "error",
     "traceback": [
      "\u001b[0;31m---------------------------------------------------------------------------\u001b[0m",
      "\u001b[0;31mKeyError\u001b[0m                                  Traceback (most recent call last)",
      "\u001b[0;32m<ipython-input-72-8a4e5c84fee7>\u001b[0m in \u001b[0;36m<module>\u001b[0;34m()\u001b[0m\n\u001b[0;32m----> 1\u001b[0;31m \u001b[0;32mfor\u001b[0m \u001b[0mkeys\u001b[0m \u001b[0;32min\u001b[0m \u001b[0mkorra_ep\u001b[0m\u001b[0;34m[\u001b[0m\u001b[0;36m1\u001b[0m\u001b[0;34m]\u001b[0m\u001b[0;34m[\u001b[0m\u001b[0;36m1\u001b[0m\u001b[0;34m]\u001b[0m\u001b[0;34m:\u001b[0m\u001b[0;34m\u001b[0m\u001b[0m\n\u001b[0m\u001b[1;32m      2\u001b[0m     \u001b[0mprint\u001b[0m\u001b[0;34m(\u001b[0m\u001b[0mkeys\u001b[0m\u001b[0;34m)\u001b[0m\u001b[0;34m\u001b[0m\u001b[0m\n",
      "\u001b[0;32m//anaconda/lib/python3.5/site-packages/imdb/utils.py\u001b[0m in \u001b[0;36m__getitem__\u001b[0;34m(self, key)\u001b[0m\n\u001b[1;32m   1502\u001b[0m         \u001b[0;31m# Handle key aliases.\u001b[0m\u001b[0;34m\u001b[0m\u001b[0;34m\u001b[0m\u001b[0m\n\u001b[1;32m   1503\u001b[0m         \u001b[0mkey\u001b[0m \u001b[0;34m=\u001b[0m \u001b[0mself\u001b[0m\u001b[0;34m.\u001b[0m\u001b[0mkeys_alias\u001b[0m\u001b[0;34m.\u001b[0m\u001b[0mget\u001b[0m\u001b[0;34m(\u001b[0m\u001b[0mkey\u001b[0m\u001b[0;34m,\u001b[0m \u001b[0mkey\u001b[0m\u001b[0;34m)\u001b[0m\u001b[0;34m\u001b[0m\u001b[0m\n\u001b[0;32m-> 1504\u001b[0;31m         \u001b[0mrawData\u001b[0m \u001b[0;34m=\u001b[0m \u001b[0mself\u001b[0m\u001b[0;34m.\u001b[0m\u001b[0mdata\u001b[0m\u001b[0;34m[\u001b[0m\u001b[0mkey\u001b[0m\u001b[0;34m]\u001b[0m\u001b[0;34m\u001b[0m\u001b[0m\n\u001b[0m\u001b[1;32m   1505\u001b[0m         \u001b[0;32mif\u001b[0m \u001b[0mkey\u001b[0m \u001b[0;32min\u001b[0m \u001b[0mself\u001b[0m\u001b[0;34m.\u001b[0m\u001b[0mkeys_tomodify\u001b[0m \u001b[0;32mand\u001b[0m\u001b[0;31m \u001b[0m\u001b[0;31m\\\u001b[0m\u001b[0;34m\u001b[0m\u001b[0m\n\u001b[1;32m   1506\u001b[0m                 \u001b[0mself\u001b[0m\u001b[0;34m.\u001b[0m\u001b[0mmodFunct\u001b[0m \u001b[0;32mnot\u001b[0m \u001b[0;32min\u001b[0m \u001b[0;34m(\u001b[0m\u001b[0;32mNone\u001b[0m\u001b[0;34m,\u001b[0m \u001b[0mmodNull\u001b[0m\u001b[0;34m)\u001b[0m\u001b[0;34m:\u001b[0m\u001b[0;34m\u001b[0m\u001b[0m\n",
      "\u001b[0;31mKeyError\u001b[0m: 0"
     ]
    }
   ],
   "source": [
    "for keys in korra_ep[1][1]:\n",
    "    print(keys)"
   ]
  },
  {
   "cell_type": "code",
   "execution_count": 74,
   "metadata": {},
   "outputs": [
    {
     "data": {
      "text/plain": [
       "'\"Legend of Korra (TV Series 2012–2014) - IMDb, The\" Welcome to Republic City (2012)'"
      ]
     },
     "execution_count": 74,
     "metadata": {},
     "output_type": "execute_result"
    }
   ],
   "source": [
    "korra_ep[1][1]['smart long imdb canonical title']"
   ]
  },
  {
   "cell_type": "code",
   "execution_count": 16,
   "metadata": {},
   "outputs": [
    {
     "data": {
      "text/plain": [
       "dict_keys(['data', 'titlesRefs', 'namesRefs'])"
      ]
     },
     "execution_count": 16,
     "metadata": {},
     "output_type": "execute_result"
    }
   ],
   "source": [
    "korra_episodes.keys()"
   ]
  },
  {
   "cell_type": "code",
   "execution_count": 20,
   "metadata": {},
   "outputs": [
    {
     "data": {
      "text/plain": [
       "dict_keys([4, 1, 2, 3])"
      ]
     },
     "execution_count": 20,
     "metadata": {},
     "output_type": "execute_result"
    }
   ],
   "source": [
    "#Can use a combination of subsetting into the dictionary\n",
    "#and using the keys to identify the next level to explore\n",
    "korra_episodes['data']['episodes'].keys()"
   ]
  },
  {
   "cell_type": "code",
   "execution_count": 26,
   "metadata": {},
   "outputs": [
    {
     "data": {
      "text/plain": [
       "['title',\n",
       " 'kind',\n",
       " 'episode of',\n",
       " 'season',\n",
       " 'episode',\n",
       " 'rating',\n",
       " 'votes',\n",
       " 'original air date',\n",
       " 'year',\n",
       " 'plot',\n",
       " 'canonical title',\n",
       " 'long imdb title',\n",
       " 'long imdb canonical title',\n",
       " 'smart canonical title',\n",
       " 'smart long imdb canonical title',\n",
       " 'long imdb episode title',\n",
       " 'series title',\n",
       " 'canonical series title',\n",
       " 'episode title',\n",
       " 'canonical episode title',\n",
       " 'smart canonical series title',\n",
       " 'smart canonical episode title']"
      ]
     },
     "execution_count": 26,
     "metadata": {},
     "output_type": "execute_result"
    }
   ],
   "source": [
    "korra_episodes['data']['episodes'][1][1].keys()"
   ]
  },
  {
   "cell_type": "code",
   "execution_count": 35,
   "metadata": {},
   "outputs": [
    {
     "ename": "TypeError",
     "evalue": "get() missing 1 required positional argument: 'key'",
     "output_type": "error",
     "traceback": [
      "\u001b[1;31m---------------------------------------------------------------------------\u001b[0m",
      "\u001b[1;31mTypeError\u001b[0m                                 Traceback (most recent call last)",
      "\u001b[1;32m<ipython-input-35-5eb10e4b61f0>\u001b[0m in \u001b[0;36m<module>\u001b[1;34m()\u001b[0m\n\u001b[1;32m----> 1\u001b[1;33m \u001b[0mkorra_episodes\u001b[0m\u001b[1;33m[\u001b[0m\u001b[1;34m'data'\u001b[0m\u001b[1;33m]\u001b[0m\u001b[1;33m[\u001b[0m\u001b[1;34m'episodes'\u001b[0m\u001b[1;33m]\u001b[0m\u001b[1;33m[\u001b[0m\u001b[1;36m1\u001b[0m\u001b[1;33m]\u001b[0m\u001b[1;33m[\u001b[0m\u001b[1;36m1\u001b[0m\u001b[1;33m]\u001b[0m\u001b[1;33m.\u001b[0m\u001b[0mget\u001b[0m\u001b[1;33m(\u001b[0m\u001b[1;33m)\u001b[0m\u001b[1;33m\u001b[0m\u001b[0m\n\u001b[0m",
      "\u001b[1;31mTypeError\u001b[0m: get() missing 1 required positional argument: 'key'"
     ]
    }
   ],
   "source": [
    "korra_episodes['data']['episodes'][1][1].get()"
   ]
  },
  {
   "cell_type": "code",
   "execution_count": 54,
   "metadata": {},
   "outputs": [
    {
     "data": {
      "text/plain": [
       "<Movie id:2150017[http] title:_\"The Legend of Korra (TV Series 2012–2014) - IMDb\" Welcome to Republic City (2012)_>"
      ]
     },
     "execution_count": 54,
     "metadata": {},
     "output_type": "execute_result"
    }
   ],
   "source": [
    "#in the below example, first [1] is season and second is [episode #]\n",
    "korra_episodes['data']['episodes'][1][1]"
   ]
  },
  {
   "cell_type": "code",
   "execution_count": 34,
   "metadata": {},
   "outputs": [
    {
     "data": {
      "text/plain": [
       "imdb.Movie.Movie"
      ]
     },
     "execution_count": 34,
     "metadata": {},
     "output_type": "execute_result"
    }
   ],
   "source": [
    "type(korra_episodes['data']['episodes'][1][1])"
   ]
  },
  {
   "cell_type": "code",
   "execution_count": null,
   "metadata": {
    "collapsed": true
   },
   "outputs": [],
   "source": []
  },
  {
   "cell_type": "code",
   "execution_count": null,
   "metadata": {
    "collapsed": true
   },
   "outputs": [],
   "source": []
  },
  {
   "cell_type": "code",
   "execution_count": 36,
   "metadata": {},
   "outputs": [
    {
     "data": {
      "text/plain": [
       "{'episodes': {1: {1: <Movie id:2150017[http] title:_\"The Legend of Korra (TV Series 2012–2014) - IMDb\" Welcome to Republic City (2012)_>,\n",
       "   2: <Movie id:2315621[http] title:_\"The Legend of Korra (TV Series 2012–2014) - IMDb\" A Leaf in the Wind (2012)_>,\n",
       "   3: <Movie id:2388409[http] title:_\"The Legend of Korra (TV Series 2012–2014) - IMDb\" The Revelation (2012)_>,\n",
       "   4: <Movie id:2353307[http] title:_\"The Legend of Korra (TV Series 2012–2014) - IMDb\" The Voice in the Night (2012)_>,\n",
       "   5: <Movie id:2353317[http] title:_\"The Legend of Korra (TV Series 2012–2014) - IMDb\" The Spirit of Competition (2012)_>,\n",
       "   6: <Movie id:2353315[http] title:_\"The Legend of Korra (TV Series 2012–2014) - IMDb\" And the Winner Is... (2012)_>,\n",
       "   7: <Movie id:2353309[http] title:_\"The Legend of Korra (TV Series 2012–2014) - IMDb\" The Aftermath (2012)_>,\n",
       "   8: <Movie id:2353311[http] title:_\"The Legend of Korra (TV Series 2012–2014) - IMDb\" When Extremes Meet (2012)_>,\n",
       "   9: <Movie id:2353313[http] title:_\"The Legend of Korra (TV Series 2012–2014) - IMDb\" Out of the Past (2012)_>,\n",
       "   10: <Movie id:2353305[http] title:_\"The Legend of Korra (TV Series 2012–2014) - IMDb\" Turning the Tides (2012)_>,\n",
       "   11: <Movie id:2198968[http] title:_\"The Legend of Korra (TV Series 2012–2014) - IMDb\" Skeletons in the Closet (2012)_>,\n",
       "   12: <Movie id:2198738[http] title:_\"The Legend of Korra (TV Series 2012–2014) - IMDb\" Endgame (2012)_>},\n",
       "  2: {1: <Movie id:2268096[http] title:_\"The Legend of Korra (TV Series 2012–2014) - IMDb\" Rebel Spirit (2013)_>,\n",
       "   2: <Movie id:2268100[http] title:_\"The Legend of Korra (TV Series 2012–2014) - IMDb\" The Southern Lights (2013)_>,\n",
       "   3: <Movie id:2268104[http] title:_\"The Legend of Korra (TV Series 2012–2014) - IMDb\" Civil Wars: Part 1 (2013)_>,\n",
       "   4: <Movie id:2268114[http] title:_\"The Legend of Korra (TV Series 2012–2014) - IMDb\" Civil Wars: Part 2 (2013)_>,\n",
       "   5: <Movie id:2268102[http] title:_\"The Legend of Korra (TV Series 2012–2014) - IMDb\" Peacekeepers (2013)_>,\n",
       "   6: <Movie id:2268108[http] title:_\"The Legend of Korra (TV Series 2012–2014) - IMDb\" The Sting (2013)_>,\n",
       "   7: <Movie id:2268118[http] title:_\"The Legend of Korra (TV Series 2012–2014) - IMDb\" Beginnings, Part 1 (2013)_>,\n",
       "   8: <Movie id:2268126[http] title:_\"The Legend of Korra (TV Series 2012–2014) - IMDb\" Beginnings, Part 2 (2013)_>,\n",
       "   9: <Movie id:2268120[http] title:_\"The Legend of Korra (TV Series 2012–2014) - IMDb\" The Guide (2013)_>,\n",
       "   10: <Movie id:2268124[http] title:_\"The Legend of Korra (TV Series 2012–2014) - IMDb\" A New Spiritual Age (2013)_>,\n",
       "   11: <Movie id:2268116[http] title:_\"The Legend of Korra (TV Series 2012–2014) - IMDb\" Night of a Thousand Stars (2013)_>,\n",
       "   12: <Movie id:2268112[http] title:_\"The Legend of Korra (TV Series 2012–2014) - IMDb\" Harmonic Convergence (2013)_>,\n",
       "   13: <Movie id:2268110[http] title:_\"The Legend of Korra (TV Series 2012–2014) - IMDb\" Darkness Falls (2013)_>,\n",
       "   14: <Movie id:2268122[http] title:_\"The Legend of Korra (TV Series 2012–2014) - IMDb\" Light in the Dark (2013)_>},\n",
       "  3: {1: <Movie id:3550190[http] title:_\"The Legend of Korra (TV Series 2012–2014) - IMDb\" A Breath of Fresh Air (2014)_>,\n",
       "   2: <Movie id:3797652[http] title:_\"The Legend of Korra (TV Series 2012–2014) - IMDb\" Rebirth (2014)_>,\n",
       "   3: <Movie id:3797656[http] title:_\"The Legend of Korra (TV Series 2012–2014) - IMDb\" The Earth Queen (2014)_>,\n",
       "   4: <Movie id:3797654[http] title:_\"The Legend of Korra (TV Series 2012–2014) - IMDb\" In Harm's Way (2014)_>,\n",
       "   5: <Movie id:3797658[http] title:_\"The Legend of Korra (TV Series 2012–2014) - IMDb\" The Metal Clan (2014)_>,\n",
       "   6: <Movie id:3797660[http] title:_\"The Legend of Korra (TV Series 2012–2014) - IMDb\" Old Wounds (2014)_>,\n",
       "   7: <Movie id:3859534[http] title:_\"The Legend of Korra (TV Series 2012–2014) - IMDb\" Original Airbenders (2014)_>,\n",
       "   8: <Movie id:3865208[http] title:_\"The Legend of Korra (TV Series 2012–2014) - IMDb\" The Terror Within (2014)_>,\n",
       "   9: <Movie id:3865210[http] title:_\"The Legend of Korra (TV Series 2012–2014) - IMDb\" The Stakeout (2014)_>,\n",
       "   10: <Movie id:3865212[http] title:_\"The Legend of Korra (TV Series 2012–2014) - IMDb\" Long Live the Queen (2014)_>,\n",
       "   11: <Movie id:3865214[http] title:_\"The Legend of Korra (TV Series 2012–2014) - IMDb\" The Ultimatum (2014)_>,\n",
       "   12: <Movie id:3865216[http] title:_\"The Legend of Korra (TV Series 2012–2014) - IMDb\" Enter the Void (2014)_>,\n",
       "   13: <Movie id:3865220[http] title:_\"The Legend of Korra (TV Series 2012–2014) - IMDb\" Venom of the Red Lotus (2014)_>},\n",
       "  4: {1: <Movie id:4030586[http] title:_\"The Legend of Korra (TV Series 2012–2014) - IMDb\" After All These Years (2014)_>,\n",
       "   2: <Movie id:4030588[http] title:_\"The Legend of Korra (TV Series 2012–2014) - IMDb\" Korra Alone (2014)_>,\n",
       "   3: <Movie id:4030590[http] title:_\"The Legend of Korra (TV Series 2012–2014) - IMDb\" The Coronation (2014)_>,\n",
       "   4: <Movie id:4030596[http] title:_\"The Legend of Korra (TV Series 2012–2014) - IMDb\" The Calling (2014)_>,\n",
       "   5: <Movie id:4108622[http] title:_\"The Legend of Korra (TV Series 2012–2014) - IMDb\" Enemy at the Gates (2014)_>,\n",
       "   6: <Movie id:4122656[http] title:_\"The Legend of Korra (TV Series 2012–2014) - IMDb\" The Battle of Zaofu (2014)_>,\n",
       "   7: <Movie id:4122662[http] title:_\"The Legend of Korra (TV Series 2012–2014) - IMDb\" Reunion (2014)_>,\n",
       "   8: <Movie id:4122672[http] title:_\"The Legend of Korra (TV Series 2012–2014) - IMDb\" Remembrances (2014)_>,\n",
       "   9: <Movie id:4122680[http] title:_\"The Legend of Korra (TV Series 2012–2014) - IMDb\" Beyond the Wilds (2014)_>,\n",
       "   10: <Movie id:4122678[http] title:_\"The Legend of Korra (TV Series 2012–2014) - IMDb\" Operation Beifong (2014)_>,\n",
       "   11: <Movie id:4122688[http] title:_\"The Legend of Korra (TV Series 2012–2014) - IMDb\" Kuvira's Gambit (2014)_>,\n",
       "   12: <Movie id:4122690[http] title:_\"The Legend of Korra (TV Series 2012–2014) - IMDb\" Day of the Colossus (2014)_>,\n",
       "   13: <Movie id:4122708[http] title:_\"The Legend of Korra (TV Series 2012–2014) - IMDb\" The Last Stand (2014)_>}},\n",
       " 'number of episodes': 52}"
      ]
     },
     "execution_count": 36,
     "metadata": {},
     "output_type": "execute_result"
    }
   ],
   "source": [
    "korra_episodes.get('data')"
   ]
  },
  {
   "cell_type": "code",
   "execution_count": 37,
   "metadata": {},
   "outputs": [
    {
     "data": {
      "text/plain": [
       "dict"
      ]
     },
     "execution_count": 37,
     "metadata": {},
     "output_type": "execute_result"
    }
   ],
   "source": [
    "type(korra_episodes.get('data'))"
   ]
  },
  {
   "cell_type": "code",
   "execution_count": 38,
   "metadata": {
    "collapsed": true
   },
   "outputs": [],
   "source": [
    "korra_episodes_data = korra_episodes.get('data')"
   ]
  },
  {
   "cell_type": "code",
   "execution_count": 39,
   "metadata": {},
   "outputs": [
    {
     "name": "stdout",
     "output_type": "stream",
     "text": [
      "{'episodes': {4: {1: <Movie id:4030586[http] title:_\"The Legend of Korra (TV Series 2012–2014) - IMDb\" After All These Years (2014)_>, 2: <Movie id:4030588[http] title:_\"The Legend of Korra (TV Series 2012–2014) - IMDb\" Korra Alone (2014)_>, 3: <Movie id:4030590[http] title:_\"The Legend of Korra (TV Series 2012–2014) - IMDb\" The Coronation (2014)_>, 4: <Movie id:4030596[http] title:_\"The Legend of Korra (TV Series 2012–2014) - IMDb\" The Calling (2014)_>, 5: <Movie id:4108622[http] title:_\"The Legend of Korra (TV Series 2012–2014) - IMDb\" Enemy at the Gates (2014)_>, 6: <Movie id:4122656[http] title:_\"The Legend of Korra (TV Series 2012–2014) - IMDb\" The Battle of Zaofu (2014)_>, 7: <Movie id:4122662[http] title:_\"The Legend of Korra (TV Series 2012–2014) - IMDb\" Reunion (2014)_>, 8: <Movie id:4122672[http] title:_\"The Legend of Korra (TV Series 2012–2014) - IMDb\" Remembrances (2014)_>, 9: <Movie id:4122680[http] title:_\"The Legend of Korra (TV Series 2012–2014) - IMDb\" Beyond the Wilds (2014)_>, 10: <Movie id:4122678[http] title:_\"The Legend of Korra (TV Series 2012–2014) - IMDb\" Operation Beifong (2014)_>, 11: <Movie id:4122688[http] title:_\"The Legend of Korra (TV Series 2012–2014) - IMDb\" Kuvira's Gambit (2014)_>, 12: <Movie id:4122690[http] title:_\"The Legend of Korra (TV Series 2012–2014) - IMDb\" Day of the Colossus (2014)_>, 13: <Movie id:4122708[http] title:_\"The Legend of Korra (TV Series 2012–2014) - IMDb\" The Last Stand (2014)_>}, 1: {1: <Movie id:2150017[http] title:_\"The Legend of Korra (TV Series 2012–2014) - IMDb\" Welcome to Republic City (2012)_>, 2: <Movie id:2315621[http] title:_\"The Legend of Korra (TV Series 2012–2014) - IMDb\" A Leaf in the Wind (2012)_>, 3: <Movie id:2388409[http] title:_\"The Legend of Korra (TV Series 2012–2014) - IMDb\" The Revelation (2012)_>, 4: <Movie id:2353307[http] title:_\"The Legend of Korra (TV Series 2012–2014) - IMDb\" The Voice in the Night (2012)_>, 5: <Movie id:2353317[http] title:_\"The Legend of Korra (TV Series 2012–2014) - IMDb\" The Spirit of Competition (2012)_>, 6: <Movie id:2353315[http] title:_\"The Legend of Korra (TV Series 2012–2014) - IMDb\" And the Winner Is... (2012)_>, 7: <Movie id:2353309[http] title:_\"The Legend of Korra (TV Series 2012–2014) - IMDb\" The Aftermath (2012)_>, 8: <Movie id:2353311[http] title:_\"The Legend of Korra (TV Series 2012–2014) - IMDb\" When Extremes Meet (2012)_>, 9: <Movie id:2353313[http] title:_\"The Legend of Korra (TV Series 2012–2014) - IMDb\" Out of the Past (2012)_>, 10: <Movie id:2353305[http] title:_\"The Legend of Korra (TV Series 2012–2014) - IMDb\" Turning the Tides (2012)_>, 11: <Movie id:2198968[http] title:_\"The Legend of Korra (TV Series 2012–2014) - IMDb\" Skeletons in the Closet (2012)_>, 12: <Movie id:2198738[http] title:_\"The Legend of Korra (TV Series 2012–2014) - IMDb\" Endgame (2012)_>}, 2: {1: <Movie id:2268096[http] title:_\"The Legend of Korra (TV Series 2012–2014) - IMDb\" Rebel Spirit (2013)_>, 2: <Movie id:2268100[http] title:_\"The Legend of Korra (TV Series 2012–2014) - IMDb\" The Southern Lights (2013)_>, 3: <Movie id:2268104[http] title:_\"The Legend of Korra (TV Series 2012–2014) - IMDb\" Civil Wars: Part 1 (2013)_>, 4: <Movie id:2268114[http] title:_\"The Legend of Korra (TV Series 2012–2014) - IMDb\" Civil Wars: Part 2 (2013)_>, 5: <Movie id:2268102[http] title:_\"The Legend of Korra (TV Series 2012–2014) - IMDb\" Peacekeepers (2013)_>, 6: <Movie id:2268108[http] title:_\"The Legend of Korra (TV Series 2012–2014) - IMDb\" The Sting (2013)_>, 7: <Movie id:2268118[http] title:_\"The Legend of Korra (TV Series 2012–2014) - IMDb\" Beginnings, Part 1 (2013)_>, 8: <Movie id:2268126[http] title:_\"The Legend of Korra (TV Series 2012–2014) - IMDb\" Beginnings, Part 2 (2013)_>, 9: <Movie id:2268120[http] title:_\"The Legend of Korra (TV Series 2012–2014) - IMDb\" The Guide (2013)_>, 10: <Movie id:2268124[http] title:_\"The Legend of Korra (TV Series 2012–2014) - IMDb\" A New Spiritual Age (2013)_>, 11: <Movie id:2268116[http] title:_\"The Legend of Korra (TV Series 2012–2014) - IMDb\" Night of a Thousand Stars (2013)_>, 12: <Movie id:2268112[http] title:_\"The Legend of Korra (TV Series 2012–2014) - IMDb\" Harmonic Convergence (2013)_>, 13: <Movie id:2268110[http] title:_\"The Legend of Korra (TV Series 2012–2014) - IMDb\" Darkness Falls (2013)_>, 14: <Movie id:2268122[http] title:_\"The Legend of Korra (TV Series 2012–2014) - IMDb\" Light in the Dark (2013)_>}, 3: {1: <Movie id:3550190[http] title:_\"The Legend of Korra (TV Series 2012–2014) - IMDb\" A Breath of Fresh Air (2014)_>, 2: <Movie id:3797652[http] title:_\"The Legend of Korra (TV Series 2012–2014) - IMDb\" Rebirth (2014)_>, 3: <Movie id:3797656[http] title:_\"The Legend of Korra (TV Series 2012–2014) - IMDb\" The Earth Queen (2014)_>, 4: <Movie id:3797654[http] title:_\"The Legend of Korra (TV Series 2012–2014) - IMDb\" In Harm's Way (2014)_>, 5: <Movie id:3797658[http] title:_\"The Legend of Korra (TV Series 2012–2014) - IMDb\" The Metal Clan (2014)_>, 6: <Movie id:3797660[http] title:_\"The Legend of Korra (TV Series 2012–2014) - IMDb\" Old Wounds (2014)_>, 7: <Movie id:3859534[http] title:_\"The Legend of Korra (TV Series 2012–2014) - IMDb\" Original Airbenders (2014)_>, 8: <Movie id:3865208[http] title:_\"The Legend of Korra (TV Series 2012–2014) - IMDb\" The Terror Within (2014)_>, 9: <Movie id:3865210[http] title:_\"The Legend of Korra (TV Series 2012–2014) - IMDb\" The Stakeout (2014)_>, 10: <Movie id:3865212[http] title:_\"The Legend of Korra (TV Series 2012–2014) - IMDb\" Long Live the Queen (2014)_>, 11: <Movie id:3865214[http] title:_\"The Legend of Korra (TV Series 2012–2014) - IMDb\" The Ultimatum (2014)_>, 12: <Movie id:3865216[http] title:_\"The Legend of Korra (TV Series 2012–2014) - IMDb\" Enter the Void (2014)_>, 13: <Movie id:3865220[http] title:_\"The Legend of Korra (TV Series 2012–2014) - IMDb\" Venom of the Red Lotus (2014)_>}}, 'number of episodes': 52}\n"
     ]
    }
   ],
   "source": [
    "print(korra_episodes_data)"
   ]
  },
  {
   "cell_type": "code",
   "execution_count": 40,
   "metadata": {
    "collapsed": true
   },
   "outputs": [],
   "source": [
    "korra_episodes_data_episodes = korra_episodes_data.get('episodes')"
   ]
  },
  {
   "cell_type": "code",
   "execution_count": 41,
   "metadata": {},
   "outputs": [
    {
     "data": {
      "text/plain": [
       "dict"
      ]
     },
     "execution_count": 41,
     "metadata": {},
     "output_type": "execute_result"
    }
   ],
   "source": [
    "type(korra_episodes_data_episodes)"
   ]
  },
  {
   "cell_type": "code",
   "execution_count": 42,
   "metadata": {},
   "outputs": [
    {
     "name": "stdout",
     "output_type": "stream",
     "text": [
      "dict_keys([4, 1, 2, 3])\n"
     ]
    }
   ],
   "source": [
    "print(korra_episodes_data_episodes.keys())"
   ]
  },
  {
   "cell_type": "code",
   "execution_count": 43,
   "metadata": {},
   "outputs": [
    {
     "name": "stdout",
     "output_type": "stream",
     "text": [
      "{4: {1: <Movie id:4030586[http] title:_\"The Legend of Korra (TV Series 2012–2014) - IMDb\" After All These Years (2014)_>, 2: <Movie id:4030588[http] title:_\"The Legend of Korra (TV Series 2012–2014) - IMDb\" Korra Alone (2014)_>, 3: <Movie id:4030590[http] title:_\"The Legend of Korra (TV Series 2012–2014) - IMDb\" The Coronation (2014)_>, 4: <Movie id:4030596[http] title:_\"The Legend of Korra (TV Series 2012–2014) - IMDb\" The Calling (2014)_>, 5: <Movie id:4108622[http] title:_\"The Legend of Korra (TV Series 2012–2014) - IMDb\" Enemy at the Gates (2014)_>, 6: <Movie id:4122656[http] title:_\"The Legend of Korra (TV Series 2012–2014) - IMDb\" The Battle of Zaofu (2014)_>, 7: <Movie id:4122662[http] title:_\"The Legend of Korra (TV Series 2012–2014) - IMDb\" Reunion (2014)_>, 8: <Movie id:4122672[http] title:_\"The Legend of Korra (TV Series 2012–2014) - IMDb\" Remembrances (2014)_>, 9: <Movie id:4122680[http] title:_\"The Legend of Korra (TV Series 2012–2014) - IMDb\" Beyond the Wilds (2014)_>, 10: <Movie id:4122678[http] title:_\"The Legend of Korra (TV Series 2012–2014) - IMDb\" Operation Beifong (2014)_>, 11: <Movie id:4122688[http] title:_\"The Legend of Korra (TV Series 2012–2014) - IMDb\" Kuvira's Gambit (2014)_>, 12: <Movie id:4122690[http] title:_\"The Legend of Korra (TV Series 2012–2014) - IMDb\" Day of the Colossus (2014)_>, 13: <Movie id:4122708[http] title:_\"The Legend of Korra (TV Series 2012–2014) - IMDb\" The Last Stand (2014)_>}, 1: {1: <Movie id:2150017[http] title:_\"The Legend of Korra (TV Series 2012–2014) - IMDb\" Welcome to Republic City (2012)_>, 2: <Movie id:2315621[http] title:_\"The Legend of Korra (TV Series 2012–2014) - IMDb\" A Leaf in the Wind (2012)_>, 3: <Movie id:2388409[http] title:_\"The Legend of Korra (TV Series 2012–2014) - IMDb\" The Revelation (2012)_>, 4: <Movie id:2353307[http] title:_\"The Legend of Korra (TV Series 2012–2014) - IMDb\" The Voice in the Night (2012)_>, 5: <Movie id:2353317[http] title:_\"The Legend of Korra (TV Series 2012–2014) - IMDb\" The Spirit of Competition (2012)_>, 6: <Movie id:2353315[http] title:_\"The Legend of Korra (TV Series 2012–2014) - IMDb\" And the Winner Is... (2012)_>, 7: <Movie id:2353309[http] title:_\"The Legend of Korra (TV Series 2012–2014) - IMDb\" The Aftermath (2012)_>, 8: <Movie id:2353311[http] title:_\"The Legend of Korra (TV Series 2012–2014) - IMDb\" When Extremes Meet (2012)_>, 9: <Movie id:2353313[http] title:_\"The Legend of Korra (TV Series 2012–2014) - IMDb\" Out of the Past (2012)_>, 10: <Movie id:2353305[http] title:_\"The Legend of Korra (TV Series 2012–2014) - IMDb\" Turning the Tides (2012)_>, 11: <Movie id:2198968[http] title:_\"The Legend of Korra (TV Series 2012–2014) - IMDb\" Skeletons in the Closet (2012)_>, 12: <Movie id:2198738[http] title:_\"The Legend of Korra (TV Series 2012–2014) - IMDb\" Endgame (2012)_>}, 2: {1: <Movie id:2268096[http] title:_\"The Legend of Korra (TV Series 2012–2014) - IMDb\" Rebel Spirit (2013)_>, 2: <Movie id:2268100[http] title:_\"The Legend of Korra (TV Series 2012–2014) - IMDb\" The Southern Lights (2013)_>, 3: <Movie id:2268104[http] title:_\"The Legend of Korra (TV Series 2012–2014) - IMDb\" Civil Wars: Part 1 (2013)_>, 4: <Movie id:2268114[http] title:_\"The Legend of Korra (TV Series 2012–2014) - IMDb\" Civil Wars: Part 2 (2013)_>, 5: <Movie id:2268102[http] title:_\"The Legend of Korra (TV Series 2012–2014) - IMDb\" Peacekeepers (2013)_>, 6: <Movie id:2268108[http] title:_\"The Legend of Korra (TV Series 2012–2014) - IMDb\" The Sting (2013)_>, 7: <Movie id:2268118[http] title:_\"The Legend of Korra (TV Series 2012–2014) - IMDb\" Beginnings, Part 1 (2013)_>, 8: <Movie id:2268126[http] title:_\"The Legend of Korra (TV Series 2012–2014) - IMDb\" Beginnings, Part 2 (2013)_>, 9: <Movie id:2268120[http] title:_\"The Legend of Korra (TV Series 2012–2014) - IMDb\" The Guide (2013)_>, 10: <Movie id:2268124[http] title:_\"The Legend of Korra (TV Series 2012–2014) - IMDb\" A New Spiritual Age (2013)_>, 11: <Movie id:2268116[http] title:_\"The Legend of Korra (TV Series 2012–2014) - IMDb\" Night of a Thousand Stars (2013)_>, 12: <Movie id:2268112[http] title:_\"The Legend of Korra (TV Series 2012–2014) - IMDb\" Harmonic Convergence (2013)_>, 13: <Movie id:2268110[http] title:_\"The Legend of Korra (TV Series 2012–2014) - IMDb\" Darkness Falls (2013)_>, 14: <Movie id:2268122[http] title:_\"The Legend of Korra (TV Series 2012–2014) - IMDb\" Light in the Dark (2013)_>}, 3: {1: <Movie id:3550190[http] title:_\"The Legend of Korra (TV Series 2012–2014) - IMDb\" A Breath of Fresh Air (2014)_>, 2: <Movie id:3797652[http] title:_\"The Legend of Korra (TV Series 2012–2014) - IMDb\" Rebirth (2014)_>, 3: <Movie id:3797656[http] title:_\"The Legend of Korra (TV Series 2012–2014) - IMDb\" The Earth Queen (2014)_>, 4: <Movie id:3797654[http] title:_\"The Legend of Korra (TV Series 2012–2014) - IMDb\" In Harm's Way (2014)_>, 5: <Movie id:3797658[http] title:_\"The Legend of Korra (TV Series 2012–2014) - IMDb\" The Metal Clan (2014)_>, 6: <Movie id:3797660[http] title:_\"The Legend of Korra (TV Series 2012–2014) - IMDb\" Old Wounds (2014)_>, 7: <Movie id:3859534[http] title:_\"The Legend of Korra (TV Series 2012–2014) - IMDb\" Original Airbenders (2014)_>, 8: <Movie id:3865208[http] title:_\"The Legend of Korra (TV Series 2012–2014) - IMDb\" The Terror Within (2014)_>, 9: <Movie id:3865210[http] title:_\"The Legend of Korra (TV Series 2012–2014) - IMDb\" The Stakeout (2014)_>, 10: <Movie id:3865212[http] title:_\"The Legend of Korra (TV Series 2012–2014) - IMDb\" Long Live the Queen (2014)_>, 11: <Movie id:3865214[http] title:_\"The Legend of Korra (TV Series 2012–2014) - IMDb\" The Ultimatum (2014)_>, 12: <Movie id:3865216[http] title:_\"The Legend of Korra (TV Series 2012–2014) - IMDb\" Enter the Void (2014)_>, 13: <Movie id:3865220[http] title:_\"The Legend of Korra (TV Series 2012–2014) - IMDb\" Venom of the Red Lotus (2014)_>}}\n"
     ]
    }
   ],
   "source": [
    "print(korra_episodes_data_episodes)"
   ]
  },
  {
   "cell_type": "code",
   "execution_count": 44,
   "metadata": {},
   "outputs": [
    {
     "data": {
      "text/plain": [
       "{1: <Movie id:2150017[http] title:_\"The Legend of Korra (TV Series 2012–2014) - IMDb\" Welcome to Republic City (2012)_>,\n",
       " 2: <Movie id:2315621[http] title:_\"The Legend of Korra (TV Series 2012–2014) - IMDb\" A Leaf in the Wind (2012)_>,\n",
       " 3: <Movie id:2388409[http] title:_\"The Legend of Korra (TV Series 2012–2014) - IMDb\" The Revelation (2012)_>,\n",
       " 4: <Movie id:2353307[http] title:_\"The Legend of Korra (TV Series 2012–2014) - IMDb\" The Voice in the Night (2012)_>,\n",
       " 5: <Movie id:2353317[http] title:_\"The Legend of Korra (TV Series 2012–2014) - IMDb\" The Spirit of Competition (2012)_>,\n",
       " 6: <Movie id:2353315[http] title:_\"The Legend of Korra (TV Series 2012–2014) - IMDb\" And the Winner Is... (2012)_>,\n",
       " 7: <Movie id:2353309[http] title:_\"The Legend of Korra (TV Series 2012–2014) - IMDb\" The Aftermath (2012)_>,\n",
       " 8: <Movie id:2353311[http] title:_\"The Legend of Korra (TV Series 2012–2014) - IMDb\" When Extremes Meet (2012)_>,\n",
       " 9: <Movie id:2353313[http] title:_\"The Legend of Korra (TV Series 2012–2014) - IMDb\" Out of the Past (2012)_>,\n",
       " 10: <Movie id:2353305[http] title:_\"The Legend of Korra (TV Series 2012–2014) - IMDb\" Turning the Tides (2012)_>,\n",
       " 11: <Movie id:2198968[http] title:_\"The Legend of Korra (TV Series 2012–2014) - IMDb\" Skeletons in the Closet (2012)_>,\n",
       " 12: <Movie id:2198738[http] title:_\"The Legend of Korra (TV Series 2012–2014) - IMDb\" Endgame (2012)_>}"
      ]
     },
     "execution_count": 44,
     "metadata": {},
     "output_type": "execute_result"
    }
   ],
   "source": [
    "korra_episodes_data_episodes.get(1)"
   ]
  },
  {
   "cell_type": "code",
   "execution_count": 45,
   "metadata": {
    "collapsed": true
   },
   "outputs": [],
   "source": [
    "korra_episodes_data_episodes_se1 = korra_episodes_data_episodes.get(1)"
   ]
  },
  {
   "cell_type": "code",
   "execution_count": 46,
   "metadata": {},
   "outputs": [
    {
     "data": {
      "text/plain": [
       "{1: <Movie id:2150017[http] title:_\"The Legend of Korra (TV Series 2012–2014) - IMDb\" Welcome to Republic City (2012)_>,\n",
       " 2: <Movie id:2315621[http] title:_\"The Legend of Korra (TV Series 2012–2014) - IMDb\" A Leaf in the Wind (2012)_>,\n",
       " 3: <Movie id:2388409[http] title:_\"The Legend of Korra (TV Series 2012–2014) - IMDb\" The Revelation (2012)_>,\n",
       " 4: <Movie id:2353307[http] title:_\"The Legend of Korra (TV Series 2012–2014) - IMDb\" The Voice in the Night (2012)_>,\n",
       " 5: <Movie id:2353317[http] title:_\"The Legend of Korra (TV Series 2012–2014) - IMDb\" The Spirit of Competition (2012)_>,\n",
       " 6: <Movie id:2353315[http] title:_\"The Legend of Korra (TV Series 2012–2014) - IMDb\" And the Winner Is... (2012)_>,\n",
       " 7: <Movie id:2353309[http] title:_\"The Legend of Korra (TV Series 2012–2014) - IMDb\" The Aftermath (2012)_>,\n",
       " 8: <Movie id:2353311[http] title:_\"The Legend of Korra (TV Series 2012–2014) - IMDb\" When Extremes Meet (2012)_>,\n",
       " 9: <Movie id:2353313[http] title:_\"The Legend of Korra (TV Series 2012–2014) - IMDb\" Out of the Past (2012)_>,\n",
       " 10: <Movie id:2353305[http] title:_\"The Legend of Korra (TV Series 2012–2014) - IMDb\" Turning the Tides (2012)_>,\n",
       " 11: <Movie id:2198968[http] title:_\"The Legend of Korra (TV Series 2012–2014) - IMDb\" Skeletons in the Closet (2012)_>,\n",
       " 12: <Movie id:2198738[http] title:_\"The Legend of Korra (TV Series 2012–2014) - IMDb\" Endgame (2012)_>}"
      ]
     },
     "execution_count": 46,
     "metadata": {},
     "output_type": "execute_result"
    }
   ],
   "source": [
    "korra_episodes_data_episodes_se1"
   ]
  },
  {
   "cell_type": "code",
   "execution_count": 47,
   "metadata": {},
   "outputs": [
    {
     "name": "stdout",
     "output_type": "stream",
     "text": [
      "<class 'dict'>\n"
     ]
    }
   ],
   "source": [
    "print(type(korra_episodes_data_episodes_se1))"
   ]
  },
  {
   "cell_type": "code",
   "execution_count": 48,
   "metadata": {},
   "outputs": [
    {
     "data": {
      "text/plain": [
       "dict_keys([1, 2, 3, 4, 5, 6, 7, 8, 9, 10, 11, 12])"
      ]
     },
     "execution_count": 48,
     "metadata": {},
     "output_type": "execute_result"
    }
   ],
   "source": [
    "korra_episodes_data_episodes_se1.keys()"
   ]
  },
  {
   "cell_type": "code",
   "execution_count": 49,
   "metadata": {
    "collapsed": true
   },
   "outputs": [],
   "source": [
    "korra_episodes_data_episodes_se1_ep1 = korra_episodes_data_episodes_se1.get(1)"
   ]
  },
  {
   "cell_type": "code",
   "execution_count": 50,
   "metadata": {},
   "outputs": [
    {
     "data": {
      "text/plain": [
       "<Movie id:2150017[http] title:_\"The Legend of Korra (TV Series 2012–2014) - IMDb\" Welcome to Republic City (2012)_>"
      ]
     },
     "execution_count": 50,
     "metadata": {},
     "output_type": "execute_result"
    }
   ],
   "source": [
    "korra_episodes_data_episodes_se1_ep1"
   ]
  },
  {
   "cell_type": "code",
   "execution_count": 51,
   "metadata": {},
   "outputs": [
    {
     "data": {
      "text/plain": [
       "imdb.Movie.Movie"
      ]
     },
     "execution_count": 51,
     "metadata": {},
     "output_type": "execute_result"
    }
   ],
   "source": [
    "#for these types of objects, put a period and then use tab to identify what options you have\n",
    "type(korra_episodes_data_episodes_se1_ep1)"
   ]
  },
  {
   "cell_type": "code",
   "execution_count": 52,
   "metadata": {},
   "outputs": [
    {
     "data": {
      "text/plain": [
       "{'episode': 1,\n",
       " 'episode of': <Movie id:1695360[http] title:_\"The Legend of Korra (TV Series 2012–2014) - IMDb\" (None)_>,\n",
       " 'kind': 'episode',\n",
       " 'original air date': '14 Apr. 2012',\n",
       " 'plot': '\\n    Korra, the new Avatar, travels to Republic city to start her Airbending training.    ',\n",
       " 'rating': 8.501234567891,\n",
       " 'season': 1,\n",
       " 'title': 'Welcome to Republic City',\n",
       " 'votes': 1744,\n",
       " 'year': '2012'}"
      ]
     },
     "execution_count": 52,
     "metadata": {},
     "output_type": "execute_result"
    }
   ],
   "source": [
    "#used this to identify the data aspect which has all the info I think I'm looking for\n",
    "korra_episodes_data_episodes_se1_ep1.data"
   ]
  },
  {
   "cell_type": "code",
   "execution_count": null,
   "metadata": {
    "collapsed": true
   },
   "outputs": [],
   "source": [
    "type(korra_episodes_data_episodes_se1_ep1.data)"
   ]
  },
  {
   "cell_type": "code",
   "execution_count": 53,
   "metadata": {},
   "outputs": [
    {
     "data": {
      "text/plain": [
       "{'episode': 1,\n",
       " 'episode of': <Movie id:1695360[http] title:_\"The Legend of Korra (TV Series 2012–2014) - IMDb\" (None)_>,\n",
       " 'kind': 'episode',\n",
       " 'original air date': '14 Apr. 2012',\n",
       " 'plot': '\\n    Korra, the new Avatar, travels to Republic city to start her Airbending training.    ',\n",
       " 'rating': 8.501234567891,\n",
       " 'season': 1,\n",
       " 'title': 'Welcome to Republic City',\n",
       " 'votes': 1744,\n",
       " 'year': '2012'}"
      ]
     },
     "execution_count": 53,
     "metadata": {},
     "output_type": "execute_result"
    }
   ],
   "source": [
    "korra_episodes_data_episodes_se1_ep1.data"
   ]
  },
  {
   "cell_type": "code",
   "execution_count": null,
   "metadata": {
    "collapsed": true
   },
   "outputs": [],
   "source": [
    "#https://stackoverflow.com/questions/55500337/getting-movie-id-from-filmography-in-imdbpy-results"
   ]
  },
  {
   "cell_type": "code",
   "execution_count": null,
   "metadata": {
    "collapsed": true
   },
   "outputs": [],
   "source": [
    "korra_se1_ep1 = korra_episodes_data_episodes_se1_ep1.data"
   ]
  },
  {
   "cell_type": "code",
   "execution_count": null,
   "metadata": {
    "collapsed": true
   },
   "outputs": [],
   "source": [
    "#pop the episode of seemed to help because it was messing up converting it to a data frame.  \n",
    "#but might need it to be able to get all the data needed.\n",
    "korra_se1_ep1.pop(\"episode of\")"
   ]
  },
  {
   "cell_type": "code",
   "execution_count": null,
   "metadata": {
    "collapsed": true
   },
   "outputs": [],
   "source": [
    "df_se1_ep1_v2 = pd.DataFrame(korra_se1_ep1, index = [0])"
   ]
  },
  {
   "cell_type": "code",
   "execution_count": null,
   "metadata": {
    "collapsed": true
   },
   "outputs": [],
   "source": [
    "df_se1_ep1_v2"
   ]
  },
  {
   "cell_type": "code",
   "execution_count": null,
   "metadata": {
    "collapsed": true
   },
   "outputs": [],
   "source": [
    " my_dict ={'episode': 1,\n",
    " 'kind': 'episode',\n",
    " 'original air date': '14 Apr. 2012',\n",
    " 'plot': '\\n    Korra, the new Avatar, travels to Republic city to start her Airbending training.    ',\n",
    " 'rating': 8.501234567891,\n",
    " 'season': 1,\n",
    " 'title': 'Welcome to Republic City',\n",
    " 'votes': 1744,\n",
    " 'year': '2012'}"
   ]
  },
  {
   "cell_type": "code",
   "execution_count": null,
   "metadata": {
    "collapsed": true
   },
   "outputs": [],
   "source": [
    "df_se1_ep1 = pd.DataFrame(my_dict, index = [0])"
   ]
  },
  {
   "cell_type": "code",
   "execution_count": null,
   "metadata": {
    "collapsed": true
   },
   "outputs": [],
   "source": [
    "df_se1_ep1"
   ]
  },
  {
   "cell_type": "code",
   "execution_count": null,
   "metadata": {
    "collapsed": true
   },
   "outputs": [],
   "source": [
    "korra_df_se1_ep1 = pd.DataFrame(korra_episodes_data_episodes_se1_ep1.data,index=[0])"
   ]
  },
  {
   "cell_type": "code",
   "execution_count": null,
   "metadata": {
    "collapsed": true
   },
   "outputs": [],
   "source": [
    "korra_df_se1_ep1_clean = "
   ]
  },
  {
   "cell_type": "code",
   "execution_count": null,
   "metadata": {
    "collapsed": true
   },
   "outputs": [],
   "source": [
    "korra_df_se1_ep1.head()"
   ]
  },
  {
   "cell_type": "code",
   "execution_count": null,
   "metadata": {
    "collapsed": true
   },
   "outputs": [],
   "source": [
    "#Allows you gto get the ID from individual stuff let's go back and try that... \n",
    "korra_episodes_data_episodes_se1_ep1.getID()"
   ]
  },
  {
   "cell_type": "code",
   "execution_count": null,
   "metadata": {
    "collapsed": true
   },
   "outputs": [],
   "source": []
  },
  {
   "cell_type": "code",
   "execution_count": null,
   "metadata": {
    "collapsed": true
   },
   "outputs": [],
   "source": [
    "korra_df_se1.head()"
   ]
  },
  {
   "cell_type": "code",
   "execution_count": null,
   "metadata": {
    "collapsed": true
   },
   "outputs": [],
   "source": [
    "korra_df.head()"
   ]
  },
  {
   "cell_type": "code",
   "execution_count": null,
   "metadata": {
    "collapsed": true
   },
   "outputs": [],
   "source": [
    "korra_episodes[0][0]"
   ]
  },
  {
   "cell_type": "code",
   "execution_count": null,
   "metadata": {
    "collapsed": true
   },
   "outputs": [],
   "source": [
    "print(korra_episodes)"
   ]
  },
  {
   "cell_type": "code",
   "execution_count": null,
   "metadata": {
    "collapsed": true
   },
   "outputs": [],
   "source": [
    "import pandas as pd"
   ]
  },
  {
   "cell_type": "code",
   "execution_count": null,
   "metadata": {
    "collapsed": true
   },
   "outputs": [],
   "source": [
    "korra_df = pd.DataFrame.from_dict(korra_episodes,orient = 'index')"
   ]
  },
  {
   "cell_type": "code",
   "execution_count": null,
   "metadata": {
    "collapsed": true
   },
   "outputs": [],
   "source": [
    "korra_df.head()"
   ]
  },
  {
   "cell_type": "code",
   "execution_count": null,
   "metadata": {
    "collapsed": true
   },
   "outputs": [],
   "source": [
    "korra_df.head()"
   ]
  },
  {
   "cell_type": "code",
   "execution_count": null,
   "metadata": {
    "collapsed": true
   },
   "outputs": [],
   "source": [
    "tv_show[0]"
   ]
  },
  {
   "cell_type": "code",
   "execution_count": null,
   "metadata": {
    "collapsed": true
   },
   "outputs": [],
   "source": [
    "print(my_str,sep = '_')"
   ]
  },
  {
   "cell_type": "code",
   "execution_count": null,
   "metadata": {
    "collapsed": true
   },
   "outputs": [],
   "source": [
    "my_list = [<Movie id:0499549[http] title:_Avatar (2009)_>, <Movie id:0417299[http] title:_\"Avatar: The Last Airbender\" (2005)_>, <Movie id:0120347[http] title:_Tomorrow Never Dies (1997)_>, <Movie id:1630029[http] title:_Avatar 2 (2021)_>, <Movie id:1695360[http] title:_\"The Legend of Korra\" (2012)_>, <Movie id:0938283[http] title:_The Last Airbender (2010)_>, <Movie id:1133985[http] title:_Green Lantern (2011)_>, <Movie id:9018736[http] title:_\"Avatar: The Last Airbender\" (None)_>, <Movie id:1757678[http] title:_Avatar 3 (2023)_>, <Movie id:5637536[http] title:_Avatar 5 (2027)_>, <Movie id:3095356[http] title:_Avatar 4 (2025)_>, <Movie id:2926746[http] title:_\"The Avatars\" (2013)_>, <Movie id:6859260[http] title:_\"The King's Avatar\" (2017)_>, <Movie id:4727514[http] title:_The Last Avatar (2014)_>, <Movie id:1775309[http] title:_Avatar (2011)_>, <Movie id:1900832[http] title:_Avatar Spirits (2010)_>, <Movie id:1517155[http] title:_Avatar: The Game (2009) (VG)_>, <Movie id:10732794[http] title:_\"The King's Avatar\" (2019)_>, <Movie id:5863892[http] title:_Avatar (2016) (V)_>, <Movie id:0497595[http] title:_Avatar (2005)_>]"
   ]
  },
  {
   "cell_type": "code",
   "execution_count": null,
   "metadata": {
    "collapsed": true
   },
   "outputs": [],
   "source": [
    "for genre in tv_show['genres']:\n",
    "    print[genre]"
   ]
  },
  {
   "cell_type": "code",
   "execution_count": null,
   "metadata": {
    "collapsed": true
   },
   "outputs": [],
   "source": [
    "for i in range(len(tv_show)):\n",
    "    print(tv_show[i])"
   ]
  },
  {
   "cell_type": "code",
   "execution_count": null,
   "metadata": {
    "collapsed": true
   },
   "outputs": [],
   "source": [
    "korra = ia.get_movie('1695360')\n",
    "atla = ia.get_movie('0417299')\n",
    "sample = ia.get_movie('0389564')"
   ]
  },
  {
   "cell_type": "code",
   "execution_count": null,
   "metadata": {
    "collapsed": true
   },
   "outputs": [],
   "source": [
    "print(korra['kind'])\n",
    "print(atla['kind'])\n",
    "print(sample['kind'])"
   ]
  },
  {
   "cell_type": "code",
   "execution_count": null,
   "metadata": {
    "collapsed": true
   },
   "outputs": [],
   "source": [
    "imdb.helpers()"
   ]
  },
  {
   "cell_type": "code",
   "execution_count": null,
   "metadata": {
    "collapsed": true
   },
   "outputs": [],
   "source": [
    "print(korra.infoset2keys)\n",
    "print()\n",
    "print(sample.infoset2keys)"
   ]
  },
  {
   "cell_type": "code",
   "execution_count": null,
   "metadata": {
    "collapsed": true
   },
   "outputs": [],
   "source": [
    "korra['kind']"
   ]
  },
  {
   "cell_type": "code",
   "execution_count": null,
   "metadata": {
    "collapsed": true
   },
   "outputs": [],
   "source": [
    "ia.update(korra,'episodes')"
   ]
  },
  {
   "cell_type": "code",
   "execution_count": null,
   "metadata": {
    "collapsed": true
   },
   "outputs": [],
   "source": [
    "sorted(korra['episodes'].keys())"
   ]
  },
  {
   "cell_type": "code",
   "execution_count": null,
   "metadata": {
    "collapsed": true
   },
   "outputs": [],
   "source": [
    "season1 = korra['episodes'][1]"
   ]
  },
  {
   "cell_type": "code",
   "execution_count": null,
   "metadata": {
    "collapsed": true
   },
   "outputs": [],
   "source": [
    "len(season1)"
   ]
  },
  {
   "cell_type": "code",
   "execution_count": null,
   "metadata": {
    "collapsed": true
   },
   "outputs": [],
   "source": [
    "type(season1)"
   ]
  },
  {
   "cell_type": "code",
   "execution_count": null,
   "metadata": {
    "collapsed": true
   },
   "outputs": [],
   "source": [
    "print(season1)"
   ]
  },
  {
   "cell_type": "code",
   "execution_count": null,
   "metadata": {
    "collapsed": true
   },
   "outputs": [],
   "source": [
    "type(season1)"
   ]
  },
  {
   "cell_type": "code",
   "execution_count": null,
   "metadata": {
    "collapsed": true
   },
   "outputs": [],
   "source": [
    "#get good at pandas to dict"
   ]
  },
  {
   "cell_type": "code",
   "execution_count": null,
   "metadata": {
    "collapsed": true
   },
   "outputs": [],
   "source": []
  },
  {
   "cell_type": "code",
   "execution_count": null,
   "metadata": {
    "collapsed": true
   },
   "outputs": [],
   "source": [
    "for i in range(len(season1)):\n",
    "    print(season1[i])"
   ]
  },
  {
   "cell_type": "code",
   "execution_count": null,
   "metadata": {
    "collapsed": true
   },
   "outputs": [],
   "source": [
    "episode1 = ia.get_movie('2150017')"
   ]
  },
  {
   "cell_type": "code",
   "execution_count": null,
   "metadata": {
    "collapsed": true
   },
   "outputs": [],
   "source": [
    "print(episode1['title'])\n",
    "print(episode1['series title'])\n",
    "print(episode1['episode of'])"
   ]
  },
  {
   "cell_type": "code",
   "execution_count": null,
   "metadata": {
    "collapsed": true
   },
   "outputs": [],
   "source": [
    "episode1.analyze_title('\"The Legend of Korra\" Welcome to Republic City')"
   ]
  },
  {
   "cell_type": "code",
   "execution_count": null,
   "metadata": {
    "collapsed": true
   },
   "outputs": [],
   "source": [
    "episode1['rating']"
   ]
  },
  {
   "cell_type": "code",
   "execution_count": null,
   "metadata": {
    "collapsed": true
   },
   "outputs": [],
   "source": [
    "episode = ia.get_movie('0502803')"
   ]
  },
  {
   "cell_type": "code",
   "execution_count": null,
   "metadata": {
    "collapsed": true
   },
   "outputs": [],
   "source": [
    "episode['episode of']"
   ]
  },
  {
   "cell_type": "code",
   "execution_count": null,
   "metadata": {
    "collapsed": true
   },
   "outputs": [],
   "source": [
    "print(korra['episodes'])"
   ]
  },
  {
   "cell_type": "code",
   "execution_count": null,
   "metadata": {
    "collapsed": true
   },
   "outputs": [],
   "source": [
    "korra['akas']"
   ]
  },
  {
   "cell_type": "code",
   "execution_count": null,
   "metadata": {
    "collapsed": true
   },
   "outputs": [],
   "source": [
    "print(korra.get('synopsis'))"
   ]
  },
  {
   "cell_type": "code",
   "execution_count": null,
   "metadata": {
    "collapsed": true
   },
   "outputs": [],
   "source": [
    "korra['kind']"
   ]
  },
  {
   "cell_type": "code",
   "execution_count": null,
   "metadata": {
    "collapsed": true
   },
   "outputs": [],
   "source": [
    "actors = korra['cast']"
   ]
  },
  {
   "cell_type": "code",
   "execution_count": null,
   "metadata": {
    "collapsed": true
   },
   "outputs": [],
   "source": [
    "print(actors)"
   ]
  },
  {
   "cell_type": "code",
   "execution_count": null,
   "metadata": {
    "collapsed": true
   },
   "outputs": [],
   "source": [
    "for i in range(len(actors)):\n",
    "    print(actors[i])"
   ]
  },
  {
   "cell_type": "code",
   "execution_count": null,
   "metadata": {
    "collapsed": true
   },
   "outputs": [],
   "source": [
    "joss_wedon = ia.search_person('whedon')"
   ]
  },
  {
   "cell_type": "code",
   "execution_count": null,
   "metadata": {
    "collapsed": true
   },
   "outputs": [],
   "source": [
    "print(joss_wedon)"
   ]
  },
  {
   "cell_type": "code",
   "execution_count": null,
   "metadata": {
    "collapsed": true
   },
   "outputs": [],
   "source": [
    "for i in range(len(joss_wedon)):\n",
    "    print(joss_wedon[i])"
   ]
  },
  {
   "cell_type": "code",
   "execution_count": null,
   "metadata": {
    "collapsed": true
   },
   "outputs": [],
   "source": [
    "top = ia.get_top250_movies()"
   ]
  },
  {
   "cell_type": "code",
   "execution_count": null,
   "metadata": {
    "collapsed": true
   },
   "outputs": [],
   "source": [
    "for i in range(len(top)):\n",
    "    print(top[i])"
   ]
  }
 ],
 "metadata": {
  "kernelspec": {
   "display_name": "Python 3",
   "language": "python",
   "name": "python3"
  },
  "language_info": {
   "codemirror_mode": {
    "name": "ipython",
    "version": 3
   },
   "file_extension": ".py",
   "mimetype": "text/x-python",
   "name": "python",
   "nbconvert_exporter": "python",
   "pygments_lexer": "ipython3",
   "version": "3.6.3"
  }
 },
 "nbformat": 4,
 "nbformat_minor": 2
}
